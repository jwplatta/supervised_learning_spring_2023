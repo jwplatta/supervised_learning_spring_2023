{
 "cells": [
  {
   "cell_type": "code",
   "execution_count": 51,
   "id": "99b9d65a",
   "metadata": {},
   "outputs": [
    {
     "name": "stdout",
     "output_type": "stream",
     "text": [
      "The autoreload extension is already loaded. To reload it, use:\n",
      "  %reload_ext autoreload\n"
     ]
    }
   ],
   "source": [
    "import sys\n",
    "import os\n",
    "sys.path.append(\"../\")\n",
    "import time\n",
    "\n",
    "from src.datasets.SNLIData import SNLIData\n",
    "\n",
    "from sklearn.tree import DecisionTreeClassifier\n",
    "from sklearn.neighbors import KNeighborsClassifier\n",
    "from sklearn.ensemble import AdaBoostClassifier\n",
    "from sklearn.svm import SVC, LinearSVC\n",
    "from sklearn.model_selection import train_test_split\n",
    "from sklearn.tree import plot_tree\n",
    "from sklearn.metrics import recall_score, make_scorer\n",
    "\n",
    "import torch\n",
    "from torch import nn\n",
    "\n",
    "import matplotlib.pyplot as plt\n",
    "import numpy as np\n",
    "import seaborn as sns\n",
    "import pandas as pd\n",
    "\n",
    "from src.models.NeuralNetwork import NeuralNetworkClassifier\n",
    "\n",
    "from src.plots.CrossValidationFolds import CrossValidationFolds\n",
    "from src.plots.ValidationCurve import ValidationCurve as ValidationCurvePlot\n",
    "from src.plots.Histogram import Histogram\n",
    "from src.plots.LearningCurve import LearningCurve as LearningCurvePlot\n",
    "from src.plots.ClassificationReport import ClassificationReport\n",
    "from src.plots.ConfusionMatrix import ConfusionMatrix\n",
    "from src.plots.ScatterPlot import ScatterPlot\n",
    "from src.plots.CompareFitScoreTimes import CompareFitScoreTimes\n",
    "from src.plots.BoostingIterations import BoostingIterations as BoostingIterationsPlot\n",
    "from src.plots.LearningEpochsCurve import LearningEpochsCurve as LearningEpochsCurvePlot\n",
    "\n",
    "from src.experiments.CrossValidation import CrossValidation\n",
    "from src.experiments.ValidationCurve import ValidationCurve\n",
    "from src.experiments.ModelEvaluation import ModelEvaluation\n",
    "from src.experiments.LearningCurve import LearningCurve\n",
    "from src.experiments.BoostingIterations import BoostingIterations\n",
    "from src.experiments.LearningCurveEpochs import LearningCurveEpochs\n",
    "\n",
    "\n",
    "%matplotlib inline\n",
    "%load_ext autoreload\n",
    "%autoreload 2"
   ]
  },
  {
   "cell_type": "code",
   "execution_count": 2,
   "id": "8f755ed7",
   "metadata": {},
   "outputs": [],
   "source": [
    "plt.style.use('seaborn')"
   ]
  },
  {
   "cell_type": "code",
   "execution_count": 3,
   "id": "cf5322fd",
   "metadata": {},
   "outputs": [
    {
     "name": "stderr",
     "output_type": "stream",
     "text": [
      "100%|█████████████████████████████████████████████████████████████████████████████████████████████████████████████████████████████████████████████| 549367/549367 [00:46<00:00, 11781.69it/s]\n",
      "100%|█████████████████████████████████████████████████████████████████████████████████████████████████████████████████████████████████████████████████| 9824/9824 [00:00<00:00, 11519.83it/s]\n"
     ]
    }
   ],
   "source": [
    "random_state = 279\n",
    "snli_data = snli_data = SNLIData(random_state=random_state)"
   ]
  },
  {
   "cell_type": "code",
   "execution_count": 4,
   "id": "2b73af78",
   "metadata": {},
   "outputs": [],
   "source": [
    "X_train, X_val, y_train, y_val = train_test_split(\n",
    "    snli_data.X_train, \n",
    "    snli_data.y_train, \n",
    "    train_size=100000, \n",
    "    test_size=100000, \n",
    "    random_state=random_state\n",
    ")\n",
    "\n",
    "X_train = X_train.reset_index(drop=True)\n",
    "y_train = y_train.reset_index(drop=True)\n",
    "\n",
    "X_val = X_val.reset_index(drop=True)\n",
    "y_val = y_val.reset_index(drop=True)"
   ]
  },
  {
   "cell_type": "code",
   "execution_count": 5,
   "id": "e695f32b",
   "metadata": {},
   "outputs": [],
   "source": [
    "def recall_entailment_contradiction(y_true, y_pred):\n",
    "    return recall_score(y_true, y_pred, labels=[0, 1], average='macro')\n",
    "\n",
    "recall_scorer = make_scorer(recall_entailment_contradiction)"
   ]
  },
  {
   "cell_type": "code",
   "execution_count": 76,
   "id": "02ab9ca4",
   "metadata": {},
   "outputs": [],
   "source": [
    "X_train_samp, _, y_train_samp, _ = train_test_split(X_train, y_train, train_size=10000, random_state=random_state)\n",
    "X_train_samp = X_train_samp.reset_index(drop=True)\n",
    "y_train_samp = y_train_samp.reset_index(drop=True)"
   ]
  },
  {
   "cell_type": "markdown",
   "id": "72eb693b",
   "metadata": {},
   "source": [
    "## Data Exploration"
   ]
  },
  {
   "cell_type": "code",
   "execution_count": 6,
   "id": "cf25e224",
   "metadata": {},
   "outputs": [
    {
     "data": {
      "text/plain": [
       "['contradiction', 'entailment', 'neutral']"
      ]
     },
     "execution_count": 6,
     "metadata": {},
     "output_type": "execute_result"
    }
   ],
   "source": [
    "snli_data.classes"
   ]
  },
  {
   "cell_type": "code",
   "execution_count": 7,
   "id": "c20d58b0",
   "metadata": {
    "scrolled": true
   },
   "outputs": [],
   "source": [
    "class_balance_plot = Histogram(\n",
    "    y_train, \n",
    "    labels=y_train, \n",
    "    xticks=snli_data.classes,\n",
    "    title=\"Target Class Balance\"\n",
    ")"
   ]
  },
  {
   "cell_type": "code",
   "execution_count": 8,
   "id": "24024a44",
   "metadata": {},
   "outputs": [],
   "source": [
    "ft81_hist_plot = Histogram(\n",
    "    X_train['feature_81'],\n",
    "    feature_name='feature_81',\n",
    "    labels=y_train, \n",
    "    bins=100,\n",
    "    label_names=snli_data.classes,\n",
    "    legend=True\n",
    ")"
   ]
  },
  {
   "cell_type": "code",
   "execution_count": 9,
   "id": "be4f9f69",
   "metadata": {},
   "outputs": [],
   "source": [
    "ft9_hist_plot = Histogram(\n",
    "    X_train['feature_9'],\n",
    "    feature_name='feature_9',\n",
    "    labels=y_train, \n",
    "    bins=100,\n",
    "    label_names=snli_data.classes,\n",
    "    legend=True\n",
    ")"
   ]
  },
  {
   "cell_type": "code",
   "execution_count": 10,
   "id": "174c569d",
   "metadata": {},
   "outputs": [],
   "source": [
    "contr_entail_y_train_idx = y_train[(y_train == 0) | (y_train == 1)].index\n",
    "contra_entail_instances = X_train.iloc[contr_entail_y_train_idx].copy()\n",
    "contra_entail_instances['label'] = y_train[contr_entail_y_train_idx].copy()\n",
    "\n",
    "compare_ft81_to_ft9_scatter = ScatterPlot(\n",
    "    contra_entail_instances, \n",
    "    'feature_9', 'feature_81', 'label', label_names=['contradiction', 'entailment'])"
   ]
  },
  {
   "cell_type": "code",
   "execution_count": 11,
   "id": "55cc27d3",
   "metadata": {},
   "outputs": [
    {
     "data": {
      "image/png": "[encoded data removed]",
      "text/plain": [
       "<Figure size 1368x288 with 4 Axes>"
      ]
     },
     "metadata": {},
     "output_type": "display_data"
    }
   ],
   "source": [
    "data_exp_fig, axs = plt.subplots(1, 4, figsize=(19, 4))\n",
    "_, ax = class_balance_plot.plot(ax=axs[0])\n",
    "_, ax = ft81_hist_plot.plot(ax=axs[1])\n",
    "_, ax = ft9_hist_plot.plot(ax=axs[2])\n",
    "_, ax = compare_ft81_to_ft9_scatter.plot(ax=axs[3])"
   ]
  },
  {
   "cell_type": "code",
   "execution_count": 12,
   "id": "b8e6cb93",
   "metadata": {},
   "outputs": [],
   "source": [
    "data_exp_fig.savefig(\n",
    "    \"../out/SNLI/Data Exploration - Report.png\",\n",
    "    bbox_inches='tight',\n",
    "    dpi=800\n",
    ")"
   ]
  },
  {
   "cell_type": "markdown",
   "id": "8a0668ed",
   "metadata": {},
   "source": [
    "## Decision Tree"
   ]
  },
  {
   "cell_type": "code",
   "execution_count": 13,
   "id": "ece7c177",
   "metadata": {},
   "outputs": [
    {
     "name": "stdout",
     "output_type": "stream",
     "text": [
      "[learning_curve] Training set sizes: [ 8000 26000 44000 62000 80000]\n"
     ]
    },
    {
     "name": "stderr",
     "output_type": "stream",
     "text": [
      "[Parallel(n_jobs=3)]: Using backend LokyBackend with 3 concurrent workers.\n",
      "[Parallel(n_jobs=3)]: Done   2 out of  25 | elapsed:   10.1s remaining:  1.9min\n",
      "[Parallel(n_jobs=3)]: Done   8 out of  25 | elapsed:   44.8s remaining:  1.6min\n",
      "[Parallel(n_jobs=3)]: Done  14 out of  25 | elapsed:  1.3min remaining:  1.0min\n",
      "[Parallel(n_jobs=3)]: Done  20 out of  25 | elapsed:  1.9min remaining:   27.8s\n",
      "[Parallel(n_jobs=3)]: Done  25 out of  25 | elapsed:  2.6min finished\n",
      "[Parallel(n_jobs=3)]: Using backend LokyBackend with 3 concurrent workers.\n"
     ]
    },
    {
     "name": "stdout",
     "output_type": "stream",
     "text": [
      "[learning_curve] Training set sizes: [ 8000 26000 44000 62000 80000]\n"
     ]
    },
    {
     "name": "stderr",
     "output_type": "stream",
     "text": [
      "[Parallel(n_jobs=3)]: Done   2 out of  25 | elapsed:    3.3s remaining:   38.3s\n",
      "[Parallel(n_jobs=3)]: Done   8 out of  25 | elapsed:   16.8s remaining:   35.7s\n",
      "[Parallel(n_jobs=3)]: Done  14 out of  25 | elapsed:   29.7s remaining:   23.4s\n",
      "[Parallel(n_jobs=3)]: Done  20 out of  25 | elapsed:   43.3s remaining:   10.8s\n",
      "[Parallel(n_jobs=3)]: Done  25 out of  25 | elapsed:  1.0min finished\n",
      "[Parallel(n_jobs=3)]: Using backend LokyBackend with 3 concurrent workers.\n",
      "[Parallel(n_jobs=3)]: Done   2 out of   5 | elapsed:   13.4s remaining:   20.0s\n",
      "[Parallel(n_jobs=3)]: Done   5 out of   5 | elapsed:   25.5s finished\n"
     ]
    }
   ],
   "source": [
    "untuned_dt_clf = DecisionTreeClassifier(\n",
    "    criterion='entropy',\n",
    "    max_depth=20,\n",
    "    min_samples_leaf=1,\n",
    "    min_samples_split=2\n",
    ")\n",
    "\n",
    "tuned_dt_clf = DecisionTreeClassifier(\n",
    "    criterion='entropy',\n",
    "    max_depth=7,\n",
    "    min_samples_leaf=1,\n",
    "    min_samples_split=1925\n",
    ")\n",
    "\n",
    "dt_untuned_learning_curve = LearningCurve(untuned_dt_clf, scoring=recall_scorer)\n",
    "dt_untuned_learning_curve.run(X_train, y_train)\n",
    "dt_untuned_learning_curve_plot = LearningCurvePlot(experiment=dt_untuned_learning_curve)\n",
    "\n",
    "dt_tuned_learning_curve = LearningCurve(tuned_dt_clf, scoring=recall_scorer)\n",
    "dt_tuned_learning_curve.run(X_train, y_train)\n",
    "dt_tuned_learning_curve_plot = LearningCurvePlot(experiment=dt_tuned_learning_curve)\n",
    "\n",
    "dt_tuned_cv = CrossValidation(tuned_dt_clf, scoring=recall_scorer)\n",
    "dt_tuned_cv.run(X_train, y_train)\n",
    "dt_tuned_cv_folds = CrossValidationFolds(experiment=dt_tuned_cv)"
   ]
  },
  {
   "cell_type": "code",
   "execution_count": 15,
   "id": "134a67eb",
   "metadata": {},
   "outputs": [
    {
     "data": {
      "image/png": "[encoded data removed]",
      "text/plain": [
       "<Figure size 1440x360 with 3 Axes>"
      ]
     },
     "metadata": {},
     "output_type": "display_data"
    }
   ],
   "source": [
    "dt_train_curv_fig, axs = plt.subplots(1, 3, figsize=(20, 5))\n",
    "_, ax = dt_untuned_learning_curve_plot.plot(ax=axs[0], ymin=0.0, ymax=1.01)\n",
    "_, ax = dt_tuned_learning_curve_plot.plot(ax=axs[1], ymin=0.0, ymax=1.01, title=\"max_depth=7, min_samples_split=1925\")\n",
    "_, ax = dt_tuned_cv_folds.plot(ax=axs[2])"
   ]
  },
  {
   "cell_type": "code",
   "execution_count": 16,
   "id": "f9ba49ce",
   "metadata": {},
   "outputs": [],
   "source": [
    "dt_train_curv_fig.savefig(\n",
    "    \"../out/SNLI/DecisionTree/LearningCurves - Report.png\",\n",
    "    bbox_inches='tight',\n",
    "    dpi=800\n",
    ")"
   ]
  },
  {
   "cell_type": "code",
   "execution_count": 17,
   "id": "c1083ca7",
   "metadata": {},
   "outputs": [
    {
     "name": "stderr",
     "output_type": "stream",
     "text": [
      "[Parallel(n_jobs=3)]: Using backend LokyBackend with 3 concurrent workers.\n",
      "[Parallel(n_jobs=3)]: Done   4 out of  35 | elapsed:   19.3s remaining:  2.5min\n",
      "[Parallel(n_jobs=3)]: Done  12 out of  35 | elapsed:   46.9s remaining:  1.5min\n",
      "[Parallel(n_jobs=3)]: Done  20 out of  35 | elapsed:  1.3min remaining:   58.3s\n",
      "[Parallel(n_jobs=3)]: Done  28 out of  35 | elapsed:  1.8min remaining:   26.5s\n",
      "[Parallel(n_jobs=3)]: Done  35 out of  35 | elapsed:  2.2min finished\n"
     ]
    }
   ],
   "source": [
    "val_curv = ValidationCurve(\n",
    "    DecisionTreeClassifier(max_depth=None, min_samples_split=2, min_samples_leaf=1, class_weight='balanced'),\n",
    "    'min_samples_leaf',\n",
    "   np.arange(1, 3500, 500),\n",
    "    scoring=recall_scorer\n",
    ")\n",
    "val_curv.run(X_train, y_train)\n",
    "min_samples_leaf_plot = ValidationCurvePlot(experiment=val_curv)"
   ]
  },
  {
   "cell_type": "code",
   "execution_count": 18,
   "id": "75a2f327",
   "metadata": {},
   "outputs": [
    {
     "name": "stderr",
     "output_type": "stream",
     "text": [
      "[Parallel(n_jobs=3)]: Using backend LokyBackend with 3 concurrent workers.\n",
      "[Parallel(n_jobs=3)]: Done   4 out of  35 | elapsed:   13.1s remaining:  1.7min\n",
      "[Parallel(n_jobs=3)]: Done  12 out of  35 | elapsed:   41.4s remaining:  1.3min\n",
      "[Parallel(n_jobs=3)]: Done  20 out of  35 | elapsed:  1.1min remaining:   49.7s\n",
      "[Parallel(n_jobs=3)]: Done  28 out of  35 | elapsed:  1.5min remaining:   22.1s\n",
      "[Parallel(n_jobs=3)]: Done  35 out of  35 | elapsed:  2.0min finished\n"
     ]
    }
   ],
   "source": [
    "val_curv = ValidationCurve(\n",
    "    DecisionTreeClassifier(max_depth=None, min_samples_split=2, min_samples_leaf=1, class_weight='balanced'),\n",
    "    'max_depth',\n",
    "    np.arange(2, 15, 2),\n",
    "    scoring=recall_scorer\n",
    ")\n",
    "val_curv.run(X_train, y_train)\n",
    "max_depth_plot = ValidationCurvePlot(experiment=val_curv)"
   ]
  },
  {
   "cell_type": "code",
   "execution_count": 19,
   "id": "fedb2441",
   "metadata": {},
   "outputs": [
    {
     "name": "stderr",
     "output_type": "stream",
     "text": [
      "[Parallel(n_jobs=3)]: Using backend LokyBackend with 3 concurrent workers.\n",
      "[Parallel(n_jobs=3)]: Done   4 out of  35 | elapsed:   24.8s remaining:  3.2min\n",
      "[Parallel(n_jobs=3)]: Done  12 out of  35 | elapsed:   59.5s remaining:  1.9min\n",
      "[Parallel(n_jobs=3)]: Done  20 out of  35 | elapsed:  1.6min remaining:  1.2min\n",
      "[Parallel(n_jobs=3)]: Done  28 out of  35 | elapsed:  2.2min remaining:   33.1s\n",
      "[Parallel(n_jobs=3)]: Done  35 out of  35 | elapsed:  2.7min finished\n"
     ]
    }
   ],
   "source": [
    "val_curv = ValidationCurve(\n",
    "    DecisionTreeClassifier(max_depth=None, min_samples_split=2, min_samples_leaf=1, class_weight='balanced'),\n",
    "    'min_samples_split',\n",
    "    np.arange(2, 3500, 500),\n",
    "    scoring=recall_scorer\n",
    ")\n",
    "val_curv.run(X_train, y_train)\n",
    "min_samples_split_plot = ValidationCurvePlot(experiment=val_curv)"
   ]
  },
  {
   "cell_type": "code",
   "execution_count": 20,
   "id": "dfbc224f",
   "metadata": {},
   "outputs": [
    {
     "data": {
      "image/png": "[encoded data removed]",
      "text/plain": [
       "<Figure size 1152x288 with 3 Axes>"
      ]
     },
     "metadata": {},
     "output_type": "display_data"
    }
   ],
   "source": [
    "validation_fig, axs = plt.subplots(1, 3, figsize=(16, 4))\n",
    "_, ax = max_depth_plot.plot(ax=axs[0])\n",
    "_, ax = min_samples_split_plot.plot(ax=axs[1])\n",
    "_, ax = min_samples_leaf_plot.plot(ax=axs[2])"
   ]
  },
  {
   "cell_type": "code",
   "execution_count": 21,
   "id": "ec0ce099",
   "metadata": {},
   "outputs": [],
   "source": [
    "validation_fig.savefig(\n",
    "    \"../out/SNLI/DecisionTree/ValidationCurves - Report.png\",  \n",
    "    bbox_inches='tight',\n",
    "    dpi=800\n",
    ")"
   ]
  },
  {
   "cell_type": "code",
   "execution_count": 23,
   "id": "504ff895",
   "metadata": {},
   "outputs": [
    {
     "name": "stdout",
     "output_type": "stream",
     "text": [
      "DecisionTreeClassifier(criterion='entropy', max_depth=7, min_samples_split=1925)\n",
      "              precision    recall  f1-score   support\n",
      "\n",
      "           0       0.38      0.37      0.38      3237\n",
      "           1       0.43      0.42      0.43      3368\n",
      "           2       0.38      0.39      0.38      3219\n",
      "\n",
      "    accuracy                           0.40      9824\n",
      "   macro avg       0.40      0.40      0.40      9824\n",
      "weighted avg       0.40      0.40      0.40      9824\n",
      "\n"
     ]
    }
   ],
   "source": [
    "tuned_model_eval = ModelEvaluation(tuned_dt_clf)\n",
    "tuned_model_eval.run(X_train, y_train, snli_data.X_test, snli_data.y_test)\n",
    "print(tuned_model_eval.model)\n",
    "print(ClassificationReport(experiment=tuned_model_eval).plot())"
   ]
  },
  {
   "cell_type": "markdown",
   "id": "19dd957d",
   "metadata": {},
   "source": [
    "## Support Vector Machine"
   ]
  },
  {
   "cell_type": "code",
   "execution_count": 27,
   "id": "74ffc87b",
   "metadata": {},
   "outputs": [],
   "source": [
    "X_train_sub, _, y_train_sub, _ = train_test_split(X_train, y_train, train_size=20000, random_state=random_state)"
   ]
  },
  {
   "cell_type": "code",
   "execution_count": 24,
   "id": "34391cd4",
   "metadata": {},
   "outputs": [],
   "source": [
    "untuned_svm_clf = LinearSVC(\n",
    "    C=1.0, max_iter=1000, penalty='l2', dual=False, verbose=0\n",
    ")\n",
    "\n",
    "# SVC(C=0.15, gamma=0.01, kernel='rbf')\n",
    "tuned_svm_clf = SVC(C=0.05, gamma=0.01, kernel='rbf')"
   ]
  },
  {
   "cell_type": "code",
   "execution_count": 87,
   "id": "c69e2254",
   "metadata": {},
   "outputs": [
    {
     "name": "stdout",
     "output_type": "stream",
     "text": [
      "[learning_curve] Training set sizes: [ 6666 21666 36666 51666 66666]\n"
     ]
    },
    {
     "name": "stderr",
     "output_type": "stream",
     "text": [
      "[Parallel(n_jobs=3)]: Using backend LokyBackend with 3 concurrent workers.\n",
      "[Parallel(n_jobs=3)]: Done   4 out of  15 | elapsed:    5.0s remaining:   13.6s\n"
     ]
    },
    {
     "name": "stdout",
     "output_type": "stream",
     "text": [
      "[CV] END ..n_estimators=100;, score=(train=0.662, test=0.444) total time=  26.6s\n",
      "[CV] END ..n_estimators=400;, score=(train=0.851, test=0.428) total time= 1.8min\n",
      "[CV] END ..n_estimators=100;, score=(train=0.664, test=0.438) total time=  26.6s\n",
      "[CV] END ..n_estimators=200;, score=(train=0.744, test=0.424) total time=  53.3s\n",
      "[CV] END ..n_estimators=400;, score=(train=0.859, test=0.415) total time= 1.7min\n",
      "[CV] END ..n_estimators=200;, score=(train=0.593, test=0.461) total time=  53.0s\n",
      "[CV] END ..n_estimators=100;, score=(train=0.577, test=0.464) total time=  26.3s\n",
      "[CV] END ..n_estimators=200;, score=(train=0.613, test=0.474) total time=  52.9s\n",
      "[CV] END ..n_estimators=400;, score=(train=0.651, test=0.467) total time= 1.8min\n",
      "[CV] END ..................., score=(train=0.493, test=0.446) total time=   0.7s\n",
      "[CV] END ..................., score=(train=0.465, test=0.462) total time=   6.2s\n"
     ]
    },
    {
     "name": "stderr",
     "output_type": "stream",
     "text": [
      "/Users/jplatta/.asdf/installs/python/3.10.6/lib/python3.10/site-packages/joblib/externals/loky/process_executor.py:702: UserWarning: A worker stopped while some jobs were given to the executor. This can be caused by a too short worker timeout or by a memory leak.\n",
      "  warnings.warn(\n"
     ]
    },
    {
     "name": "stdout",
     "output_type": "stream",
     "text": [
      "[CV] END ..n_estimators=200;, score=(train=0.739, test=0.432) total time=  53.4s\n",
      "[CV] END ..n_estimators=100;, score=(train=0.662, test=0.420) total time=  26.7s\n",
      "[CV] END ..n_estimators=300;, score=(train=0.805, test=0.418) total time= 1.3min\n",
      "[CV] END ..n_estimators=300;, score=(train=0.814, test=0.420) total time= 1.3min\n",
      "[CV] END ..n_estimators=300;, score=(train=0.611, test=0.447) total time= 1.3min\n",
      "[CV] END ..n_estimators=300;, score=(train=0.633, test=0.473) total time= 1.3min\n",
      "[CV] END ..n_estimators=300;, score=(train=0.565, test=0.391) total time= 1.3min\n",
      "[CV] END ..................., score=(train=0.477, test=0.458) total time=   2.6s\n",
      "[CV] END ..................., score=(train=0.463, test=0.463) total time=   7.7s\n"
     ]
    },
    {
     "name": "stderr",
     "output_type": "stream",
     "text": [
      "[Parallel(n_jobs=3)]: Done   8 out of  15 | elapsed:   13.0s remaining:   11.4s\n"
     ]
    },
    {
     "name": "stdout",
     "output_type": "stream",
     "text": [
      "[CV] END ..n_estimators=300;, score=(train=0.804, test=0.427) total time= 1.3min\n",
      "[CV] END ..n_estimators=200;, score=(train=0.740, test=0.426) total time=  53.2s\n",
      "[CV] END ..n_estimators=400;, score=(train=0.847, test=0.414) total time= 1.8min\n",
      "[CV] END ..n_estimators=100;, score=(train=0.572, test=0.460) total time=  26.4s\n",
      "[CV] END ..n_estimators=400;, score=(train=0.638, test=0.453) total time= 1.8min\n",
      "[CV] END ..n_estimators=100;, score=(train=0.502, test=0.386) total time=  26.4s\n",
      "[CV] END ..n_estimators=200;, score=(train=0.541, test=0.394) total time=  52.7s\n",
      "[CV] END ..n_estimators=400;, score=(train=0.592, test=0.394) total time= 1.7min\n",
      "[CV] END ..................., score=(train=0.467, test=0.458) total time=   4.2s\n",
      "[CV] END ..................., score=(train=0.510, test=0.456) total time=   0.7s\n",
      "[CV] END ..................., score=(train=0.480, test=0.458) total time=   2.7s\n",
      "[CV] END ..................., score=(train=0.469, test=0.459) total time=   6.2s\n"
     ]
    },
    {
     "name": "stderr",
     "output_type": "stream",
     "text": [
      "[Parallel(n_jobs=3)]: Done  12 out of  15 | elapsed:   19.6s remaining:    4.9s\n",
      "[Parallel(n_jobs=3)]: Done  15 out of  15 | elapsed:   26.8s finished\n"
     ]
    },
    {
     "data": {
      "text/plain": [
       "True"
      ]
     },
     "execution_count": 87,
     "metadata": {},
     "output_type": "execute_result"
    }
   ],
   "source": [
    "svm_untuned_learning_curve = LearningCurve( \n",
    "    untuned_svm_clf, \n",
    "    scoring=recall_scorer, \n",
    "    n_splits=3\n",
    ")\n",
    "svm_untuned_learning_curve.run(X_train, y_train)"
   ]
  },
  {
   "cell_type": "code",
   "execution_count": 28,
   "id": "bebde365",
   "metadata": {},
   "outputs": [
    {
     "name": "stdout",
     "output_type": "stream",
     "text": [
      "[learning_curve] Training set sizes: [ 1333  4333  7333 10333 13333]\n"
     ]
    },
    {
     "name": "stderr",
     "output_type": "stream",
     "text": [
      "[Parallel(n_jobs=3)]: Using backend LokyBackend with 3 concurrent workers.\n",
      "[Parallel(n_jobs=3)]: Done   4 out of  15 | elapsed:   23.2s remaining:  1.1min\n"
     ]
    },
    {
     "name": "stdout",
     "output_type": "stream",
     "text": [
      "[CV] END ..................., score=(train=0.588, test=0.549) total time=   5.8s\n",
      "[CV] END ..................., score=(train=0.525, test=0.501) total time=  41.1s\n"
     ]
    },
    {
     "name": "stderr",
     "output_type": "stream",
     "text": [
      "[Parallel(n_jobs=3)]: Done   8 out of  15 | elapsed:  1.2min remaining:  1.1min\n",
      "/Users/jplatta/.asdf/installs/python/3.10.6/lib/python3.10/site-packages/joblib/externals/loky/process_executor.py:702: UserWarning: A worker stopped while some jobs were given to the executor. This can be caused by a too short worker timeout or by a memory leak.\n",
      "  warnings.warn(\n",
      "[Parallel(n_jobs=3)]: Done  12 out of  15 | elapsed:  1.7min remaining:   25.4s\n"
     ]
    },
    {
     "name": "stdout",
     "output_type": "stream",
     "text": [
      "[CV] END ..................., score=(train=0.641, test=0.610) total time=  13.1s\n",
      "[CV] END ..................., score=(train=0.000, test=0.000) total time=   1.4s\n",
      "[CV] END ..................., score=(train=0.533, test=0.490) total time=   5.8s\n",
      "[CV] END ..................., score=(train=0.643, test=0.617) total time=  13.3s\n",
      "[CV] END ..................., score=(train=0.569, test=0.526) total time=  41.8s\n",
      "[CV] END ..................., score=(train=0.500, test=0.500) total time=   1.4s\n",
      "[CV] END ..................., score=(train=0.570, test=0.545) total time=  24.7s\n",
      "[CV] END ..................., score=(train=0.600, test=0.567) total time=  24.8s\n",
      "[CV] END ..................., score=(train=0.550, test=0.511) total time=  13.3s\n",
      "[CV] END ..................., score=(train=0.537, test=0.511) total time=  33.1s\n"
     ]
    },
    {
     "name": "stderr",
     "output_type": "stream",
     "text": [
      "[Parallel(n_jobs=3)]: Done  15 out of  15 | elapsed:  2.6min finished\n"
     ]
    },
    {
     "data": {
      "text/plain": [
       "True"
      ]
     },
     "execution_count": 28,
     "metadata": {},
     "output_type": "execute_result"
    }
   ],
   "source": [
    "svm_tuned_learning_curve = LearningCurve( \n",
    "    tuned_svm_clf, \n",
    "    scoring=recall_scorer, \n",
    "    n_splits=3\n",
    ")\n",
    "svm_tuned_learning_curve.run(X_train_sub, y_train_sub)"
   ]
  },
  {
   "cell_type": "code",
   "execution_count": 29,
   "id": "79ac49bf",
   "metadata": {},
   "outputs": [
    {
     "name": "stderr",
     "output_type": "stream",
     "text": [
      "[Parallel(n_jobs=3)]: Using backend LokyBackend with 3 concurrent workers.\n"
     ]
    },
    {
     "name": "stdout",
     "output_type": "stream",
     "text": [
      "[CV] END ..................., score=(train=0.500, test=0.500) total time=   1.4s\n",
      "[CV] END ..................., score=(train=0.177, test=0.142) total time=   6.1s\n",
      "[CV] END ..................., score=(train=0.557, test=0.528) total time=  23.9s\n",
      "[CV] END ..................., score=(train=0.542, test=0.504) total time= 1.0min\n"
     ]
    },
    {
     "name": "stderr",
     "output_type": "stream",
     "text": [
      "[Parallel(n_jobs=3)]: Done   2 out of   5 | elapsed:  1.6min remaining:  2.3min\n",
      "[Parallel(n_jobs=3)]: Done   5 out of   5 | elapsed:  2.9min finished\n"
     ]
    }
   ],
   "source": [
    "svm_tuned_cv = CrossValidation(tuned_svm_clf, scoring=recall_scorer)\n",
    "svm_tuned_cv.run(X_train_sub, y_train_sub)\n",
    "svm_tuned_cv_folds = CrossValidationFolds(experiment=svm_tuned_cv)"
   ]
  },
  {
   "cell_type": "code",
   "execution_count": 91,
   "id": "5cd2fdaf",
   "metadata": {},
   "outputs": [
    {
     "data": {
      "image/png": "[encoded data removed]",
      "text/plain": [
       "<Figure size 1296x360 with 3 Axes>"
      ]
     },
     "metadata": {
      "needs_background": "light"
     },
     "output_type": "display_data"
    }
   ],
   "source": [
    "svm_untuned_learning_curve_plot = LearningCurvePlot(experiment=svm_untuned_learning_curve)\n",
    "svm_tuned_learning_curve_plot = LearningCurvePlot(experiment=svm_tuned_learning_curve)\n",
    "\n",
    "svm_learning_curves_fig, axs = plt.subplots(1, 3, figsize=(18, 5))\n",
    "_, ax = svm_untuned_learning_curve_plot.plot(ax=axs[0], ymin=0.0, ymax=1.01)\n",
    "_, ax = svm_tuned_learning_curve_plot.plot(ax=axs[1], ymin=0.0, ymax=1.01)\n",
    "_, ax = svm_tuned_cv_folds.plot(ax=axs[2])"
   ]
  },
  {
   "cell_type": "code",
   "execution_count": 92,
   "id": "5abe6fad",
   "metadata": {},
   "outputs": [],
   "source": [
    "svm_learning_curves_fig.savefig(\n",
    "    \"../out/SNLI/SVM/LearningCurves - Report.png\",\n",
    "    bbox_inches='tight',\n",
    "    dpi=800\n",
    ")"
   ]
  },
  {
   "cell_type": "code",
   "execution_count": 32,
   "id": "52422fa8",
   "metadata": {},
   "outputs": [
    {
     "name": "stderr",
     "output_type": "stream",
     "text": [
      "[Parallel(n_jobs=3)]: Using backend LokyBackend with 3 concurrent workers.\n",
      "[Parallel(n_jobs=3)]: Done   4 out of  15 | elapsed:   17.8s remaining:   49.1s\n",
      "[Parallel(n_jobs=3)]: Done   8 out of  15 | elapsed:   27.2s remaining:   23.8s\n",
      "[Parallel(n_jobs=3)]: Done  12 out of  15 | elapsed:   37.1s remaining:    9.3s\n",
      "[Parallel(n_jobs=3)]: Done  15 out of  15 | elapsed:   46.1s finished\n"
     ]
    },
    {
     "data": {
      "text/plain": [
       "True"
      ]
     },
     "execution_count": 32,
     "metadata": {},
     "output_type": "execute_result"
    }
   ],
   "source": [
    "linear_svc_val_curv = ValidationCurve(\n",
    "    LinearSVC(C=1.0, max_iter=1000, penalty='l2', dual=False, verbose=0),\n",
    "    'C', \n",
    "    [0.001, 0.01, 0.1, 1.0, 10],\n",
    "    scoring=recall_scorer,\n",
    "    n_splits=3\n",
    ")\n",
    "linear_svc_val_curv.run(X_train, y_train)"
   ]
  },
  {
   "cell_type": "code",
   "execution_count": 33,
   "id": "d71f56af",
   "metadata": {},
   "outputs": [
    {
     "name": "stderr",
     "output_type": "stream",
     "text": [
      "[Parallel(n_jobs=3)]: Using backend LokyBackend with 3 concurrent workers.\n",
      "[Parallel(n_jobs=3)]: Done   1 out of  12 | elapsed:  1.1min remaining: 11.9min\n"
     ]
    },
    {
     "name": "stdout",
     "output_type": "stream",
     "text": [
      "[CV] END ..................., score=(train=0.548, test=0.526) total time=  58.1s\n",
      "[CV] END ..................., score=(train=0.551, test=0.523) total time=  45.9s\n",
      "[CV] END .............C=0.1;, score=(train=0.468, test=0.467) total time=   9.7s\n",
      "[CV] END ...........C=0.001;, score=(train=0.469, test=0.455) total time=   8.4s\n",
      "[CV] END .............C=1.0;, score=(train=0.468, test=0.456) total time=   8.8s\n",
      "[CV] END ...........C=0.001;, score=(train=0.463, test=0.460) total time=   8.7s\n",
      "[CV] END .............C=0.1;, score=(train=0.463, test=0.460) total time=   8.7s\n",
      "[CV] END ............C=0.01;, score=(train=0.500, test=0.500) total time=  45.6s\n",
      "[CV] END ............C=0.01;, score=(train=0.522, test=0.524) total time=  38.3s\n"
     ]
    },
    {
     "name": "stderr",
     "output_type": "stream",
     "text": [
      "[Parallel(n_jobs=3)]: Done   4 out of  12 | elapsed:  2.2min remaining:  4.4min\n"
     ]
    },
    {
     "name": "stdout",
     "output_type": "stream",
     "text": [
      "[CV] END ..................., score=(train=0.537, test=0.512) total time=  45.9s\n",
      "[CV] END ............C=0.01;, score=(train=0.468, test=0.466) total time=   9.2s\n",
      "[CV] END ..............C=10;, score=(train=0.468, test=0.467) total time=   8.8s\n",
      "[CV] END .............C=0.1;, score=(train=0.468, test=0.456) total time=   9.7s\n",
      "[CV] END ............C=0.01;, score=(train=0.463, test=0.459) total time=   9.2s\n",
      "[CV] END ..............C=10;, score=(train=0.463, test=0.459) total time=   9.0s\n",
      "[CV] END ............C=2.01;, score=(train=0.922, test=0.481) total time=  52.2s\n",
      "[CV] END ............C=1.01;, score=(train=0.818, test=0.530) total time=  34.7s\n"
     ]
    },
    {
     "name": "stderr",
     "output_type": "stream",
     "text": [
      "[Parallel(n_jobs=3)]: Done   7 out of  12 | elapsed:  3.3min remaining:  2.4min\n",
      "[Parallel(n_jobs=3)]: Done  10 out of  12 | elapsed:  4.3min remaining:   51.3s\n"
     ]
    },
    {
     "name": "stdout",
     "output_type": "stream",
     "text": [
      "[CV] END ..................., score=(train=0.516, test=0.502) total time= 1.0min\n",
      "[CV] END ...........C=0.001;, score=(train=0.469, test=0.466) total time=   8.3s\n",
      "[CV] END .............C=1.0;, score=(train=0.468, test=0.467) total time=   9.4s\n",
      "[CV] END ............C=0.01;, score=(train=0.469, test=0.456) total time=   9.2s\n",
      "[CV] END ..............C=10;, score=(train=0.468, test=0.456) total time=   9.8s\n",
      "[CV] END .............C=1.0;, score=(train=0.463, test=0.459) total time=   8.9s\n",
      "[CV] END ............C=1.01;, score=(train=0.813, test=0.495) total time=  41.7s\n",
      "[CV] END ............C=3.01;, score=(train=0.965, test=0.480) total time=  59.0s\n",
      "[CV] END ............C=0.01;, score=(train=0.506, test=0.503) total time=  36.7s\n",
      "[CV] END ............C=2.01;, score=(train=0.922, test=0.502) total time=  43.8s\n"
     ]
    },
    {
     "name": "stderr",
     "output_type": "stream",
     "text": [
      "[Parallel(n_jobs=3)]: Done  12 out of  12 | elapsed:  4.8min finished\n"
     ]
    },
    {
     "data": {
      "text/plain": [
       "True"
      ]
     },
     "execution_count": 33,
     "metadata": {},
     "output_type": "execute_result"
    }
   ],
   "source": [
    "svc_high_gamma_val_curv = ValidationCurve(\n",
    "    SVC(gamma=0.01, kernel='rbf', verbose=0),\n",
    "    'C', \n",
    "    np.arange(0.01, 4, 1.0),\n",
    "    scoring=recall_scorer,\n",
    "    n_splits=3\n",
    ")\n",
    "svc_high_gamma_val_curv.run(X_train_sub, y_train_sub)"
   ]
  },
  {
   "cell_type": "code",
   "execution_count": 34,
   "id": "92beb50d",
   "metadata": {},
   "outputs": [
    {
     "name": "stderr",
     "output_type": "stream",
     "text": [
      "[Parallel(n_jobs=3)]: Using backend LokyBackend with 3 concurrent workers.\n",
      "[Parallel(n_jobs=3)]: Done   1 out of  12 | elapsed:   59.5s remaining: 10.9min\n",
      "[Parallel(n_jobs=3)]: Done   4 out of  12 | elapsed:  2.0min remaining:  3.9min\n"
     ]
    },
    {
     "name": "stdout",
     "output_type": "stream",
     "text": [
      "[CV] END ............C=2.01;, score=(train=0.928, test=0.504) total time=  45.7s\n",
      "[CV] END ............C=1.01;, score=(train=0.822, test=0.516) total time=  33.9s\n",
      "[CV] END ............C=0.01;, score=(train=0.000, test=0.000) total time=  38.2s\n",
      "[CV] END ............C=1.01;, score=(train=0.457, test=0.442) total time=  37.0s\n",
      "[CV] END ............C=3.01;, score=(train=0.965, test=0.492) total time=  58.0s\n",
      "[CV] END ............C=3.01;, score=(train=0.963, test=0.496) total time=  55.2s\n",
      "[CV] END ............C=1.01;, score=(train=0.449, test=0.431) total time=  36.8s\n",
      "[CV] END ............C=3.01;, score=(train=0.477, test=0.449) total time=  35.3s\n",
      "[CV] END ............C=2.01;, score=(train=0.480, test=0.465) total time=  35.0s\n"
     ]
    },
    {
     "name": "stderr",
     "output_type": "stream",
     "text": [
      "[Parallel(n_jobs=3)]: Done   7 out of  12 | elapsed:  2.9min remaining:  2.1min\n",
      "[Parallel(n_jobs=3)]: Done  10 out of  12 | elapsed:  3.9min remaining:   46.7s\n",
      "[Parallel(n_jobs=3)]: Done  12 out of  12 | elapsed:  4.0min finished\n"
     ]
    },
    {
     "data": {
      "text/plain": [
       "True"
      ]
     },
     "execution_count": 34,
     "metadata": {},
     "output_type": "execute_result"
    }
   ],
   "source": [
    "svc_low_gamma_val_curv = ValidationCurve(\n",
    "    SVC(gamma=0.0001, kernel='rbf', verbose=0),\n",
    "    'C', \n",
    "    np.arange(0.01, 4, 1.0),\n",
    "    scoring=recall_scorer,\n",
    "    n_splits=3\n",
    ")\n",
    "svc_low_gamma_val_curv.run(X_train_sub, y_train_sub)"
   ]
  },
  {
   "cell_type": "code",
   "execution_count": 35,
   "id": "02d14424",
   "metadata": {},
   "outputs": [
    {
     "name": "stderr",
     "output_type": "stream",
     "text": [
      "[Parallel(n_jobs=3)]: Using backend LokyBackend with 3 concurrent workers.\n",
      "[Parallel(n_jobs=3)]: Done   4 out of  15 | elapsed:  1.9min remaining:  5.3min\n"
     ]
    },
    {
     "name": "stdout",
     "output_type": "stream",
     "text": [
      "[CV] END ............C=1.01;, score=(train=0.481, test=0.464) total time=  36.3s\n",
      "[CV] END ........gamma=0.01;, score=(train=0.578, test=0.522) total time=  35.6s\n",
      "[CV] END .........gamma=0.1;, score=(train=0.500, test=0.500) total time=  38.6s\n",
      "[CV] END ............C=0.01;, score=(train=0.500, test=0.500) total time=  37.1s\n",
      "[CV] END ............C=3.01;, score=(train=0.503, test=0.490) total time=  35.1s\n",
      "[CV] END .......gamma=0.005;, score=(train=0.549, test=0.511) total time=  35.5s\n",
      "[CV] END ........gamma=0.05;, score=(train=0.500, test=0.500) total time=  35.3s\n",
      "[CV] END .......gamma=0.005;, score=(train=0.532, test=0.507) total time=  41.2s\n"
     ]
    },
    {
     "name": "stderr",
     "output_type": "stream",
     "text": [
      "[Parallel(n_jobs=3)]: Done   8 out of  15 | elapsed:  3.1min remaining:  2.7min\n",
      "[Parallel(n_jobs=3)]: Done  12 out of  15 | elapsed:  4.2min remaining:  1.1min\n",
      "[Parallel(n_jobs=3)]: Done  15 out of  15 | elapsed:  5.4min finished\n"
     ]
    },
    {
     "data": {
      "text/plain": [
       "True"
      ]
     },
     "execution_count": 35,
     "metadata": {},
     "output_type": "execute_result"
    }
   ],
   "source": [
    "svc_gamma_val_curv = ValidationCurve(\n",
    "    SVC(C=0.1, kernel='rbf', verbose=0),\n",
    "    'gamma', \n",
    "    [0.001, 0.005, 0.01, 0.05, 0.1],\n",
    "    scoring=recall_scorer,\n",
    "    n_splits=3\n",
    ")\n",
    "svc_gamma_val_curv.run(X_train_sub, y_train_sub)"
   ]
  },
  {
   "cell_type": "code",
   "execution_count": 36,
   "id": "7d95dc2f",
   "metadata": {},
   "outputs": [],
   "source": [
    "svc_gamma_val_curv_plot = ValidationCurvePlot(experiment=svc_gamma_val_curv)\n",
    "linear_svc_val_curv_plot = ValidationCurvePlot(experiment=linear_svc_val_curv)\n",
    "svc_high_gamma_val_curv_plot = ValidationCurvePlot(experiment=svc_high_gamma_val_curv)\n",
    "svc_low_gamma_val_curv_plot = ValidationCurvePlot(experiment=svc_low_gamma_val_curv)"
   ]
  },
  {
   "cell_type": "code",
   "execution_count": 37,
   "id": "182d356b",
   "metadata": {},
   "outputs": [
    {
     "data": {
      "image/png": "[encoded data removed]",
      "text/plain": [
       "<Figure size 1008x792 with 4 Axes>"
      ]
     },
     "metadata": {},
     "output_type": "display_data"
    }
   ],
   "source": [
    "svc_val_curvs_fig, axs = plt.subplots(2, 2, figsize=(14, 11))\n",
    "_, ax = linear_svc_val_curv_plot.plot(ax=axs[0][0])\n",
    "_, ax = svc_high_gamma_val_curv_plot.plot(ax=axs[0][1])\n",
    "_, ax = svc_gamma_val_curv_plot.plot(ax=axs[1][0])\n",
    "_, ax = svc_low_gamma_val_curv_plot.plot(ax=axs[1][1])"
   ]
  },
  {
   "cell_type": "code",
   "execution_count": 38,
   "id": "be7f08f0",
   "metadata": {},
   "outputs": [],
   "source": [
    "svc_val_curvs_fig.savefig(\n",
    "    \"../out/SNLI/SVM/Validation Curves - Report.png\",  \n",
    "    bbox_inches='tight',\n",
    "    dpi=800\n",
    ")"
   ]
  },
  {
   "cell_type": "code",
   "execution_count": 39,
   "id": "d5adf0ce",
   "metadata": {},
   "outputs": [
    {
     "name": "stdout",
     "output_type": "stream",
     "text": [
      "[CV] END ............C=2.01;, score=(train=0.469, test=0.446) total time=  36.6s\n",
      "[CV] END ............C=0.01;, score=(train=0.500, test=0.500) total time=  37.4s\n",
      "[CV] END ............C=3.01;, score=(train=0.489, test=0.473) total time=  34.1s\n",
      "[CV] END ............C=2.01;, score=(train=0.496, test=0.485) total time=  34.4s\n",
      "[CV] END .......gamma=0.001;, score=(train=0.506, test=0.487) total time=  37.3s\n",
      "[CV] END .......gamma=0.001;, score=(train=0.490, test=0.481) total time=  37.3s\n",
      "[CV] END ........gamma=0.05;, score=(train=0.500, test=0.500) total time=  39.8s\n",
      "[CV] END .......gamma=0.001;, score=(train=0.476, test=0.468) total time=  43.5s\n",
      "[CV] END ........gamma=0.05;, score=(train=0.500, test=0.500) total time=  41.1s\n",
      "[CV] END ........gamma=0.01;, score=(train=0.561, test=0.512) total time=  41.5s\n",
      "[CV] END .......gamma=0.005;, score=(train=0.526, test=0.495) total time=  41.4s\n",
      "[CV] END ........gamma=0.01;, score=(train=0.553, test=0.512) total time=  42.8s\n",
      "[CV] END .........gamma=0.1;, score=(train=0.500, test=0.500) total time=  46.9s\n",
      "[CV] END .........gamma=0.1;, score=(train=0.500, test=0.500) total time=  46.4s\n",
      "SVC(C=0.05, gamma=0.01)\n",
      "              precision    recall  f1-score   support\n",
      "\n",
      "           0       0.52      0.44      0.47      3237\n",
      "           1       0.49      0.64      0.55      3368\n",
      "           2       0.47      0.40      0.43      3219\n",
      "\n",
      "    accuracy                           0.49      9824\n",
      "   macro avg       0.49      0.49      0.49      9824\n",
      "weighted avg       0.49      0.49      0.49      9824\n",
      "\n"
     ]
    }
   ],
   "source": [
    "tuned_model_eval = ModelEvaluation(tuned_svm_clf)\n",
    "tuned_model_eval.run(X_train, y_train, snli_data.X_test, snli_data.y_test)\n",
    "print(tuned_model_eval.model)\n",
    "print(ClassificationReport(experiment=tuned_model_eval).plot())"
   ]
  },
  {
   "cell_type": "markdown",
   "id": "c389dc22",
   "metadata": {},
   "source": [
    "## k-Nearest Neighbors"
   ]
  },
  {
   "cell_type": "code",
   "execution_count": 41,
   "id": "d25810f1",
   "metadata": {},
   "outputs": [],
   "source": [
    "knn_untuned_clf = KNeighborsClassifier(n_neighbors=5, p=2, weights='uniform')\n",
    "knn_tuned_clf = KNeighborsClassifier(n_neighbors=9, weights='uniform', p=2)"
   ]
  },
  {
   "cell_type": "code",
   "execution_count": 43,
   "id": "18621a24",
   "metadata": {},
   "outputs": [
    {
     "name": "stderr",
     "output_type": "stream",
     "text": [
      "[Parallel(n_jobs=3)]: Using backend LokyBackend with 3 concurrent workers.\n",
      "/Users/jplatta/.asdf/installs/python/3.10.6/lib/python3.10/site-packages/sklearn/neighbors/_classification.py:237: FutureWarning: Unlike other reduction functions (e.g. `skew`, `kurtosis`), the default behavior of `mode` typically preserves the axis it acts along. In SciPy 1.11.0, this behavior will change: the default value of `keepdims` will become False, the `axis` over which the statistic is taken will be eliminated, and the value None will no longer be accepted. Set `keepdims` to True or False to avoid this warning.\n",
      "  mode, _ = stats.mode(_y[neigh_ind, k], axis=1)\n",
      "/Users/jplatta/.asdf/installs/python/3.10.6/lib/python3.10/site-packages/sklearn/neighbors/_classification.py:237: FutureWarning: Unlike other reduction functions (e.g. `skew`, `kurtosis`), the default behavior of `mode` typically preserves the axis it acts along. In SciPy 1.11.0, this behavior will change: the default value of `keepdims` will become False, the `axis` over which the statistic is taken will be eliminated, and the value None will no longer be accepted. Set `keepdims` to True or False to avoid this warning.\n",
      "  mode, _ = stats.mode(_y[neigh_ind, k], axis=1)\n",
      "/Users/jplatta/.asdf/installs/python/3.10.6/lib/python3.10/site-packages/sklearn/neighbors/_classification.py:237: FutureWarning: Unlike other reduction functions (e.g. `skew`, `kurtosis`), the default behavior of `mode` typically preserves the axis it acts along. In SciPy 1.11.0, this behavior will change: the default value of `keepdims` will become False, the `axis` over which the statistic is taken will be eliminated, and the value None will no longer be accepted. Set `keepdims` to True or False to avoid this warning.\n",
      "  mode, _ = stats.mode(_y[neigh_ind, k], axis=1)\n",
      "/Users/jplatta/.asdf/installs/python/3.10.6/lib/python3.10/site-packages/sklearn/neighbors/_classification.py:237: FutureWarning: Unlike other reduction functions (e.g. `skew`, `kurtosis`), the default behavior of `mode` typically preserves the axis it acts along. In SciPy 1.11.0, this behavior will change: the default value of `keepdims` will become False, the `axis` over which the statistic is taken will be eliminated, and the value None will no longer be accepted. Set `keepdims` to True or False to avoid this warning.\n",
      "  mode, _ = stats.mode(_y[neigh_ind, k], axis=1)\n",
      "/Users/jplatta/.asdf/installs/python/3.10.6/lib/python3.10/site-packages/sklearn/neighbors/_classification.py:237: FutureWarning: Unlike other reduction functions (e.g. `skew`, `kurtosis`), the default behavior of `mode` typically preserves the axis it acts along. In SciPy 1.11.0, this behavior will change: the default value of `keepdims` will become False, the `axis` over which the statistic is taken will be eliminated, and the value None will no longer be accepted. Set `keepdims` to True or False to avoid this warning.\n",
      "  mode, _ = stats.mode(_y[neigh_ind, k], axis=1)\n",
      "/Users/jplatta/.asdf/installs/python/3.10.6/lib/python3.10/site-packages/sklearn/neighbors/_classification.py:237: FutureWarning: Unlike other reduction functions (e.g. `skew`, `kurtosis`), the default behavior of `mode` typically preserves the axis it acts along. In SciPy 1.11.0, this behavior will change: the default value of `keepdims` will become False, the `axis` over which the statistic is taken will be eliminated, and the value None will no longer be accepted. Set `keepdims` to True or False to avoid this warning.\n",
      "  mode, _ = stats.mode(_y[neigh_ind, k], axis=1)\n",
      "[Parallel(n_jobs=3)]: Done   3 out of   3 | elapsed:  1.1min remaining:    0.0s\n",
      "[Parallel(n_jobs=3)]: Done   3 out of   3 | elapsed:  1.1min finished\n"
     ]
    }
   ],
   "source": [
    "knn_tuned_cv = CrossValidation(knn_tuned_clf, scoring=recall_scorer, n_splits=3)\n",
    "knn_tuned_cv.run(X_train, y_train)\n",
    "knn_tuned_cv_folds = CrossValidationFolds(experiment=knn_tuned_cv)"
   ]
  },
  {
   "cell_type": "code",
   "execution_count": 44,
   "id": "1df371de",
   "metadata": {},
   "outputs": [
    {
     "name": "stderr",
     "output_type": "stream",
     "text": [
      "[Parallel(n_jobs=3)]: Using backend LokyBackend with 3 concurrent workers.\n"
     ]
    },
    {
     "name": "stdout",
     "output_type": "stream",
     "text": [
      "[learning_curve] Training set sizes: [ 6666 21666 36666 51666 66666]\n"
     ]
    },
    {
     "name": "stderr",
     "output_type": "stream",
     "text": [
      "/Users/jplatta/.asdf/installs/python/3.10.6/lib/python3.10/site-packages/sklearn/neighbors/_classification.py:237: FutureWarning: Unlike other reduction functions (e.g. `skew`, `kurtosis`), the default behavior of `mode` typically preserves the axis it acts along. In SciPy 1.11.0, this behavior will change: the default value of `keepdims` will become False, the `axis` over which the statistic is taken will be eliminated, and the value None will no longer be accepted. Set `keepdims` to True or False to avoid this warning.\n",
      "  mode, _ = stats.mode(_y[neigh_ind, k], axis=1)\n",
      "/Users/jplatta/.asdf/installs/python/3.10.6/lib/python3.10/site-packages/sklearn/neighbors/_classification.py:237: FutureWarning: Unlike other reduction functions (e.g. `skew`, `kurtosis`), the default behavior of `mode` typically preserves the axis it acts along. In SciPy 1.11.0, this behavior will change: the default value of `keepdims` will become False, the `axis` over which the statistic is taken will be eliminated, and the value None will no longer be accepted. Set `keepdims` to True or False to avoid this warning.\n",
      "  mode, _ = stats.mode(_y[neigh_ind, k], axis=1)\n",
      "/Users/jplatta/.asdf/installs/python/3.10.6/lib/python3.10/site-packages/sklearn/neighbors/_classification.py:237: FutureWarning: Unlike other reduction functions (e.g. `skew`, `kurtosis`), the default behavior of `mode` typically preserves the axis it acts along. In SciPy 1.11.0, this behavior will change: the default value of `keepdims` will become False, the `axis` over which the statistic is taken will be eliminated, and the value None will no longer be accepted. Set `keepdims` to True or False to avoid this warning.\n",
      "  mode, _ = stats.mode(_y[neigh_ind, k], axis=1)\n",
      "/Users/jplatta/.asdf/installs/python/3.10.6/lib/python3.10/site-packages/sklearn/neighbors/_classification.py:237: FutureWarning: Unlike other reduction functions (e.g. `skew`, `kurtosis`), the default behavior of `mode` typically preserves the axis it acts along. In SciPy 1.11.0, this behavior will change: the default value of `keepdims` will become False, the `axis` over which the statistic is taken will be eliminated, and the value None will no longer be accepted. Set `keepdims` to True or False to avoid this warning.\n",
      "  mode, _ = stats.mode(_y[neigh_ind, k], axis=1)\n",
      "/Users/jplatta/.asdf/installs/python/3.10.6/lib/python3.10/site-packages/sklearn/neighbors/_classification.py:237: FutureWarning: Unlike other reduction functions (e.g. `skew`, `kurtosis`), the default behavior of `mode` typically preserves the axis it acts along. In SciPy 1.11.0, this behavior will change: the default value of `keepdims` will become False, the `axis` over which the statistic is taken will be eliminated, and the value None will no longer be accepted. Set `keepdims` to True or False to avoid this warning.\n",
      "  mode, _ = stats.mode(_y[neigh_ind, k], axis=1)\n",
      "/Users/jplatta/.asdf/installs/python/3.10.6/lib/python3.10/site-packages/sklearn/neighbors/_classification.py:237: FutureWarning: Unlike other reduction functions (e.g. `skew`, `kurtosis`), the default behavior of `mode` typically preserves the axis it acts along. In SciPy 1.11.0, this behavior will change: the default value of `keepdims` will become False, the `axis` over which the statistic is taken will be eliminated, and the value None will no longer be accepted. Set `keepdims` to True or False to avoid this warning.\n",
      "  mode, _ = stats.mode(_y[neigh_ind, k], axis=1)\n",
      "/Users/jplatta/.asdf/installs/python/3.10.6/lib/python3.10/site-packages/sklearn/neighbors/_classification.py:237: FutureWarning: Unlike other reduction functions (e.g. `skew`, `kurtosis`), the default behavior of `mode` typically preserves the axis it acts along. In SciPy 1.11.0, this behavior will change: the default value of `keepdims` will become False, the `axis` over which the statistic is taken will be eliminated, and the value None will no longer be accepted. Set `keepdims` to True or False to avoid this warning.\n",
      "  mode, _ = stats.mode(_y[neigh_ind, k], axis=1)\n",
      "/Users/jplatta/.asdf/installs/python/3.10.6/lib/python3.10/site-packages/sklearn/neighbors/_classification.py:237: FutureWarning: Unlike other reduction functions (e.g. `skew`, `kurtosis`), the default behavior of `mode` typically preserves the axis it acts along. In SciPy 1.11.0, this behavior will change: the default value of `keepdims` will become False, the `axis` over which the statistic is taken will be eliminated, and the value None will no longer be accepted. Set `keepdims` to True or False to avoid this warning.\n",
      "  mode, _ = stats.mode(_y[neigh_ind, k], axis=1)\n",
      "/Users/jplatta/.asdf/installs/python/3.10.6/lib/python3.10/site-packages/sklearn/neighbors/_classification.py:237: FutureWarning: Unlike other reduction functions (e.g. `skew`, `kurtosis`), the default behavior of `mode` typically preserves the axis it acts along. In SciPy 1.11.0, this behavior will change: the default value of `keepdims` will become False, the `axis` over which the statistic is taken will be eliminated, and the value None will no longer be accepted. Set `keepdims` to True or False to avoid this warning.\n",
      "  mode, _ = stats.mode(_y[neigh_ind, k], axis=1)\n",
      "[Parallel(n_jobs=3)]: Done   4 out of  15 | elapsed:   32.9s remaining:  1.5min\n",
      "/Users/jplatta/.asdf/installs/python/3.10.6/lib/python3.10/site-packages/sklearn/neighbors/_classification.py:237: FutureWarning: Unlike other reduction functions (e.g. `skew`, `kurtosis`), the default behavior of `mode` typically preserves the axis it acts along. In SciPy 1.11.0, this behavior will change: the default value of `keepdims` will become False, the `axis` over which the statistic is taken will be eliminated, and the value None will no longer be accepted. Set `keepdims` to True or False to avoid this warning.\n",
      "  mode, _ = stats.mode(_y[neigh_ind, k], axis=1)\n",
      "/Users/jplatta/.asdf/installs/python/3.10.6/lib/python3.10/site-packages/sklearn/neighbors/_classification.py:237: FutureWarning: Unlike other reduction functions (e.g. `skew`, `kurtosis`), the default behavior of `mode` typically preserves the axis it acts along. In SciPy 1.11.0, this behavior will change: the default value of `keepdims` will become False, the `axis` over which the statistic is taken will be eliminated, and the value None will no longer be accepted. Set `keepdims` to True or False to avoid this warning.\n",
      "  mode, _ = stats.mode(_y[neigh_ind, k], axis=1)\n",
      "/Users/jplatta/.asdf/installs/python/3.10.6/lib/python3.10/site-packages/sklearn/neighbors/_classification.py:237: FutureWarning: Unlike other reduction functions (e.g. `skew`, `kurtosis`), the default behavior of `mode` typically preserves the axis it acts along. In SciPy 1.11.0, this behavior will change: the default value of `keepdims` will become False, the `axis` over which the statistic is taken will be eliminated, and the value None will no longer be accepted. Set `keepdims` to True or False to avoid this warning.\n",
      "  mode, _ = stats.mode(_y[neigh_ind, k], axis=1)\n",
      "/Users/jplatta/.asdf/installs/python/3.10.6/lib/python3.10/site-packages/sklearn/neighbors/_classification.py:237: FutureWarning: Unlike other reduction functions (e.g. `skew`, `kurtosis`), the default behavior of `mode` typically preserves the axis it acts along. In SciPy 1.11.0, this behavior will change: the default value of `keepdims` will become False, the `axis` over which the statistic is taken will be eliminated, and the value None will no longer be accepted. Set `keepdims` to True or False to avoid this warning.\n",
      "  mode, _ = stats.mode(_y[neigh_ind, k], axis=1)\n",
      "/Users/jplatta/.asdf/installs/python/3.10.6/lib/python3.10/site-packages/sklearn/neighbors/_classification.py:237: FutureWarning: Unlike other reduction functions (e.g. `skew`, `kurtosis`), the default behavior of `mode` typically preserves the axis it acts along. In SciPy 1.11.0, this behavior will change: the default value of `keepdims` will become False, the `axis` over which the statistic is taken will be eliminated, and the value None will no longer be accepted. Set `keepdims` to True or False to avoid this warning.\n",
      "  mode, _ = stats.mode(_y[neigh_ind, k], axis=1)\n",
      "/Users/jplatta/.asdf/installs/python/3.10.6/lib/python3.10/site-packages/sklearn/neighbors/_classification.py:237: FutureWarning: Unlike other reduction functions (e.g. `skew`, `kurtosis`), the default behavior of `mode` typically preserves the axis it acts along. In SciPy 1.11.0, this behavior will change: the default value of `keepdims` will become False, the `axis` over which the statistic is taken will be eliminated, and the value None will no longer be accepted. Set `keepdims` to True or False to avoid this warning.\n",
      "  mode, _ = stats.mode(_y[neigh_ind, k], axis=1)\n"
     ]
    },
    {
     "name": "stderr",
     "output_type": "stream",
     "text": [
      "/Users/jplatta/.asdf/installs/python/3.10.6/lib/python3.10/site-packages/sklearn/neighbors/_classification.py:237: FutureWarning: Unlike other reduction functions (e.g. `skew`, `kurtosis`), the default behavior of `mode` typically preserves the axis it acts along. In SciPy 1.11.0, this behavior will change: the default value of `keepdims` will become False, the `axis` over which the statistic is taken will be eliminated, and the value None will no longer be accepted. Set `keepdims` to True or False to avoid this warning.\n",
      "  mode, _ = stats.mode(_y[neigh_ind, k], axis=1)\n",
      "/Users/jplatta/.asdf/installs/python/3.10.6/lib/python3.10/site-packages/sklearn/neighbors/_classification.py:237: FutureWarning: Unlike other reduction functions (e.g. `skew`, `kurtosis`), the default behavior of `mode` typically preserves the axis it acts along. In SciPy 1.11.0, this behavior will change: the default value of `keepdims` will become False, the `axis` over which the statistic is taken will be eliminated, and the value None will no longer be accepted. Set `keepdims` to True or False to avoid this warning.\n",
      "  mode, _ = stats.mode(_y[neigh_ind, k], axis=1)\n",
      "[Parallel(n_jobs=3)]: Done   8 out of  15 | elapsed:  1.4min remaining:  1.2min\n",
      "/Users/jplatta/.asdf/installs/python/3.10.6/lib/python3.10/site-packages/sklearn/neighbors/_classification.py:237: FutureWarning: Unlike other reduction functions (e.g. `skew`, `kurtosis`), the default behavior of `mode` typically preserves the axis it acts along. In SciPy 1.11.0, this behavior will change: the default value of `keepdims` will become False, the `axis` over which the statistic is taken will be eliminated, and the value None will no longer be accepted. Set `keepdims` to True or False to avoid this warning.\n",
      "  mode, _ = stats.mode(_y[neigh_ind, k], axis=1)\n",
      "/Users/jplatta/.asdf/installs/python/3.10.6/lib/python3.10/site-packages/sklearn/neighbors/_classification.py:237: FutureWarning: Unlike other reduction functions (e.g. `skew`, `kurtosis`), the default behavior of `mode` typically preserves the axis it acts along. In SciPy 1.11.0, this behavior will change: the default value of `keepdims` will become False, the `axis` over which the statistic is taken will be eliminated, and the value None will no longer be accepted. Set `keepdims` to True or False to avoid this warning.\n",
      "  mode, _ = stats.mode(_y[neigh_ind, k], axis=1)\n",
      "/Users/jplatta/.asdf/installs/python/3.10.6/lib/python3.10/site-packages/sklearn/neighbors/_classification.py:237: FutureWarning: Unlike other reduction functions (e.g. `skew`, `kurtosis`), the default behavior of `mode` typically preserves the axis it acts along. In SciPy 1.11.0, this behavior will change: the default value of `keepdims` will become False, the `axis` over which the statistic is taken will be eliminated, and the value None will no longer be accepted. Set `keepdims` to True or False to avoid this warning.\n",
      "  mode, _ = stats.mode(_y[neigh_ind, k], axis=1)\n",
      "/Users/jplatta/.asdf/installs/python/3.10.6/lib/python3.10/site-packages/sklearn/neighbors/_classification.py:237: FutureWarning: Unlike other reduction functions (e.g. `skew`, `kurtosis`), the default behavior of `mode` typically preserves the axis it acts along. In SciPy 1.11.0, this behavior will change: the default value of `keepdims` will become False, the `axis` over which the statistic is taken will be eliminated, and the value None will no longer be accepted. Set `keepdims` to True or False to avoid this warning.\n",
      "  mode, _ = stats.mode(_y[neigh_ind, k], axis=1)\n",
      "/Users/jplatta/.asdf/installs/python/3.10.6/lib/python3.10/site-packages/sklearn/neighbors/_classification.py:237: FutureWarning: Unlike other reduction functions (e.g. `skew`, `kurtosis`), the default behavior of `mode` typically preserves the axis it acts along. In SciPy 1.11.0, this behavior will change: the default value of `keepdims` will become False, the `axis` over which the statistic is taken will be eliminated, and the value None will no longer be accepted. Set `keepdims` to True or False to avoid this warning.\n",
      "  mode, _ = stats.mode(_y[neigh_ind, k], axis=1)\n",
      "/Users/jplatta/.asdf/installs/python/3.10.6/lib/python3.10/site-packages/sklearn/neighbors/_classification.py:237: FutureWarning: Unlike other reduction functions (e.g. `skew`, `kurtosis`), the default behavior of `mode` typically preserves the axis it acts along. In SciPy 1.11.0, this behavior will change: the default value of `keepdims` will become False, the `axis` over which the statistic is taken will be eliminated, and the value None will no longer be accepted. Set `keepdims` to True or False to avoid this warning.\n",
      "  mode, _ = stats.mode(_y[neigh_ind, k], axis=1)\n",
      "/Users/jplatta/.asdf/installs/python/3.10.6/lib/python3.10/site-packages/sklearn/neighbors/_classification.py:237: FutureWarning: Unlike other reduction functions (e.g. `skew`, `kurtosis`), the default behavior of `mode` typically preserves the axis it acts along. In SciPy 1.11.0, this behavior will change: the default value of `keepdims` will become False, the `axis` over which the statistic is taken will be eliminated, and the value None will no longer be accepted. Set `keepdims` to True or False to avoid this warning.\n",
      "  mode, _ = stats.mode(_y[neigh_ind, k], axis=1)\n",
      "/Users/jplatta/.asdf/installs/python/3.10.6/lib/python3.10/site-packages/sklearn/neighbors/_classification.py:237: FutureWarning: Unlike other reduction functions (e.g. `skew`, `kurtosis`), the default behavior of `mode` typically preserves the axis it acts along. In SciPy 1.11.0, this behavior will change: the default value of `keepdims` will become False, the `axis` over which the statistic is taken will be eliminated, and the value None will no longer be accepted. Set `keepdims` to True or False to avoid this warning.\n",
      "  mode, _ = stats.mode(_y[neigh_ind, k], axis=1)\n",
      "/Users/jplatta/.asdf/installs/python/3.10.6/lib/python3.10/site-packages/sklearn/neighbors/_classification.py:237: FutureWarning: Unlike other reduction functions (e.g. `skew`, `kurtosis`), the default behavior of `mode` typically preserves the axis it acts along. In SciPy 1.11.0, this behavior will change: the default value of `keepdims` will become False, the `axis` over which the statistic is taken will be eliminated, and the value None will no longer be accepted. Set `keepdims` to True or False to avoid this warning.\n",
      "  mode, _ = stats.mode(_y[neigh_ind, k], axis=1)\n",
      "[Parallel(n_jobs=3)]: Done  12 out of  15 | elapsed:  2.2min remaining:   32.3s\n",
      "/Users/jplatta/.asdf/installs/python/3.10.6/lib/python3.10/site-packages/sklearn/neighbors/_classification.py:237: FutureWarning: Unlike other reduction functions (e.g. `skew`, `kurtosis`), the default behavior of `mode` typically preserves the axis it acts along. In SciPy 1.11.0, this behavior will change: the default value of `keepdims` will become False, the `axis` over which the statistic is taken will be eliminated, and the value None will no longer be accepted. Set `keepdims` to True or False to avoid this warning.\n",
      "  mode, _ = stats.mode(_y[neigh_ind, k], axis=1)\n",
      "/Users/jplatta/.asdf/installs/python/3.10.6/lib/python3.10/site-packages/sklearn/neighbors/_classification.py:237: FutureWarning: Unlike other reduction functions (e.g. `skew`, `kurtosis`), the default behavior of `mode` typically preserves the axis it acts along. In SciPy 1.11.0, this behavior will change: the default value of `keepdims` will become False, the `axis` over which the statistic is taken will be eliminated, and the value None will no longer be accepted. Set `keepdims` to True or False to avoid this warning.\n",
      "  mode, _ = stats.mode(_y[neigh_ind, k], axis=1)\n",
      "/Users/jplatta/.asdf/installs/python/3.10.6/lib/python3.10/site-packages/sklearn/neighbors/_classification.py:237: FutureWarning: Unlike other reduction functions (e.g. `skew`, `kurtosis`), the default behavior of `mode` typically preserves the axis it acts along. In SciPy 1.11.0, this behavior will change: the default value of `keepdims` will become False, the `axis` over which the statistic is taken will be eliminated, and the value None will no longer be accepted. Set `keepdims` to True or False to avoid this warning.\n",
      "  mode, _ = stats.mode(_y[neigh_ind, k], axis=1)\n"
     ]
    },
    {
     "name": "stderr",
     "output_type": "stream",
     "text": [
      "/Users/jplatta/.asdf/installs/python/3.10.6/lib/python3.10/site-packages/sklearn/neighbors/_classification.py:237: FutureWarning: Unlike other reduction functions (e.g. `skew`, `kurtosis`), the default behavior of `mode` typically preserves the axis it acts along. In SciPy 1.11.0, this behavior will change: the default value of `keepdims` will become False, the `axis` over which the statistic is taken will be eliminated, and the value None will no longer be accepted. Set `keepdims` to True or False to avoid this warning.\n",
      "  mode, _ = stats.mode(_y[neigh_ind, k], axis=1)\n",
      "[Parallel(n_jobs=3)]: Done  15 out of  15 | elapsed:  3.3min finished\n"
     ]
    }
   ],
   "source": [
    "knn_untuned_learning_curve = LearningCurve(knn_untuned_clf, scoring=recall_scorer, n_splits=3)\n",
    "knn_untuned_learning_curve.run(X_train, y_train)\n",
    "knn_untuned_learning_curve_plot = LearningCurvePlot(experiment=knn_untuned_learning_curve)"
   ]
  },
  {
   "cell_type": "code",
   "execution_count": 45,
   "id": "80314f86",
   "metadata": {},
   "outputs": [
    {
     "name": "stderr",
     "output_type": "stream",
     "text": [
      "[Parallel(n_jobs=3)]: Using backend LokyBackend with 3 concurrent workers.\n"
     ]
    },
    {
     "name": "stdout",
     "output_type": "stream",
     "text": [
      "[learning_curve] Training set sizes: [ 6666 21666 36666 51666 66666]\n"
     ]
    },
    {
     "name": "stderr",
     "output_type": "stream",
     "text": [
      "/Users/jplatta/.asdf/installs/python/3.10.6/lib/python3.10/site-packages/sklearn/neighbors/_classification.py:237: FutureWarning: Unlike other reduction functions (e.g. `skew`, `kurtosis`), the default behavior of `mode` typically preserves the axis it acts along. In SciPy 1.11.0, this behavior will change: the default value of `keepdims` will become False, the `axis` over which the statistic is taken will be eliminated, and the value None will no longer be accepted. Set `keepdims` to True or False to avoid this warning.\n",
      "  mode, _ = stats.mode(_y[neigh_ind, k], axis=1)\n",
      "/Users/jplatta/.asdf/installs/python/3.10.6/lib/python3.10/site-packages/sklearn/neighbors/_classification.py:237: FutureWarning: Unlike other reduction functions (e.g. `skew`, `kurtosis`), the default behavior of `mode` typically preserves the axis it acts along. In SciPy 1.11.0, this behavior will change: the default value of `keepdims` will become False, the `axis` over which the statistic is taken will be eliminated, and the value None will no longer be accepted. Set `keepdims` to True or False to avoid this warning.\n",
      "  mode, _ = stats.mode(_y[neigh_ind, k], axis=1)\n",
      "/Users/jplatta/.asdf/installs/python/3.10.6/lib/python3.10/site-packages/sklearn/neighbors/_classification.py:237: FutureWarning: Unlike other reduction functions (e.g. `skew`, `kurtosis`), the default behavior of `mode` typically preserves the axis it acts along. In SciPy 1.11.0, this behavior will change: the default value of `keepdims` will become False, the `axis` over which the statistic is taken will be eliminated, and the value None will no longer be accepted. Set `keepdims` to True or False to avoid this warning.\n",
      "  mode, _ = stats.mode(_y[neigh_ind, k], axis=1)\n",
      "/Users/jplatta/.asdf/installs/python/3.10.6/lib/python3.10/site-packages/sklearn/neighbors/_classification.py:237: FutureWarning: Unlike other reduction functions (e.g. `skew`, `kurtosis`), the default behavior of `mode` typically preserves the axis it acts along. In SciPy 1.11.0, this behavior will change: the default value of `keepdims` will become False, the `axis` over which the statistic is taken will be eliminated, and the value None will no longer be accepted. Set `keepdims` to True or False to avoid this warning.\n",
      "  mode, _ = stats.mode(_y[neigh_ind, k], axis=1)\n",
      "/Users/jplatta/.asdf/installs/python/3.10.6/lib/python3.10/site-packages/sklearn/neighbors/_classification.py:237: FutureWarning: Unlike other reduction functions (e.g. `skew`, `kurtosis`), the default behavior of `mode` typically preserves the axis it acts along. In SciPy 1.11.0, this behavior will change: the default value of `keepdims` will become False, the `axis` over which the statistic is taken will be eliminated, and the value None will no longer be accepted. Set `keepdims` to True or False to avoid this warning.\n",
      "  mode, _ = stats.mode(_y[neigh_ind, k], axis=1)\n",
      "/Users/jplatta/.asdf/installs/python/3.10.6/lib/python3.10/site-packages/sklearn/neighbors/_classification.py:237: FutureWarning: Unlike other reduction functions (e.g. `skew`, `kurtosis`), the default behavior of `mode` typically preserves the axis it acts along. In SciPy 1.11.0, this behavior will change: the default value of `keepdims` will become False, the `axis` over which the statistic is taken will be eliminated, and the value None will no longer be accepted. Set `keepdims` to True or False to avoid this warning.\n",
      "  mode, _ = stats.mode(_y[neigh_ind, k], axis=1)\n",
      "/Users/jplatta/.asdf/installs/python/3.10.6/lib/python3.10/site-packages/sklearn/neighbors/_classification.py:237: FutureWarning: Unlike other reduction functions (e.g. `skew`, `kurtosis`), the default behavior of `mode` typically preserves the axis it acts along. In SciPy 1.11.0, this behavior will change: the default value of `keepdims` will become False, the `axis` over which the statistic is taken will be eliminated, and the value None will no longer be accepted. Set `keepdims` to True or False to avoid this warning.\n",
      "  mode, _ = stats.mode(_y[neigh_ind, k], axis=1)\n",
      "/Users/jplatta/.asdf/installs/python/3.10.6/lib/python3.10/site-packages/sklearn/neighbors/_classification.py:237: FutureWarning: Unlike other reduction functions (e.g. `skew`, `kurtosis`), the default behavior of `mode` typically preserves the axis it acts along. In SciPy 1.11.0, this behavior will change: the default value of `keepdims` will become False, the `axis` over which the statistic is taken will be eliminated, and the value None will no longer be accepted. Set `keepdims` to True or False to avoid this warning.\n",
      "  mode, _ = stats.mode(_y[neigh_ind, k], axis=1)\n",
      "/Users/jplatta/.asdf/installs/python/3.10.6/lib/python3.10/site-packages/sklearn/neighbors/_classification.py:237: FutureWarning: Unlike other reduction functions (e.g. `skew`, `kurtosis`), the default behavior of `mode` typically preserves the axis it acts along. In SciPy 1.11.0, this behavior will change: the default value of `keepdims` will become False, the `axis` over which the statistic is taken will be eliminated, and the value None will no longer be accepted. Set `keepdims` to True or False to avoid this warning.\n",
      "  mode, _ = stats.mode(_y[neigh_ind, k], axis=1)\n",
      "[Parallel(n_jobs=3)]: Done   4 out of  15 | elapsed:   33.0s remaining:  1.5min\n",
      "/Users/jplatta/.asdf/installs/python/3.10.6/lib/python3.10/site-packages/sklearn/neighbors/_classification.py:237: FutureWarning: Unlike other reduction functions (e.g. `skew`, `kurtosis`), the default behavior of `mode` typically preserves the axis it acts along. In SciPy 1.11.0, this behavior will change: the default value of `keepdims` will become False, the `axis` over which the statistic is taken will be eliminated, and the value None will no longer be accepted. Set `keepdims` to True or False to avoid this warning.\n",
      "  mode, _ = stats.mode(_y[neigh_ind, k], axis=1)\n",
      "/Users/jplatta/.asdf/installs/python/3.10.6/lib/python3.10/site-packages/sklearn/neighbors/_classification.py:237: FutureWarning: Unlike other reduction functions (e.g. `skew`, `kurtosis`), the default behavior of `mode` typically preserves the axis it acts along. In SciPy 1.11.0, this behavior will change: the default value of `keepdims` will become False, the `axis` over which the statistic is taken will be eliminated, and the value None will no longer be accepted. Set `keepdims` to True or False to avoid this warning.\n",
      "  mode, _ = stats.mode(_y[neigh_ind, k], axis=1)\n",
      "/Users/jplatta/.asdf/installs/python/3.10.6/lib/python3.10/site-packages/sklearn/neighbors/_classification.py:237: FutureWarning: Unlike other reduction functions (e.g. `skew`, `kurtosis`), the default behavior of `mode` typically preserves the axis it acts along. In SciPy 1.11.0, this behavior will change: the default value of `keepdims` will become False, the `axis` over which the statistic is taken will be eliminated, and the value None will no longer be accepted. Set `keepdims` to True or False to avoid this warning.\n",
      "  mode, _ = stats.mode(_y[neigh_ind, k], axis=1)\n",
      "/Users/jplatta/.asdf/installs/python/3.10.6/lib/python3.10/site-packages/sklearn/neighbors/_classification.py:237: FutureWarning: Unlike other reduction functions (e.g. `skew`, `kurtosis`), the default behavior of `mode` typically preserves the axis it acts along. In SciPy 1.11.0, this behavior will change: the default value of `keepdims` will become False, the `axis` over which the statistic is taken will be eliminated, and the value None will no longer be accepted. Set `keepdims` to True or False to avoid this warning.\n",
      "  mode, _ = stats.mode(_y[neigh_ind, k], axis=1)\n",
      "/Users/jplatta/.asdf/installs/python/3.10.6/lib/python3.10/site-packages/sklearn/neighbors/_classification.py:237: FutureWarning: Unlike other reduction functions (e.g. `skew`, `kurtosis`), the default behavior of `mode` typically preserves the axis it acts along. In SciPy 1.11.0, this behavior will change: the default value of `keepdims` will become False, the `axis` over which the statistic is taken will be eliminated, and the value None will no longer be accepted. Set `keepdims` to True or False to avoid this warning.\n",
      "  mode, _ = stats.mode(_y[neigh_ind, k], axis=1)\n",
      "/Users/jplatta/.asdf/installs/python/3.10.6/lib/python3.10/site-packages/sklearn/neighbors/_classification.py:237: FutureWarning: Unlike other reduction functions (e.g. `skew`, `kurtosis`), the default behavior of `mode` typically preserves the axis it acts along. In SciPy 1.11.0, this behavior will change: the default value of `keepdims` will become False, the `axis` over which the statistic is taken will be eliminated, and the value None will no longer be accepted. Set `keepdims` to True or False to avoid this warning.\n",
      "  mode, _ = stats.mode(_y[neigh_ind, k], axis=1)\n"
     ]
    },
    {
     "name": "stderr",
     "output_type": "stream",
     "text": [
      "/Users/jplatta/.asdf/installs/python/3.10.6/lib/python3.10/site-packages/sklearn/neighbors/_classification.py:237: FutureWarning: Unlike other reduction functions (e.g. `skew`, `kurtosis`), the default behavior of `mode` typically preserves the axis it acts along. In SciPy 1.11.0, this behavior will change: the default value of `keepdims` will become False, the `axis` over which the statistic is taken will be eliminated, and the value None will no longer be accepted. Set `keepdims` to True or False to avoid this warning.\n",
      "  mode, _ = stats.mode(_y[neigh_ind, k], axis=1)\n",
      "/Users/jplatta/.asdf/installs/python/3.10.6/lib/python3.10/site-packages/sklearn/neighbors/_classification.py:237: FutureWarning: Unlike other reduction functions (e.g. `skew`, `kurtosis`), the default behavior of `mode` typically preserves the axis it acts along. In SciPy 1.11.0, this behavior will change: the default value of `keepdims` will become False, the `axis` over which the statistic is taken will be eliminated, and the value None will no longer be accepted. Set `keepdims` to True or False to avoid this warning.\n",
      "  mode, _ = stats.mode(_y[neigh_ind, k], axis=1)\n",
      "[Parallel(n_jobs=3)]: Done   8 out of  15 | elapsed:  1.4min remaining:  1.3min\n",
      "/Users/jplatta/.asdf/installs/python/3.10.6/lib/python3.10/site-packages/sklearn/neighbors/_classification.py:237: FutureWarning: Unlike other reduction functions (e.g. `skew`, `kurtosis`), the default behavior of `mode` typically preserves the axis it acts along. In SciPy 1.11.0, this behavior will change: the default value of `keepdims` will become False, the `axis` over which the statistic is taken will be eliminated, and the value None will no longer be accepted. Set `keepdims` to True or False to avoid this warning.\n",
      "  mode, _ = stats.mode(_y[neigh_ind, k], axis=1)\n",
      "/Users/jplatta/.asdf/installs/python/3.10.6/lib/python3.10/site-packages/sklearn/neighbors/_classification.py:237: FutureWarning: Unlike other reduction functions (e.g. `skew`, `kurtosis`), the default behavior of `mode` typically preserves the axis it acts along. In SciPy 1.11.0, this behavior will change: the default value of `keepdims` will become False, the `axis` over which the statistic is taken will be eliminated, and the value None will no longer be accepted. Set `keepdims` to True or False to avoid this warning.\n",
      "  mode, _ = stats.mode(_y[neigh_ind, k], axis=1)\n",
      "/Users/jplatta/.asdf/installs/python/3.10.6/lib/python3.10/site-packages/sklearn/neighbors/_classification.py:237: FutureWarning: Unlike other reduction functions (e.g. `skew`, `kurtosis`), the default behavior of `mode` typically preserves the axis it acts along. In SciPy 1.11.0, this behavior will change: the default value of `keepdims` will become False, the `axis` over which the statistic is taken will be eliminated, and the value None will no longer be accepted. Set `keepdims` to True or False to avoid this warning.\n",
      "  mode, _ = stats.mode(_y[neigh_ind, k], axis=1)\n",
      "/Users/jplatta/.asdf/installs/python/3.10.6/lib/python3.10/site-packages/sklearn/neighbors/_classification.py:237: FutureWarning: Unlike other reduction functions (e.g. `skew`, `kurtosis`), the default behavior of `mode` typically preserves the axis it acts along. In SciPy 1.11.0, this behavior will change: the default value of `keepdims` will become False, the `axis` over which the statistic is taken will be eliminated, and the value None will no longer be accepted. Set `keepdims` to True or False to avoid this warning.\n",
      "  mode, _ = stats.mode(_y[neigh_ind, k], axis=1)\n",
      "/Users/jplatta/.asdf/installs/python/3.10.6/lib/python3.10/site-packages/sklearn/neighbors/_classification.py:237: FutureWarning: Unlike other reduction functions (e.g. `skew`, `kurtosis`), the default behavior of `mode` typically preserves the axis it acts along. In SciPy 1.11.0, this behavior will change: the default value of `keepdims` will become False, the `axis` over which the statistic is taken will be eliminated, and the value None will no longer be accepted. Set `keepdims` to True or False to avoid this warning.\n",
      "  mode, _ = stats.mode(_y[neigh_ind, k], axis=1)\n",
      "/Users/jplatta/.asdf/installs/python/3.10.6/lib/python3.10/site-packages/sklearn/neighbors/_classification.py:237: FutureWarning: Unlike other reduction functions (e.g. `skew`, `kurtosis`), the default behavior of `mode` typically preserves the axis it acts along. In SciPy 1.11.0, this behavior will change: the default value of `keepdims` will become False, the `axis` over which the statistic is taken will be eliminated, and the value None will no longer be accepted. Set `keepdims` to True or False to avoid this warning.\n",
      "  mode, _ = stats.mode(_y[neigh_ind, k], axis=1)\n",
      "/Users/jplatta/.asdf/installs/python/3.10.6/lib/python3.10/site-packages/sklearn/neighbors/_classification.py:237: FutureWarning: Unlike other reduction functions (e.g. `skew`, `kurtosis`), the default behavior of `mode` typically preserves the axis it acts along. In SciPy 1.11.0, this behavior will change: the default value of `keepdims` will become False, the `axis` over which the statistic is taken will be eliminated, and the value None will no longer be accepted. Set `keepdims` to True or False to avoid this warning.\n",
      "  mode, _ = stats.mode(_y[neigh_ind, k], axis=1)\n",
      "/Users/jplatta/.asdf/installs/python/3.10.6/lib/python3.10/site-packages/sklearn/neighbors/_classification.py:237: FutureWarning: Unlike other reduction functions (e.g. `skew`, `kurtosis`), the default behavior of `mode` typically preserves the axis it acts along. In SciPy 1.11.0, this behavior will change: the default value of `keepdims` will become False, the `axis` over which the statistic is taken will be eliminated, and the value None will no longer be accepted. Set `keepdims` to True or False to avoid this warning.\n",
      "  mode, _ = stats.mode(_y[neigh_ind, k], axis=1)\n",
      "/Users/jplatta/.asdf/installs/python/3.10.6/lib/python3.10/site-packages/sklearn/neighbors/_classification.py:237: FutureWarning: Unlike other reduction functions (e.g. `skew`, `kurtosis`), the default behavior of `mode` typically preserves the axis it acts along. In SciPy 1.11.0, this behavior will change: the default value of `keepdims` will become False, the `axis` over which the statistic is taken will be eliminated, and the value None will no longer be accepted. Set `keepdims` to True or False to avoid this warning.\n",
      "  mode, _ = stats.mode(_y[neigh_ind, k], axis=1)\n",
      "[Parallel(n_jobs=3)]: Done  12 out of  15 | elapsed:  2.2min remaining:   32.8s\n",
      "/Users/jplatta/.asdf/installs/python/3.10.6/lib/python3.10/site-packages/sklearn/neighbors/_classification.py:237: FutureWarning: Unlike other reduction functions (e.g. `skew`, `kurtosis`), the default behavior of `mode` typically preserves the axis it acts along. In SciPy 1.11.0, this behavior will change: the default value of `keepdims` will become False, the `axis` over which the statistic is taken will be eliminated, and the value None will no longer be accepted. Set `keepdims` to True or False to avoid this warning.\n",
      "  mode, _ = stats.mode(_y[neigh_ind, k], axis=1)\n",
      "/Users/jplatta/.asdf/installs/python/3.10.6/lib/python3.10/site-packages/sklearn/neighbors/_classification.py:237: FutureWarning: Unlike other reduction functions (e.g. `skew`, `kurtosis`), the default behavior of `mode` typically preserves the axis it acts along. In SciPy 1.11.0, this behavior will change: the default value of `keepdims` will become False, the `axis` over which the statistic is taken will be eliminated, and the value None will no longer be accepted. Set `keepdims` to True or False to avoid this warning.\n",
      "  mode, _ = stats.mode(_y[neigh_ind, k], axis=1)\n",
      "/Users/jplatta/.asdf/installs/python/3.10.6/lib/python3.10/site-packages/sklearn/neighbors/_classification.py:237: FutureWarning: Unlike other reduction functions (e.g. `skew`, `kurtosis`), the default behavior of `mode` typically preserves the axis it acts along. In SciPy 1.11.0, this behavior will change: the default value of `keepdims` will become False, the `axis` over which the statistic is taken will be eliminated, and the value None will no longer be accepted. Set `keepdims` to True or False to avoid this warning.\n",
      "  mode, _ = stats.mode(_y[neigh_ind, k], axis=1)\n"
     ]
    },
    {
     "name": "stderr",
     "output_type": "stream",
     "text": [
      "/Users/jplatta/.asdf/installs/python/3.10.6/lib/python3.10/site-packages/sklearn/neighbors/_classification.py:237: FutureWarning: Unlike other reduction functions (e.g. `skew`, `kurtosis`), the default behavior of `mode` typically preserves the axis it acts along. In SciPy 1.11.0, this behavior will change: the default value of `keepdims` will become False, the `axis` over which the statistic is taken will be eliminated, and the value None will no longer be accepted. Set `keepdims` to True or False to avoid this warning.\n",
      "  mode, _ = stats.mode(_y[neigh_ind, k], axis=1)\n",
      "[Parallel(n_jobs=3)]: Done  15 out of  15 | elapsed:  3.3min finished\n"
     ]
    }
   ],
   "source": [
    "knn_tuned_learning_curve = LearningCurve(knn_tuned_clf, scoring=recall_scorer, n_splits=3)\n",
    "knn_tuned_learning_curve.run(X_train, y_train)\n",
    "knn_tuned_learning_curve_plot = LearningCurvePlot(experiment=knn_tuned_learning_curve)"
   ]
  },
  {
   "cell_type": "code",
   "execution_count": 46,
   "id": "8342c6b8",
   "metadata": {},
   "outputs": [
    {
     "data": {
      "image/png": "[encoded data removed]",
      "text/plain": [
       "<Figure size 1152x288 with 3 Axes>"
      ]
     },
     "metadata": {},
     "output_type": "display_data"
    }
   ],
   "source": [
    "knn_train_curv_fig, axs = plt.subplots(1, 3, figsize=(16, 4))\n",
    "_, ax = knn_untuned_learning_curve_plot.plot(ax=axs[0], ymin=0.0, ymax=1.02)\n",
    "_, ax = knn_tuned_learning_curve_plot.plot(ax=axs[1], ymin=0.0, ymax=1.02)\n",
    "_, ax = knn_tuned_cv_folds.plot(ax=axs[2])"
   ]
  },
  {
   "cell_type": "code",
   "execution_count": 47,
   "id": "52491d97",
   "metadata": {},
   "outputs": [],
   "source": [
    "knn_train_curv_fig.savefig(\n",
    "    \"../out/SNLI/KNN/Training Curves - Report.png\",  \n",
    "    bbox_inches='tight',\n",
    "    dpi=800\n",
    ")"
   ]
  },
  {
   "cell_type": "code",
   "execution_count": 52,
   "id": "3543dd15",
   "metadata": {},
   "outputs": [
    {
     "name": "stderr",
     "output_type": "stream",
     "text": [
      "[Parallel(n_jobs=3)]: Using backend LokyBackend with 3 concurrent workers.\n",
      "[Parallel(n_jobs=3)]: Done   2 out of   9 | elapsed:  1.2min remaining:  4.4min\n",
      "[Parallel(n_jobs=3)]: Done   4 out of   9 | elapsed:  1.5min remaining:  1.9min\n",
      "[Parallel(n_jobs=3)]: Done   6 out of   9 | elapsed:  2.5min remaining:  1.2min\n",
      "[Parallel(n_jobs=3)]: Done   9 out of   9 | elapsed:  4.0min finished\n"
     ]
    },
    {
     "data": {
      "text/plain": [
       "True"
      ]
     },
     "execution_count": 52,
     "metadata": {},
     "output_type": "execute_result"
    }
   ],
   "source": [
    "distance_val_curv = ValidationCurve(\n",
    "    KNeighborsClassifier(p=2, weights='distance', leaf_size=5000, algorithm='ball_tree'), \n",
    "    'n_neighbors', \n",
    "    [100, 5000, 10000],\n",
    "    scoring=recall_scorer,\n",
    "    n_splits=3\n",
    ")\n",
    "distance_val_curv.run(X_train_sub, y_train_sub)"
   ]
  },
  {
   "cell_type": "code",
   "execution_count": 53,
   "id": "3df6a4e3",
   "metadata": {},
   "outputs": [
    {
     "name": "stderr",
     "output_type": "stream",
     "text": [
      "[Parallel(n_jobs=3)]: Using backend LokyBackend with 3 concurrent workers.\n",
      "/Users/jplatta/.asdf/installs/python/3.10.6/lib/python3.10/site-packages/sklearn/neighbors/_classification.py:237: FutureWarning: Unlike other reduction functions (e.g. `skew`, `kurtosis`), the default behavior of `mode` typically preserves the axis it acts along. In SciPy 1.11.0, this behavior will change: the default value of `keepdims` will become False, the `axis` over which the statistic is taken will be eliminated, and the value None will no longer be accepted. Set `keepdims` to True or False to avoid this warning.\n",
      "  mode, _ = stats.mode(_y[neigh_ind, k], axis=1)\n",
      "/Users/jplatta/.asdf/installs/python/3.10.6/lib/python3.10/site-packages/sklearn/neighbors/_classification.py:237: FutureWarning: Unlike other reduction functions (e.g. `skew`, `kurtosis`), the default behavior of `mode` typically preserves the axis it acts along. In SciPy 1.11.0, this behavior will change: the default value of `keepdims` will become False, the `axis` over which the statistic is taken will be eliminated, and the value None will no longer be accepted. Set `keepdims` to True or False to avoid this warning.\n",
      "  mode, _ = stats.mode(_y[neigh_ind, k], axis=1)\n",
      "/Users/jplatta/.asdf/installs/python/3.10.6/lib/python3.10/site-packages/sklearn/neighbors/_classification.py:237: FutureWarning: Unlike other reduction functions (e.g. `skew`, `kurtosis`), the default behavior of `mode` typically preserves the axis it acts along. In SciPy 1.11.0, this behavior will change: the default value of `keepdims` will become False, the `axis` over which the statistic is taken will be eliminated, and the value None will no longer be accepted. Set `keepdims` to True or False to avoid this warning.\n",
      "  mode, _ = stats.mode(_y[neigh_ind, k], axis=1)\n",
      "/Users/jplatta/.asdf/installs/python/3.10.6/lib/python3.10/site-packages/sklearn/neighbors/_classification.py:237: FutureWarning: Unlike other reduction functions (e.g. `skew`, `kurtosis`), the default behavior of `mode` typically preserves the axis it acts along. In SciPy 1.11.0, this behavior will change: the default value of `keepdims` will become False, the `axis` over which the statistic is taken will be eliminated, and the value None will no longer be accepted. Set `keepdims` to True or False to avoid this warning.\n",
      "  mode, _ = stats.mode(_y[neigh_ind, k], axis=1)\n",
      "/Users/jplatta/.asdf/installs/python/3.10.6/lib/python3.10/site-packages/sklearn/neighbors/_classification.py:237: FutureWarning: Unlike other reduction functions (e.g. `skew`, `kurtosis`), the default behavior of `mode` typically preserves the axis it acts along. In SciPy 1.11.0, this behavior will change: the default value of `keepdims` will become False, the `axis` over which the statistic is taken will be eliminated, and the value None will no longer be accepted. Set `keepdims` to True or False to avoid this warning.\n",
      "  mode, _ = stats.mode(_y[neigh_ind, k], axis=1)\n",
      "/Users/jplatta/.asdf/installs/python/3.10.6/lib/python3.10/site-packages/sklearn/neighbors/_classification.py:237: FutureWarning: Unlike other reduction functions (e.g. `skew`, `kurtosis`), the default behavior of `mode` typically preserves the axis it acts along. In SciPy 1.11.0, this behavior will change: the default value of `keepdims` will become False, the `axis` over which the statistic is taken will be eliminated, and the value None will no longer be accepted. Set `keepdims` to True or False to avoid this warning.\n",
      "  mode, _ = stats.mode(_y[neigh_ind, k], axis=1)\n",
      "[Parallel(n_jobs=3)]: Done   3 out of  18 | elapsed:   19.4s remaining:  1.6min\n",
      "/Users/jplatta/.asdf/installs/python/3.10.6/lib/python3.10/site-packages/sklearn/neighbors/_classification.py:237: FutureWarning: Unlike other reduction functions (e.g. `skew`, `kurtosis`), the default behavior of `mode` typically preserves the axis it acts along. In SciPy 1.11.0, this behavior will change: the default value of `keepdims` will become False, the `axis` over which the statistic is taken will be eliminated, and the value None will no longer be accepted. Set `keepdims` to True or False to avoid this warning.\n",
      "  mode, _ = stats.mode(_y[neigh_ind, k], axis=1)\n",
      "/Users/jplatta/.asdf/installs/python/3.10.6/lib/python3.10/site-packages/sklearn/neighbors/_classification.py:237: FutureWarning: Unlike other reduction functions (e.g. `skew`, `kurtosis`), the default behavior of `mode` typically preserves the axis it acts along. In SciPy 1.11.0, this behavior will change: the default value of `keepdims` will become False, the `axis` over which the statistic is taken will be eliminated, and the value None will no longer be accepted. Set `keepdims` to True or False to avoid this warning.\n",
      "  mode, _ = stats.mode(_y[neigh_ind, k], axis=1)\n",
      "/Users/jplatta/.asdf/installs/python/3.10.6/lib/python3.10/site-packages/sklearn/neighbors/_classification.py:237: FutureWarning: Unlike other reduction functions (e.g. `skew`, `kurtosis`), the default behavior of `mode` typically preserves the axis it acts along. In SciPy 1.11.0, this behavior will change: the default value of `keepdims` will become False, the `axis` over which the statistic is taken will be eliminated, and the value None will no longer be accepted. Set `keepdims` to True or False to avoid this warning.\n",
      "  mode, _ = stats.mode(_y[neigh_ind, k], axis=1)\n",
      "/Users/jplatta/.asdf/installs/python/3.10.6/lib/python3.10/site-packages/sklearn/neighbors/_classification.py:237: FutureWarning: Unlike other reduction functions (e.g. `skew`, `kurtosis`), the default behavior of `mode` typically preserves the axis it acts along. In SciPy 1.11.0, this behavior will change: the default value of `keepdims` will become False, the `axis` over which the statistic is taken will be eliminated, and the value None will no longer be accepted. Set `keepdims` to True or False to avoid this warning.\n",
      "  mode, _ = stats.mode(_y[neigh_ind, k], axis=1)\n",
      "/Users/jplatta/.asdf/installs/python/3.10.6/lib/python3.10/site-packages/sklearn/neighbors/_classification.py:237: FutureWarning: Unlike other reduction functions (e.g. `skew`, `kurtosis`), the default behavior of `mode` typically preserves the axis it acts along. In SciPy 1.11.0, this behavior will change: the default value of `keepdims` will become False, the `axis` over which the statistic is taken will be eliminated, and the value None will no longer be accepted. Set `keepdims` to True or False to avoid this warning.\n",
      "  mode, _ = stats.mode(_y[neigh_ind, k], axis=1)\n",
      "/Users/jplatta/.asdf/installs/python/3.10.6/lib/python3.10/site-packages/sklearn/neighbors/_classification.py:237: FutureWarning: Unlike other reduction functions (e.g. `skew`, `kurtosis`), the default behavior of `mode` typically preserves the axis it acts along. In SciPy 1.11.0, this behavior will change: the default value of `keepdims` will become False, the `axis` over which the statistic is taken will be eliminated, and the value None will no longer be accepted. Set `keepdims` to True or False to avoid this warning.\n",
      "  mode, _ = stats.mode(_y[neigh_ind, k], axis=1)\n",
      "/Users/jplatta/.asdf/installs/python/3.10.6/lib/python3.10/site-packages/sklearn/neighbors/_classification.py:237: FutureWarning: Unlike other reduction functions (e.g. `skew`, `kurtosis`), the default behavior of `mode` typically preserves the axis it acts along. In SciPy 1.11.0, this behavior will change: the default value of `keepdims` will become False, the `axis` over which the statistic is taken will be eliminated, and the value None will no longer be accepted. Set `keepdims` to True or False to avoid this warning.\n",
      "  mode, _ = stats.mode(_y[neigh_ind, k], axis=1)\n",
      "/Users/jplatta/.asdf/installs/python/3.10.6/lib/python3.10/site-packages/sklearn/neighbors/_classification.py:237: FutureWarning: Unlike other reduction functions (e.g. `skew`, `kurtosis`), the default behavior of `mode` typically preserves the axis it acts along. In SciPy 1.11.0, this behavior will change: the default value of `keepdims` will become False, the `axis` over which the statistic is taken will be eliminated, and the value None will no longer be accepted. Set `keepdims` to True or False to avoid this warning.\n",
      "  mode, _ = stats.mode(_y[neigh_ind, k], axis=1)\n"
     ]
    },
    {
     "name": "stderr",
     "output_type": "stream",
     "text": [
      "/Users/jplatta/.asdf/installs/python/3.10.6/lib/python3.10/site-packages/sklearn/neighbors/_classification.py:237: FutureWarning: Unlike other reduction functions (e.g. `skew`, `kurtosis`), the default behavior of `mode` typically preserves the axis it acts along. In SciPy 1.11.0, this behavior will change: the default value of `keepdims` will become False, the `axis` over which the statistic is taken will be eliminated, and the value None will no longer be accepted. Set `keepdims` to True or False to avoid this warning.\n",
      "  mode, _ = stats.mode(_y[neigh_ind, k], axis=1)\n",
      "/Users/jplatta/.asdf/installs/python/3.10.6/lib/python3.10/site-packages/sklearn/neighbors/_classification.py:237: FutureWarning: Unlike other reduction functions (e.g. `skew`, `kurtosis`), the default behavior of `mode` typically preserves the axis it acts along. In SciPy 1.11.0, this behavior will change: the default value of `keepdims` will become False, the `axis` over which the statistic is taken will be eliminated, and the value None will no longer be accepted. Set `keepdims` to True or False to avoid this warning.\n",
      "  mode, _ = stats.mode(_y[neigh_ind, k], axis=1)\n",
      "[Parallel(n_jobs=3)]: Done   7 out of  18 | elapsed:   55.4s remaining:  1.5min\n",
      "/Users/jplatta/.asdf/installs/python/3.10.6/lib/python3.10/site-packages/sklearn/neighbors/_classification.py:237: FutureWarning: Unlike other reduction functions (e.g. `skew`, `kurtosis`), the default behavior of `mode` typically preserves the axis it acts along. In SciPy 1.11.0, this behavior will change: the default value of `keepdims` will become False, the `axis` over which the statistic is taken will be eliminated, and the value None will no longer be accepted. Set `keepdims` to True or False to avoid this warning.\n",
      "  mode, _ = stats.mode(_y[neigh_ind, k], axis=1)\n",
      "/Users/jplatta/.asdf/installs/python/3.10.6/lib/python3.10/site-packages/sklearn/neighbors/_classification.py:237: FutureWarning: Unlike other reduction functions (e.g. `skew`, `kurtosis`), the default behavior of `mode` typically preserves the axis it acts along. In SciPy 1.11.0, this behavior will change: the default value of `keepdims` will become False, the `axis` over which the statistic is taken will be eliminated, and the value None will no longer be accepted. Set `keepdims` to True or False to avoid this warning.\n",
      "  mode, _ = stats.mode(_y[neigh_ind, k], axis=1)\n",
      "/Users/jplatta/.asdf/installs/python/3.10.6/lib/python3.10/site-packages/sklearn/neighbors/_classification.py:237: FutureWarning: Unlike other reduction functions (e.g. `skew`, `kurtosis`), the default behavior of `mode` typically preserves the axis it acts along. In SciPy 1.11.0, this behavior will change: the default value of `keepdims` will become False, the `axis` over which the statistic is taken will be eliminated, and the value None will no longer be accepted. Set `keepdims` to True or False to avoid this warning.\n",
      "  mode, _ = stats.mode(_y[neigh_ind, k], axis=1)\n",
      "/Users/jplatta/.asdf/installs/python/3.10.6/lib/python3.10/site-packages/sklearn/neighbors/_classification.py:237: FutureWarning: Unlike other reduction functions (e.g. `skew`, `kurtosis`), the default behavior of `mode` typically preserves the axis it acts along. In SciPy 1.11.0, this behavior will change: the default value of `keepdims` will become False, the `axis` over which the statistic is taken will be eliminated, and the value None will no longer be accepted. Set `keepdims` to True or False to avoid this warning.\n",
      "  mode, _ = stats.mode(_y[neigh_ind, k], axis=1)\n",
      "/Users/jplatta/.asdf/installs/python/3.10.6/lib/python3.10/site-packages/sklearn/neighbors/_classification.py:237: FutureWarning: Unlike other reduction functions (e.g. `skew`, `kurtosis`), the default behavior of `mode` typically preserves the axis it acts along. In SciPy 1.11.0, this behavior will change: the default value of `keepdims` will become False, the `axis` over which the statistic is taken will be eliminated, and the value None will no longer be accepted. Set `keepdims` to True or False to avoid this warning.\n",
      "  mode, _ = stats.mode(_y[neigh_ind, k], axis=1)\n",
      "/Users/jplatta/.asdf/installs/python/3.10.6/lib/python3.10/site-packages/sklearn/neighbors/_classification.py:237: FutureWarning: Unlike other reduction functions (e.g. `skew`, `kurtosis`), the default behavior of `mode` typically preserves the axis it acts along. In SciPy 1.11.0, this behavior will change: the default value of `keepdims` will become False, the `axis` over which the statistic is taken will be eliminated, and the value None will no longer be accepted. Set `keepdims` to True or False to avoid this warning.\n",
      "  mode, _ = stats.mode(_y[neigh_ind, k], axis=1)\n",
      "/Users/jplatta/.asdf/installs/python/3.10.6/lib/python3.10/site-packages/sklearn/neighbors/_classification.py:237: FutureWarning: Unlike other reduction functions (e.g. `skew`, `kurtosis`), the default behavior of `mode` typically preserves the axis it acts along. In SciPy 1.11.0, this behavior will change: the default value of `keepdims` will become False, the `axis` over which the statistic is taken will be eliminated, and the value None will no longer be accepted. Set `keepdims` to True or False to avoid this warning.\n",
      "  mode, _ = stats.mode(_y[neigh_ind, k], axis=1)\n",
      "[Parallel(n_jobs=3)]: Done  11 out of  18 | elapsed:  1.3min remaining:   47.9s\n",
      "/Users/jplatta/.asdf/installs/python/3.10.6/lib/python3.10/site-packages/sklearn/neighbors/_classification.py:237: FutureWarning: Unlike other reduction functions (e.g. `skew`, `kurtosis`), the default behavior of `mode` typically preserves the axis it acts along. In SciPy 1.11.0, this behavior will change: the default value of `keepdims` will become False, the `axis` over which the statistic is taken will be eliminated, and the value None will no longer be accepted. Set `keepdims` to True or False to avoid this warning.\n",
      "  mode, _ = stats.mode(_y[neigh_ind, k], axis=1)\n",
      "/Users/jplatta/.asdf/installs/python/3.10.6/lib/python3.10/site-packages/sklearn/neighbors/_classification.py:237: FutureWarning: Unlike other reduction functions (e.g. `skew`, `kurtosis`), the default behavior of `mode` typically preserves the axis it acts along. In SciPy 1.11.0, this behavior will change: the default value of `keepdims` will become False, the `axis` over which the statistic is taken will be eliminated, and the value None will no longer be accepted. Set `keepdims` to True or False to avoid this warning.\n",
      "  mode, _ = stats.mode(_y[neigh_ind, k], axis=1)\n",
      "/Users/jplatta/.asdf/installs/python/3.10.6/lib/python3.10/site-packages/sklearn/neighbors/_classification.py:237: FutureWarning: Unlike other reduction functions (e.g. `skew`, `kurtosis`), the default behavior of `mode` typically preserves the axis it acts along. In SciPy 1.11.0, this behavior will change: the default value of `keepdims` will become False, the `axis` over which the statistic is taken will be eliminated, and the value None will no longer be accepted. Set `keepdims` to True or False to avoid this warning.\n",
      "  mode, _ = stats.mode(_y[neigh_ind, k], axis=1)\n",
      "/Users/jplatta/.asdf/installs/python/3.10.6/lib/python3.10/site-packages/sklearn/neighbors/_classification.py:237: FutureWarning: Unlike other reduction functions (e.g. `skew`, `kurtosis`), the default behavior of `mode` typically preserves the axis it acts along. In SciPy 1.11.0, this behavior will change: the default value of `keepdims` will become False, the `axis` over which the statistic is taken will be eliminated, and the value None will no longer be accepted. Set `keepdims` to True or False to avoid this warning.\n",
      "  mode, _ = stats.mode(_y[neigh_ind, k], axis=1)\n",
      "/Users/jplatta/.asdf/installs/python/3.10.6/lib/python3.10/site-packages/sklearn/neighbors/_classification.py:237: FutureWarning: Unlike other reduction functions (e.g. `skew`, `kurtosis`), the default behavior of `mode` typically preserves the axis it acts along. In SciPy 1.11.0, this behavior will change: the default value of `keepdims` will become False, the `axis` over which the statistic is taken will be eliminated, and the value None will no longer be accepted. Set `keepdims` to True or False to avoid this warning.\n",
      "  mode, _ = stats.mode(_y[neigh_ind, k], axis=1)\n"
     ]
    },
    {
     "name": "stderr",
     "output_type": "stream",
     "text": [
      "/Users/jplatta/.asdf/installs/python/3.10.6/lib/python3.10/site-packages/sklearn/neighbors/_classification.py:237: FutureWarning: Unlike other reduction functions (e.g. `skew`, `kurtosis`), the default behavior of `mode` typically preserves the axis it acts along. In SciPy 1.11.0, this behavior will change: the default value of `keepdims` will become False, the `axis` over which the statistic is taken will be eliminated, and the value None will no longer be accepted. Set `keepdims` to True or False to avoid this warning.\n",
      "  mode, _ = stats.mode(_y[neigh_ind, k], axis=1)\n",
      "/Users/jplatta/.asdf/installs/python/3.10.6/lib/python3.10/site-packages/sklearn/neighbors/_classification.py:237: FutureWarning: Unlike other reduction functions (e.g. `skew`, `kurtosis`), the default behavior of `mode` typically preserves the axis it acts along. In SciPy 1.11.0, this behavior will change: the default value of `keepdims` will become False, the `axis` over which the statistic is taken will be eliminated, and the value None will no longer be accepted. Set `keepdims` to True or False to avoid this warning.\n",
      "  mode, _ = stats.mode(_y[neigh_ind, k], axis=1)\n",
      "[Parallel(n_jobs=3)]: Done  15 out of  18 | elapsed:  1.6min remaining:   19.3s\n",
      "/Users/jplatta/.asdf/installs/python/3.10.6/lib/python3.10/site-packages/sklearn/neighbors/_classification.py:237: FutureWarning: Unlike other reduction functions (e.g. `skew`, `kurtosis`), the default behavior of `mode` typically preserves the axis it acts along. In SciPy 1.11.0, this behavior will change: the default value of `keepdims` will become False, the `axis` over which the statistic is taken will be eliminated, and the value None will no longer be accepted. Set `keepdims` to True or False to avoid this warning.\n",
      "  mode, _ = stats.mode(_y[neigh_ind, k], axis=1)\n",
      "/Users/jplatta/.asdf/installs/python/3.10.6/lib/python3.10/site-packages/sklearn/neighbors/_classification.py:237: FutureWarning: Unlike other reduction functions (e.g. `skew`, `kurtosis`), the default behavior of `mode` typically preserves the axis it acts along. In SciPy 1.11.0, this behavior will change: the default value of `keepdims` will become False, the `axis` over which the statistic is taken will be eliminated, and the value None will no longer be accepted. Set `keepdims` to True or False to avoid this warning.\n",
      "  mode, _ = stats.mode(_y[neigh_ind, k], axis=1)\n",
      "/Users/jplatta/.asdf/installs/python/3.10.6/lib/python3.10/site-packages/sklearn/neighbors/_classification.py:237: FutureWarning: Unlike other reduction functions (e.g. `skew`, `kurtosis`), the default behavior of `mode` typically preserves the axis it acts along. In SciPy 1.11.0, this behavior will change: the default value of `keepdims` will become False, the `axis` over which the statistic is taken will be eliminated, and the value None will no longer be accepted. Set `keepdims` to True or False to avoid this warning.\n",
      "  mode, _ = stats.mode(_y[neigh_ind, k], axis=1)\n",
      "/Users/jplatta/.asdf/installs/python/3.10.6/lib/python3.10/site-packages/sklearn/neighbors/_classification.py:237: FutureWarning: Unlike other reduction functions (e.g. `skew`, `kurtosis`), the default behavior of `mode` typically preserves the axis it acts along. In SciPy 1.11.0, this behavior will change: the default value of `keepdims` will become False, the `axis` over which the statistic is taken will be eliminated, and the value None will no longer be accepted. Set `keepdims` to True or False to avoid this warning.\n",
      "  mode, _ = stats.mode(_y[neigh_ind, k], axis=1)\n",
      "/Users/jplatta/.asdf/installs/python/3.10.6/lib/python3.10/site-packages/sklearn/neighbors/_classification.py:237: FutureWarning: Unlike other reduction functions (e.g. `skew`, `kurtosis`), the default behavior of `mode` typically preserves the axis it acts along. In SciPy 1.11.0, this behavior will change: the default value of `keepdims` will become False, the `axis` over which the statistic is taken will be eliminated, and the value None will no longer be accepted. Set `keepdims` to True or False to avoid this warning.\n",
      "  mode, _ = stats.mode(_y[neigh_ind, k], axis=1)\n",
      "/Users/jplatta/.asdf/installs/python/3.10.6/lib/python3.10/site-packages/sklearn/neighbors/_classification.py:237: FutureWarning: Unlike other reduction functions (e.g. `skew`, `kurtosis`), the default behavior of `mode` typically preserves the axis it acts along. In SciPy 1.11.0, this behavior will change: the default value of `keepdims` will become False, the `axis` over which the statistic is taken will be eliminated, and the value None will no longer be accepted. Set `keepdims` to True or False to avoid this warning.\n",
      "  mode, _ = stats.mode(_y[neigh_ind, k], axis=1)\n",
      "[Parallel(n_jobs=3)]: Done  18 out of  18 | elapsed:  1.9min finished\n"
     ]
    },
    {
     "data": {
      "text/plain": [
       "True"
      ]
     },
     "execution_count": 53,
     "metadata": {},
     "output_type": "execute_result"
    }
   ],
   "source": [
    "uniform_val_curv = ValidationCurve(\n",
    "    KNeighborsClassifier(p=1, weights='uniform'), \n",
    "    'n_neighbors', \n",
    "    np.arange(2, 120, 20),\n",
    "    scoring=recall_scorer,\n",
    "    n_splits=3\n",
    ")\n",
    "uniform_val_curv.run(X_train_sub, y_train_sub)"
   ]
  },
  {
   "cell_type": "code",
   "execution_count": 55,
   "id": "8784b750",
   "metadata": {},
   "outputs": [],
   "source": [
    "distance_val_curv_plot =  ValidationCurvePlot(experiment=distance_val_curv)\n",
    "uniform_val_curv_plot =  ValidationCurvePlot(experiment=uniform_val_curv)"
   ]
  },
  {
   "cell_type": "code",
   "execution_count": 58,
   "id": "1d61181c",
   "metadata": {},
   "outputs": [
    {
     "data": {
      "image/png": "[encoded data removed]",
      "text/plain": [
       "<Figure size 864x360 with 2 Axes>"
      ]
     },
     "metadata": {
      "needs_background": "light"
     },
     "output_type": "display_data"
    }
   ],
   "source": [
    "knn_val_curvs_fig, axs = plt.subplots(1, 2, figsize=(12, 5))\n",
    "_, ax = distance_val_curv_plot.plot(ax=axs[0])\n",
    "_, ax = uniform_val_curv_plot.plot(ax=axs[1])"
   ]
  },
  {
   "cell_type": "code",
   "execution_count": 59,
   "id": "e7fe483a",
   "metadata": {},
   "outputs": [],
   "source": [
    "knn_val_curvs_fig.savefig(\n",
    "    \"../out/SNLI/KNN/Validation Curves - Report.png\",  \n",
    "    bbox_inches='tight',\n",
    "    dpi=800\n",
    ")"
   ]
  },
  {
   "cell_type": "code",
   "execution_count": 60,
   "id": "fec203dd",
   "metadata": {},
   "outputs": [
    {
     "name": "stdout",
     "output_type": "stream",
     "text": [
      "KNeighborsClassifier(n_neighbors=9)\n",
      "              precision    recall  f1-score   support\n",
      "\n",
      "           0       0.40      0.49      0.44      3237\n",
      "           1       0.47      0.33      0.39      3368\n",
      "           2       0.39      0.42      0.40      3219\n",
      "\n",
      "    accuracy                           0.41      9824\n",
      "   macro avg       0.42      0.41      0.41      9824\n",
      "weighted avg       0.42      0.41      0.41      9824\n",
      "\n"
     ]
    },
    {
     "name": "stderr",
     "output_type": "stream",
     "text": [
      "/Users/jplatta/.asdf/installs/python/3.10.6/lib/python3.10/site-packages/sklearn/neighbors/_classification.py:237: FutureWarning: Unlike other reduction functions (e.g. `skew`, `kurtosis`), the default behavior of `mode` typically preserves the axis it acts along. In SciPy 1.11.0, this behavior will change: the default value of `keepdims` will become False, the `axis` over which the statistic is taken will be eliminated, and the value None will no longer be accepted. Set `keepdims` to True or False to avoid this warning.\n",
      "  mode, _ = stats.mode(_y[neigh_ind, k], axis=1)\n"
     ]
    }
   ],
   "source": [
    "knn_tuned_model_eval = ModelEvaluation(knn_tuned_clf)\n",
    "knn_tuned_model_eval.run(X_train, y_train, snli_data.X_test, snli_data.y_test)\n",
    "print(knn_tuned_model_eval.model)\n",
    "print(ClassificationReport(experiment=knn_tuned_model_eval).plot())"
   ]
  },
  {
   "cell_type": "markdown",
   "id": "ede3b410",
   "metadata": {},
   "source": [
    "## AdaBoost"
   ]
  },
  {
   "cell_type": "code",
   "execution_count": 61,
   "id": "6da9b247",
   "metadata": {},
   "outputs": [],
   "source": [
    "dstump = DecisionTreeClassifier(max_depth=1)\n",
    "ada_untuned_clf = AdaBoostClassifier(base_estimator=dstump, n_estimators=200, learning_rate=0.1)\n",
    "weak_learner = DecisionTreeClassifier(max_depth=2)\n",
    "ada_tuned_clf = AdaBoostClassifier(base_estimator=weak_learner, n_estimators=250, learning_rate=0.05)"
   ]
  },
  {
   "cell_type": "code",
   "execution_count": 62,
   "id": "5f8bf7a0",
   "metadata": {},
   "outputs": [
    {
     "name": "stdout",
     "output_type": "stream",
     "text": [
      "[learning_curve] Training set sizes: [ 6666 21666 36666 51666 66666]\n"
     ]
    },
    {
     "name": "stderr",
     "output_type": "stream",
     "text": [
      "[Parallel(n_jobs=3)]: Using backend LokyBackend with 3 concurrent workers.\n",
      "[Parallel(n_jobs=3)]: Done   4 out of  15 | elapsed:  2.4min remaining:  6.6min\n"
     ]
    },
    {
     "name": "stdout",
     "output_type": "stream",
     "text": [
      "[CV] END ..n_neighbors=5000;, score=(train=1.000, test=0.474) total time=  22.9s\n",
      "[CV] END ..n_neighbors=5000;, score=(train=1.000, test=0.481) total time=  24.8s\n",
      "[CV] END .n_neighbors=10000;, score=(train=1.000, test=0.500) total time=  37.9s\n",
      "[CV] END ....n_neighbors=22;, score=(train=0.466, test=0.390) total time=   6.2s\n",
      "[CV] END ....n_neighbors=62;, score=(train=0.402, test=0.366) total time=   6.1s\n",
      "[CV] END .....n_neighbors=2;, score=(train=0.840, test=0.470) total time=   6.0s\n",
      "[CV] END ....n_neighbors=62;, score=(train=0.407, test=0.373) total time=   6.6s\n",
      "[CV] END ....n_neighbors=22;, score=(train=0.457, test=0.379) total time=   6.6s\n",
      "[CV] END ....n_neighbors=82;, score=(train=0.395, test=0.360) total time=   6.2s\n",
      "[CV] END ..................., score=(train=0.462, test=0.439) total time= 1.2min\n",
      "[CV] END ..................., score=(train=0.475, test=0.465) total time= 3.8min\n"
     ]
    },
    {
     "name": "stderr",
     "output_type": "stream",
     "text": [
      "/Users/jplatta/.asdf/installs/python/3.10.6/lib/python3.10/site-packages/joblib/externals/loky/process_executor.py:702: UserWarning: A worker stopped while some jobs were given to the executor. This can be caused by a too short worker timeout or by a memory leak.\n",
      "  warnings.warn(\n",
      "[Parallel(n_jobs=3)]: Done   8 out of  15 | elapsed:  5.3min remaining:  4.6min\n",
      "[Parallel(n_jobs=3)]: Done  12 out of  15 | elapsed:  8.5min remaining:  2.1min\n",
      "[Parallel(n_jobs=3)]: Done  15 out of  15 | elapsed: 12.3min finished\n"
     ]
    }
   ],
   "source": [
    "ada_untuned_learning_curve = LearningCurve(ada_untuned_clf, scoring=recall_scorer, n_splits=3)\n",
    "ada_untuned_learning_curve.run(X_train, y_train)\n",
    "ada_untuned_learning_curve_plot = LearningCurvePlot(experiment=ada_untuned_learning_curve)"
   ]
  },
  {
   "cell_type": "code",
   "execution_count": 63,
   "id": "0e327031",
   "metadata": {},
   "outputs": [
    {
     "name": "stderr",
     "output_type": "stream",
     "text": [
      "[Parallel(n_jobs=3)]: Using backend LokyBackend with 3 concurrent workers.\n"
     ]
    },
    {
     "name": "stdout",
     "output_type": "stream",
     "text": [
      "[learning_curve] Training set sizes: [ 6666 21666 36666 51666 66666]\n"
     ]
    },
    {
     "name": "stderr",
     "output_type": "stream",
     "text": [
      "[Parallel(n_jobs=3)]: Done   4 out of  15 | elapsed:  5.7min remaining: 15.8min\n",
      "[Parallel(n_jobs=3)]: Done   8 out of  15 | elapsed: 12.8min remaining: 11.2min\n",
      "[Parallel(n_jobs=3)]: Done  12 out of  15 | elapsed: 20.3min remaining:  5.1min\n"
     ]
    },
    {
     "name": "stdout",
     "output_type": "stream",
     "text": [
      "[CV] END .n_neighbors=10000;, score=(train=1.000, test=0.493) total time=  27.6s\n",
      "[CV] END ...n_neighbors=100;, score=(train=1.000, test=0.371) total time=  18.4s\n",
      "[CV] END ..n_neighbors=5000;, score=(train=1.000, test=0.499) total time=  27.8s\n",
      "[CV] END ....n_neighbors=42;, score=(train=0.430, test=0.371) total time=   6.2s\n",
      "[CV] END ...n_neighbors=102;, score=(train=0.391, test=0.364) total time=   6.3s\n",
      "[CV] END ....n_neighbors=22;, score=(train=0.465, test=0.387) total time=   5.9s\n",
      "[CV] END ....n_neighbors=82;, score=(train=0.396, test=0.375) total time=   6.0s\n",
      "[CV] END .....n_neighbors=2;, score=(train=0.844, test=0.462) total time=   5.8s\n",
      "[CV] END ....n_neighbors=62;, score=(train=0.404, test=0.364) total time=   5.9s\n",
      "[CV] END ..................., score=(train=0.469, test=0.411) total time=  20.4s\n",
      "[CV] END ..................., score=(train=0.473, test=0.466) total time= 2.9min\n",
      "[CV] END ..................., score=(train=0.462, test=0.446) total time= 2.0min\n",
      "[CV] END ..................., score=(train=0.548, test=0.473) total time=  20.3s\n",
      "[CV] END ..................., score=(train=0.502, test=0.476) total time= 1.2min\n",
      "[CV] END ..................., score=(train=0.481, test=0.467) total time= 2.9min\n",
      "[CV] END ..................., score=(train=0.509, test=0.450) total time= 2.8min\n",
      "[CV] END ..................., score=(train=0.492, test=0.467) total time= 9.3min\n",
      "[CV] END ..................., score=(train=0.493, test=0.469) total time= 9.0min\n",
      "[CV] END ..................., score=(train=0.466, test=0.449) total time= 3.8min\n",
      "[CV] END ..................., score=(train=0.582, test=0.441) total time=  48.1s\n",
      "[CV] END ..................., score=(train=0.491, test=0.460) total time= 7.1min\n",
      "[CV] END ..................., score=(train=0.515, test=0.478) total time= 4.9min\n",
      "[CV] END ..................., score=(train=0.584, test=0.444) total time=  46.8s\n",
      "[CV] END ..................., score=(train=0.516, test=0.467) total time= 2.7min\n",
      "[CV] END ..................., score=(train=0.493, test=0.465) total time= 6.8min\n"
     ]
    },
    {
     "name": "stderr",
     "output_type": "stream",
     "text": [
      "[Parallel(n_jobs=3)]: Done  15 out of  15 | elapsed: 29.0min finished\n"
     ]
    }
   ],
   "source": [
    "ada_tuned_learning_curve = LearningCurve(ada_tuned_clf, scoring=recall_scorer, n_splits=3)\n",
    "ada_tuned_learning_curve.run(X_train, y_train)\n",
    "ada_tuned_learning_curve_plot = LearningCurvePlot(experiment=ada_tuned_learning_curve)"
   ]
  },
  {
   "cell_type": "code",
   "execution_count": 66,
   "id": "34f061c1",
   "metadata": {},
   "outputs": [
    {
     "name": "stderr",
     "output_type": "stream",
     "text": [
      "[Parallel(n_jobs=3)]: Using backend LokyBackend with 3 concurrent workers.\n",
      "[Parallel(n_jobs=3)]: Done   3 out of   3 | elapsed:  1.6min remaining:    0.0s\n",
      "[Parallel(n_jobs=3)]: Done   3 out of   3 | elapsed:  1.6min finished\n"
     ]
    }
   ],
   "source": [
    "ada_tuned_cv = CrossValidation(ada_tuned_clf, scoring=recall_scorer, n_splits=3)\n",
    "ada_tuned_cv.run(X_train_samp, y_train_samp)\n",
    "ada_tuned_cv_folds = CrossValidationFolds(experiment=ada_tuned_cv)"
   ]
  },
  {
   "cell_type": "code",
   "execution_count": 68,
   "id": "52b6fe68",
   "metadata": {},
   "outputs": [
    {
     "name": "stderr",
     "output_type": "stream",
     "text": [
      "/Users/jplatta/.asdf/installs/python/3.10.6/lib/python3.10/site-packages/sklearn/base.py:450: UserWarning: X does not have valid feature names, but AdaBoostClassifier was fitted with feature names\n",
      "  warnings.warn(\n",
      "/Users/jplatta/.asdf/installs/python/3.10.6/lib/python3.10/site-packages/sklearn/base.py:450: UserWarning: X does not have valid feature names, but AdaBoostClassifier was fitted with feature names\n",
      "  warnings.warn(\n"
     ]
    },
    {
     "name": "stdout",
     "output_type": "stream",
     "text": [
      "[CV] END ..................., score=(train=0.525, test=0.438) total time= 1.6min\n",
      "[CV] END ..................., score=(train=0.542, test=0.462) total time= 1.6min\n",
      "[CV] END ..................., score=(train=0.547, test=0.455) total time= 1.6min\n"
     ]
    },
    {
     "name": "stderr",
     "output_type": "stream",
     "text": [
      "/Users/jplatta/.asdf/installs/python/3.10.6/lib/python3.10/site-packages/sklearn/base.py:450: UserWarning: X does not have valid feature names, but AdaBoostClassifier was fitted with feature names\n",
      "  warnings.warn(\n",
      "/Users/jplatta/.asdf/installs/python/3.10.6/lib/python3.10/site-packages/sklearn/base.py:450: UserWarning: X does not have valid feature names, but AdaBoostClassifier was fitted with feature names\n",
      "  warnings.warn(\n",
      "/Users/jplatta/.asdf/installs/python/3.10.6/lib/python3.10/site-packages/sklearn/base.py:450: UserWarning: X does not have valid feature names, but AdaBoostClassifier was fitted with feature names\n",
      "  warnings.warn(\n",
      "/Users/jplatta/.asdf/installs/python/3.10.6/lib/python3.10/site-packages/sklearn/base.py:450: UserWarning: X does not have valid feature names, but AdaBoostClassifier was fitted with feature names\n",
      "  warnings.warn(\n"
     ]
    }
   ],
   "source": [
    "boost_iter = BoostingIterations(ada_tuned_clf, n_splits=3)\n",
    "boost_iter.run(X_train_samp, y_train_samp)\n",
    "boost_iter_plot = BoostingIterationsPlot(experiment=boost_iter)"
   ]
  },
  {
   "cell_type": "code",
   "execution_count": 84,
   "id": "5ff53b97",
   "metadata": {},
   "outputs": [
    {
     "data": {
      "image/png": "[encoded data removed]",
      "text/plain": [
       "<Figure size 1080x360 with 3 Axes>"
      ]
     },
     "metadata": {
      "needs_background": "light"
     },
     "output_type": "display_data"
    }
   ],
   "source": [
    "ada_train_curv_fig, axs = plt.subplots(1, 3, figsize=(15, 5))\n",
    "_, ax = ada_untuned_learning_curve_plot.plot(ax=axs[0], ymin=0.0, ymax=1.02, title=\"lr=0.1, n_estimators=200, max_depth=1\")\n",
    "_, ax = ada_tuned_learning_curve_plot.plot(ax=axs[1], ymin=0.0, ymax=1.02, title=\"lr=0.05, n_estimators=250, max_depth=2\")\n",
    "# _, ax = ada_tuned_cv_folds.plot(title=\"Tuned model\", ax=axs[1][0])\n",
    "_, ax = boost_iter_plot.plot(ax=axs[2])"
   ]
  },
  {
   "cell_type": "code",
   "execution_count": 85,
   "id": "79957597",
   "metadata": {},
   "outputs": [],
   "source": [
    "ada_train_curv_fig.savefig(\n",
    "    \"../out/SNLI/AdaBoost/Learning Curves - Report.png\",  \n",
    "    bbox_inches='tight',\n",
    "    dpi=800\n",
    ")"
   ]
  },
  {
   "cell_type": "code",
   "execution_count": 77,
   "id": "3625de27",
   "metadata": {},
   "outputs": [
    {
     "name": "stderr",
     "output_type": "stream",
     "text": [
      "[Parallel(n_jobs=3)]: Using backend LokyBackend with 3 concurrent workers.\n",
      "[Parallel(n_jobs=3)]: Done   1 out of  12 | elapsed:   27.5s remaining:  5.0min\n",
      "[Parallel(n_jobs=3)]: Done   4 out of  12 | elapsed:  1.4min remaining:  2.7min\n",
      "[Parallel(n_jobs=3)]: Done   7 out of  12 | elapsed:  2.7min remaining:  1.9min\n",
      "[Parallel(n_jobs=3)]: Done  10 out of  12 | elapsed:  4.0min remaining:   48.3s\n",
      "[Parallel(n_jobs=3)]: Done  12 out of  12 | elapsed:  5.3min finished\n"
     ]
    }
   ],
   "source": [
    "dt = DecisionTreeClassifier(max_depth=3)\n",
    "ada_clf = AdaBoostClassifier(base_estimator=dt, learning_rate=0.1)\n",
    "\n",
    "high_complexity_high_lr_curv = ValidationCurve(\n",
    "    ada_clf,\n",
    "    'n_estimators',\n",
    "    np.arange(100, 500, 100),\n",
    "    scoring=recall_scorer,\n",
    "    n_splits=3\n",
    ")\n",
    "high_complexity_high_lr_curv.run(X_train_samp, y_train_samp)\n",
    "high_complexity_high_lr_curv_plot = ValidationCurvePlot(experiment=high_complexity_high_lr_curv)"
   ]
  },
  {
   "cell_type": "code",
   "execution_count": 78,
   "id": "a480ee60",
   "metadata": {},
   "outputs": [
    {
     "name": "stderr",
     "output_type": "stream",
     "text": [
      "[Parallel(n_jobs=3)]: Using backend LokyBackend with 3 concurrent workers.\n",
      "[Parallel(n_jobs=3)]: Done   1 out of  12 | elapsed:   26.5s remaining:  4.9min\n",
      "[Parallel(n_jobs=3)]: Done   4 out of  12 | elapsed:  1.3min remaining:  2.7min\n",
      "[Parallel(n_jobs=3)]: Done   7 out of  12 | elapsed:  2.7min remaining:  1.9min\n",
      "[Parallel(n_jobs=3)]: Done  10 out of  12 | elapsed:  4.0min remaining:   47.8s\n",
      "[Parallel(n_jobs=3)]: Done  12 out of  12 | elapsed:  5.3min finished\n"
     ]
    }
   ],
   "source": [
    "dt = DecisionTreeClassifier(max_depth=3)\n",
    "ada_clf = AdaBoostClassifier(base_estimator=dt, learning_rate=0.01)\n",
    "\n",
    "high_complexity_low_lr_curv = ValidationCurve(\n",
    "    ada_clf,\n",
    "    'n_estimators',\n",
    "    np.arange(100, 500, 100),\n",
    "    scoring=recall_scorer,\n",
    "    n_splits=3\n",
    ")\n",
    "high_complexity_low_lr_curv.run(X_train_samp, y_train_samp)\n",
    "high_complexity_low_lr_curv_plot = ValidationCurvePlot(experiment=high_complexity_low_lr_curv)"
   ]
  },
  {
   "cell_type": "code",
   "execution_count": 81,
   "id": "971a0097",
   "metadata": {},
   "outputs": [
    {
     "data": {
      "image/png": "[encoded data removed]",
      "text/plain": [
       "<Figure size 720x288 with 2 Axes>"
      ]
     },
     "metadata": {
      "needs_background": "light"
     },
     "output_type": "display_data"
    }
   ],
   "source": [
    "ada_val_curvs_fig, axs = plt.subplots(1, 2, figsize=(10, 4))\n",
    "_, ax = high_complexity_high_lr_curv_plot.plot(ax=axs[0], title=\"max_depth=3, lr=0.1\")\n",
    "_, ax = high_complexity_low_lr_curv_plot.plot(ax=axs[1],  title=\"max_depth=3, lr=0.01\")"
   ]
  },
  {
   "cell_type": "code",
   "execution_count": 82,
   "id": "0019943a",
   "metadata": {},
   "outputs": [],
   "source": [
    "ada_val_curvs_fig.savefig(\n",
    "    \"../out/SNLI/AdaBoost/Validation Curves - Report.png\",  \n",
    "    bbox_inches='tight',\n",
    "    dpi=800\n",
    ")"
   ]
  },
  {
   "cell_type": "code",
   "execution_count": 93,
   "id": "e0c9fad6",
   "metadata": {},
   "outputs": [
    {
     "name": "stdout",
     "output_type": "stream",
     "text": [
      "[CV] END ..................., score=(train=0.470, test=0.463) total time=   8.7s\n",
      "[CV] END ..................., score=(train=0.471, test=0.457) total time=   4.7s\n",
      "[CV] END ..................., score=(train=0.495, test=0.449) total time=   0.5s\n",
      "[CV] END ..................., score=(train=0.477, test=0.463) total time=   2.3s\n",
      "[CV] END ..................., score=(train=0.471, test=0.460) total time=   6.1s\n",
      "[CV] END ..................., score=(train=0.469, test=0.458) total time=   4.6s\n",
      "[CV] END ..................., score=(train=0.465, test=0.456) total time=   7.1s\n",
      "AdaBoostClassifier(base_estimator=DecisionTreeClassifier(max_depth=2),\n",
      "                   learning_rate=0.05, n_estimators=250)\n",
      "              precision    recall  f1-score   support\n",
      "\n",
      "           0       0.44      0.46      0.45      3237\n",
      "           1       0.49      0.48      0.49      3368\n",
      "           2       0.41      0.40      0.41      3219\n",
      "\n",
      "    accuracy                           0.45      9824\n",
      "   macro avg       0.45      0.45      0.45      9824\n",
      "weighted avg       0.45      0.45      0.45      9824\n",
      "\n"
     ]
    }
   ],
   "source": [
    "ada_tuned_model_eval = ModelEvaluation(ada_tuned_clf)\n",
    "ada_tuned_model_eval.run(X_train, y_train, snli_data.X_test, snli_data.y_test)\n",
    "print(ada_tuned_model_eval.model)\n",
    "print(ClassificationReport(experiment=ada_tuned_model_eval).plot())"
   ]
  },
  {
   "cell_type": "markdown",
   "id": "6e103668",
   "metadata": {},
   "source": [
    "## Neural Network"
   ]
  },
  {
   "cell_type": "code",
   "execution_count": 105,
   "id": "3b208b8c",
   "metadata": {},
   "outputs": [],
   "source": [
    "nn_untuned_clf = NeuralNetworkClassifier(\n",
    "    n_layers=2, \n",
    "    in_features=snli_data.X_train.shape[1], \n",
    "    out_features=150, \n",
    "    epochs=20,\n",
    "    learning_rate=0.1,\n",
    "    activation_fn=nn.ReLU,\n",
    "    verbose=True\n",
    ")\n",
    "nn_tuned_clf = NeuralNetworkClassifier(\n",
    "    n_layers=2, \n",
    "    in_features=snli_data.X_train.shape[1], \n",
    "    out_features=100, \n",
    "    epochs=60, \n",
    "    activation_fn=nn.ReLU,\n",
    "    learning_rate=0.005,\n",
    "    verbose=True\n",
    ")"
   ]
  },
  {
   "cell_type": "code",
   "execution_count": 106,
   "id": "285060d9",
   "metadata": {},
   "outputs": [
    {
     "name": "stdout",
     "output_type": "stream",
     "text": [
      "[learning_curve] Training set sizes: [ 500 1625 2750 3875 5000]\n",
      "Epoch:  0  -  4.952469825744629\n"
     ]
    },
    {
     "name": "stderr",
     "output_type": "stream",
     "text": [
      "[Parallel(n_jobs=1)]: Using backend SequentialBackend with 1 concurrent workers.\n"
     ]
    },
    {
     "name": "stdout",
     "output_type": "stream",
     "text": [
      "Epoch:  1  -  4.793807029724121\n",
      "Epoch:  2  -  4.585097312927246\n",
      "Epoch:  3  -  4.336054801940918\n",
      "Epoch:  4  -  4.054502010345459\n",
      "Epoch:  5  -  3.7601211071014404\n",
      "Epoch:  6  -  3.4649789333343506\n",
      "Epoch:  7  -  3.1737425327301025\n",
      "Epoch:  8  -  2.892298936843872\n",
      "Epoch:  9  -  2.6278083324432373\n",
      "Epoch:  10  -  2.3862342834472656\n",
      "Epoch:  11  -  2.1713340282440186\n",
      "Epoch:  12  -  1.9850056171417236\n",
      "Epoch:  13  -  1.8271809816360474\n",
      "Epoch:  14  -  1.696395754814148\n",
      "Epoch:  15  -  1.589574933052063\n",
      "Epoch:  16  -  1.502877950668335\n",
      "Epoch:  17  -  1.4323514699935913\n",
      "Epoch:  18  -  1.3744285106658936\n",
      "Epoch:  19  -  1.3262830972671509\n",
      "[CV] END ..................., score=(train=0.500, test=0.365) total time=   2.0s\n"
     ]
    },
    {
     "name": "stderr",
     "output_type": "stream",
     "text": [
      "[Parallel(n_jobs=1)]: Done   1 out of   1 | elapsed:    2.0s remaining:    0.0s\n"
     ]
    },
    {
     "name": "stdout",
     "output_type": "stream",
     "text": [
      "Epoch:  0  -  4.876068115234375\n",
      "Epoch:  1  -  4.449180603027344\n",
      "Epoch:  2  -  3.8928152322769165\n",
      "Epoch:  3  -  3.295324206352234\n",
      "Epoch:  4  -  2.7360652685165405\n",
      "Epoch:  5  -  2.2587130069732666\n",
      "Epoch:  6  -  1.8952571749687195\n",
      "Epoch:  7  -  1.6470291018486023\n",
      "Epoch:  8  -  1.487000584602356\n",
      "Epoch:  9  -  1.382853388786316\n",
      "Epoch:  10  -  1.312053382396698\n",
      "Epoch:  11  -  1.2615253925323486\n",
      "Epoch:  12  -  1.223901391029358\n",
      "Epoch:  13  -  1.1948678493499756\n",
      "Epoch:  14  -  1.1717456579208374\n",
      "Epoch:  15  -  1.1528441905975342\n",
      "Epoch:  16  -  1.1370379328727722\n",
      "Epoch:  17  -  1.1235562562942505\n",
      "Epoch:  18  -  1.1118456721305847\n",
      "Epoch:  19  -  1.1015242338180542\n",
      "[CV] END ..................., score=(train=0.465, test=0.385) total time=   6.4s\n"
     ]
    },
    {
     "name": "stderr",
     "output_type": "stream",
     "text": [
      "[Parallel(n_jobs=1)]: Done   2 out of   2 | elapsed:    8.4s remaining:    0.0s\n"
     ]
    },
    {
     "name": "stdout",
     "output_type": "stream",
     "text": [
      "Epoch:  0  -  4.99212630589803\n",
      "Epoch:  1  -  4.471177895863851\n",
      "Epoch:  2  -  3.655573050181071\n",
      "Epoch:  3  -  2.825925827026367\n",
      "Epoch:  4  -  2.1523368755976358\n",
      "Epoch:  5  -  1.7201334238052368\n",
      "Epoch:  6  -  1.4852771361668904\n",
      "Epoch:  7  -  1.3575608730316162\n",
      "Epoch:  8  -  1.281686504681905\n",
      "Epoch:  9  -  1.2325118780136108\n",
      "Epoch:  10  -  1.1983320713043213\n",
      "Epoch:  11  -  1.173193057378133\n",
      "Epoch:  12  -  1.1538476943969727\n",
      "Epoch:  13  -  1.1384087800979614\n",
      "Epoch:  14  -  1.1257172425587971\n",
      "Epoch:  15  -  1.1150242884953816\n",
      "Epoch:  16  -  1.1058200597763062\n",
      "Epoch:  17  -  1.097753683725993\n",
      "Epoch:  18  -  1.0905770858128865\n",
      "Epoch:  19  -  1.0841015577316284\n",
      "[CV] END ..................., score=(train=0.458, test=0.399) total time=  10.6s\n"
     ]
    },
    {
     "name": "stderr",
     "output_type": "stream",
     "text": [
      "[Parallel(n_jobs=1)]: Done   3 out of   3 | elapsed:   19.1s remaining:    0.0s\n"
     ]
    },
    {
     "name": "stdout",
     "output_type": "stream",
     "text": [
      "Epoch:  0  -  4.474903583526611\n",
      "Epoch:  1  -  3.3339757919311523\n",
      "Epoch:  2  -  2.3263211250305176\n",
      "Epoch:  3  -  1.713579684495926\n",
      "Epoch:  4  -  1.434523493051529\n",
      "Epoch:  5  -  1.3044184148311615\n",
      "Epoch:  6  -  1.2348544895648956\n",
      "Epoch:  7  -  1.1927222311496735\n",
      "Epoch:  8  -  1.1645529568195343\n",
      "Epoch:  9  -  1.144244521856308\n",
      "Epoch:  10  -  1.128758430480957\n",
      "Epoch:  11  -  1.1164118945598602\n",
      "Epoch:  12  -  1.1062188148498535\n",
      "Epoch:  13  -  1.0975653529167175\n",
      "Epoch:  14  -  1.0900492370128632\n",
      "Epoch:  15  -  1.083390325307846\n",
      "Epoch:  16  -  1.0774009227752686\n",
      "Epoch:  17  -  1.071947306394577\n",
      "Epoch:  18  -  1.0669149458408356\n",
      "Epoch:  19  -  1.0622230470180511\n",
      "[CV] END ..................., score=(train=0.480, test=0.412) total time=  15.0s\n"
     ]
    },
    {
     "name": "stderr",
     "output_type": "stream",
     "text": [
      "[Parallel(n_jobs=1)]: Done   4 out of   4 | elapsed:   34.1s remaining:    0.0s\n"
     ]
    },
    {
     "name": "stdout",
     "output_type": "stream",
     "text": [
      "Epoch:  0  -  4.5144853591918945\n",
      "Epoch:  1  -  3.1279907703399656\n",
      "Epoch:  2  -  2.0228899002075194\n",
      "Epoch:  3  -  1.51316978931427\n",
      "Epoch:  4  -  1.3219937801361084\n",
      "Epoch:  5  -  1.2358935594558715\n",
      "Epoch:  6  -  1.1888359308242797\n",
      "Epoch:  7  -  1.1594043970108032\n",
      "Epoch:  8  -  1.1391714096069336\n",
      "Epoch:  9  -  1.1242658376693726\n",
      "Epoch:  10  -  1.1126976251602172\n",
      "Epoch:  11  -  1.103337335586548\n",
      "Epoch:  12  -  1.095511293411255\n",
      "Epoch:  13  -  1.0887903213500976\n",
      "Epoch:  14  -  1.0828903436660766\n",
      "Epoch:  15  -  1.0776154279708863\n",
      "Epoch:  16  -  1.0728276014328002\n",
      "Epoch:  17  -  1.0684224605560302\n",
      "Epoch:  18  -  1.0643295764923095\n",
      "Epoch:  19  -  1.0604890823364257\n",
      "[CV] END ..................., score=(train=0.481, test=0.435) total time=  19.6s\n",
      "Epoch:  0  -  4.99157190322876\n",
      "Epoch:  1  -  4.837656021118164\n",
      "Epoch:  2  -  4.633539199829102\n",
      "Epoch:  3  -  4.417027950286865\n",
      "Epoch:  4  -  4.192920684814453\n",
      "Epoch:  5  -  3.956191062927246\n",
      "Epoch:  6  -  3.699596643447876\n",
      "Epoch:  7  -  3.4256691932678223\n",
      "Epoch:  8  -  3.146879196166992\n",
      "Epoch:  9  -  2.8829803466796875\n",
      "Epoch:  10  -  2.638347625732422\n",
      "Epoch:  11  -  2.414395570755005\n",
      "Epoch:  12  -  2.2118477821350098\n",
      "Epoch:  13  -  2.030719041824341\n",
      "Epoch:  14  -  1.8713666200637817\n",
      "Epoch:  15  -  1.7337476015090942\n",
      "Epoch:  16  -  1.617146611213684\n",
      "Epoch:  17  -  1.5200181007385254\n",
      "Epoch:  18  -  1.4400564432144165\n",
      "Epoch:  19  -  1.3744162321090698\n",
      "[CV] END ..................., score=(train=0.570, test=0.442) total time=   2.0s\n",
      "Epoch:  0  -  4.9467387199401855\n",
      "Epoch:  1  -  4.5098841190338135\n",
      "Epoch:  2  -  3.9152824878692627\n",
      "Epoch:  3  -  3.318918824195862\n",
      "Epoch:  4  -  2.751546263694763\n",
      "Epoch:  5  -  2.265564799308777\n",
      "Epoch:  6  -  1.9047780632972717\n",
      "Epoch:  7  -  1.6642404794692993\n",
      "Epoch:  8  -  1.508442997932434\n",
      "Epoch:  9  -  1.4051199555397034\n",
      "Epoch:  10  -  1.3337129354476929\n",
      "Epoch:  11  -  1.2822548747062683\n",
      "Epoch:  12  -  1.2437315583229065\n",
      "Epoch:  13  -  1.2139053344726562\n",
      "Epoch:  14  -  1.1901189684867859\n",
      "Epoch:  15  -  1.1706522107124329\n",
      "Epoch:  16  -  1.1543667316436768\n",
      "Epoch:  17  -  1.1404796838760376\n",
      "Epoch:  18  -  1.1284428834915161\n",
      "Epoch:  19  -  1.117854654788971\n",
      "[CV] END ..................., score=(train=0.503, test=0.401) total time=   6.3s\n",
      "Epoch:  0  -  4.8856461842854815\n",
      "Epoch:  1  -  4.269926865895589\n",
      "Epoch:  2  -  3.458337942759196\n",
      "Epoch:  3  -  2.689883311589559\n",
      "Epoch:  4  -  2.0832103490829468\n",
      "Epoch:  5  -  1.6908189455668132\n",
      "Epoch:  6  -  1.4718298117319744\n",
      "Epoch:  7  -  1.350904067357381\n",
      "Epoch:  8  -  1.2782221635182698\n",
      "Epoch:  9  -  1.2306410868962605\n",
      "Epoch:  10  -  1.1973381837209065\n",
      "Epoch:  11  -  1.1727388302485149\n",
      "Epoch:  12  -  1.153767426808675\n",
      "Epoch:  13  -  1.1386154095331829\n",
      "Epoch:  14  -  1.1261469920476277\n",
      "Epoch:  15  -  1.115624189376831\n",
      "Epoch:  16  -  1.1065563360850017\n",
      "Epoch:  17  -  1.0986088514328003\n",
      "Epoch:  18  -  1.091530402501424\n",
      "Epoch:  19  -  1.0851384401321411\n",
      "[CV] END ..................., score=(train=0.502, test=0.405) total time=  10.8s\n",
      "Epoch:  0  -  4.869104027748108\n",
      "Epoch:  1  -  3.8921675086021423\n",
      "Epoch:  2  -  2.8087015748023987\n",
      "Epoch:  3  -  1.9906903505325317\n",
      "Epoch:  4  -  1.5636430382728577\n",
      "Epoch:  5  -  1.3685796856880188\n",
      "Epoch:  6  -  1.2709331810474396\n",
      "Epoch:  7  -  1.2153659760951996\n",
      "Epoch:  8  -  1.1800588369369507\n",
      "Epoch:  9  -  1.1556305289268494\n",
      "Epoch:  10  -  1.1375908553600311\n",
      "Epoch:  11  -  1.1236011385917664\n",
      "Epoch:  12  -  1.1123163402080536\n",
      "Epoch:  13  -  1.102918267250061\n",
      "Epoch:  14  -  1.094887375831604\n",
      "Epoch:  15  -  1.0878692269325256\n",
      "Epoch:  16  -  1.0816319584846497\n",
      "Epoch:  17  -  1.0760067701339722\n",
      "Epoch:  18  -  1.0708668529987335\n",
      "Epoch:  19  -  1.066122591495514\n",
      "[CV] END ..................., score=(train=0.492, test=0.433) total time=  15.0s\n",
      "Epoch:  0  -  4.686018276214599\n",
      "Epoch:  1  -  3.38041296005249\n",
      "Epoch:  2  -  2.1932932138442993\n",
      "Epoch:  3  -  1.5796037197113038\n",
      "Epoch:  4  -  1.3481799602508544\n",
      "Epoch:  5  -  1.2489527463912964\n",
      "Epoch:  6  -  1.196618676185608\n",
      "Epoch:  7  -  1.1646556377410888\n",
      "Epoch:  8  -  1.1430405139923097\n",
      "Epoch:  9  -  1.127296233177185\n",
      "Epoch:  10  -  1.1151703596115112\n",
      "Epoch:  11  -  1.105424690246582\n",
      "Epoch:  12  -  1.097319769859314\n",
      "Epoch:  13  -  1.0903806924819945\n",
      "Epoch:  14  -  1.0843104124069214\n",
      "Epoch:  15  -  1.0789048433303834\n",
      "Epoch:  16  -  1.0740124702453613\n",
      "Epoch:  17  -  1.0695260047912598\n",
      "Epoch:  18  -  1.065365481376648\n",
      "Epoch:  19  -  1.0614699363708495\n",
      "[CV] END ..................., score=(train=0.487, test=0.419) total time=  19.6s\n"
     ]
    },
    {
     "name": "stderr",
     "output_type": "stream",
     "text": [
      "[Parallel(n_jobs=1)]: Done  10 out of  10 | elapsed:  1.8min finished\n"
     ]
    }
   ],
   "source": [
    "nn_untuned_learning_curve = LearningCurve(nn_untuned_clf, scoring=recall_scorer, n_splits=2)\n",
    "nn_untuned_learning_curve.run(X_train_samp, y_train_samp)\n",
    "nn_untuned_learning_curve_plot = LearningCurvePlot(experiment=nn_untuned_learning_curve)"
   ]
  },
  {
   "cell_type": "code",
   "execution_count": 107,
   "id": "b1e6b6d1",
   "metadata": {},
   "outputs": [
    {
     "name": "stdout",
     "output_type": "stream",
     "text": [
      "[learning_curve] Training set sizes: [ 500 1625 2750 3875 5000]\n",
      "Epoch:  0  -  4.5302629470825195\n"
     ]
    },
    {
     "name": "stderr",
     "output_type": "stream",
     "text": [
      "[Parallel(n_jobs=1)]: Using backend SequentialBackend with 1 concurrent workers.\n"
     ]
    },
    {
     "name": "stdout",
     "output_type": "stream",
     "text": [
      "Epoch:  1  -  4.5224995613098145\n",
      "Epoch:  2  -  4.514377593994141\n",
      "Epoch:  3  -  4.506169319152832\n",
      "Epoch:  4  -  4.497838020324707\n",
      "Epoch:  5  -  4.489306449890137\n",
      "Epoch:  6  -  4.480559825897217\n",
      "Epoch:  7  -  4.471601963043213\n",
      "Epoch:  8  -  4.46239709854126\n",
      "Epoch:  9  -  4.4530205726623535\n",
      "Epoch:  10  -  4.443531036376953\n",
      "Epoch:  11  -  4.433905601501465\n",
      "Epoch:  12  -  4.424052715301514\n",
      "Epoch:  13  -  4.413979530334473\n",
      "Epoch:  14  -  4.403835296630859\n",
      "Epoch:  15  -  4.393557071685791\n",
      "Epoch:  16  -  4.3832244873046875\n",
      "Epoch:  17  -  4.372827053070068\n",
      "Epoch:  18  -  4.362372875213623\n",
      "Epoch:  19  -  4.351860523223877\n",
      "Epoch:  20  -  4.341257095336914\n",
      "Epoch:  21  -  4.330597877502441\n",
      "Epoch:  22  -  4.319886207580566\n",
      "Epoch:  23  -  4.309175968170166\n",
      "Epoch:  24  -  4.298468112945557\n",
      "Epoch:  25  -  4.287757873535156\n",
      "Epoch:  26  -  4.277010440826416\n",
      "Epoch:  27  -  4.266263008117676\n",
      "Epoch:  28  -  4.255517959594727\n",
      "Epoch:  29  -  4.2447710037231445\n",
      "Epoch:  30  -  4.234007835388184\n",
      "Epoch:  31  -  4.223208427429199\n",
      "Epoch:  32  -  4.212409496307373\n",
      "Epoch:  33  -  4.201610088348389\n",
      "Epoch:  34  -  4.1908087730407715\n",
      "Epoch:  35  -  4.18000602722168\n",
      "Epoch:  36  -  4.169201374053955\n",
      "Epoch:  37  -  4.158395290374756\n",
      "Epoch:  38  -  4.147586345672607\n",
      "Epoch:  39  -  4.136773586273193\n",
      "Epoch:  40  -  4.12595796585083\n",
      "Epoch:  41  -  4.115139961242676\n",
      "Epoch:  42  -  4.104317665100098\n",
      "Epoch:  43  -  4.093492031097412\n",
      "Epoch:  44  -  4.082662582397461\n",
      "Epoch:  45  -  4.0718302726745605\n",
      "Epoch:  46  -  4.060993671417236\n",
      "Epoch:  47  -  4.05015230178833\n",
      "Epoch:  48  -  4.039306640625\n",
      "Epoch:  49  -  4.028456687927246\n",
      "Epoch:  50  -  4.017601013183594\n",
      "Epoch:  51  -  4.006738662719727\n",
      "Epoch:  52  -  3.995871067047119\n",
      "Epoch:  53  -  3.9849977493286133\n",
      "Epoch:  54  -  3.974118947982788\n",
      "Epoch:  55  -  3.9632344245910645\n",
      "Epoch:  56  -  3.9523439407348633\n",
      "Epoch:  57  -  3.9414474964141846\n",
      "Epoch:  58  -  3.9305460453033447\n",
      "Epoch:  59  -  3.9196391105651855\n",
      "[CV] END ..................., score=(train=0.399, test=0.360) total time=   5.9s\n"
     ]
    },
    {
     "name": "stderr",
     "output_type": "stream",
     "text": [
      "[Parallel(n_jobs=1)]: Done   1 out of   1 | elapsed:    5.9s remaining:    0.0s\n"
     ]
    },
    {
     "name": "stdout",
     "output_type": "stream",
     "text": [
      "Epoch:  0  -  4.553414583206177\n",
      "Epoch:  1  -  4.543675899505615\n",
      "Epoch:  2  -  4.533825159072876\n",
      "Epoch:  3  -  4.523893117904663\n",
      "Epoch:  4  -  4.513822317123413\n",
      "Epoch:  5  -  4.5036094188690186\n",
      "Epoch:  6  -  4.4932544231414795\n",
      "Epoch:  7  -  4.482735633850098\n",
      "Epoch:  8  -  4.472038507461548\n",
      "Epoch:  9  -  4.461159706115723\n",
      "Epoch:  10  -  4.450084209442139\n",
      "Epoch:  11  -  4.438854217529297\n",
      "Epoch:  12  -  4.427480697631836\n",
      "Epoch:  13  -  4.4159324169158936\n",
      "Epoch:  14  -  4.404190301895142\n",
      "Epoch:  15  -  4.392226696014404\n",
      "Epoch:  16  -  4.380021095275879\n",
      "Epoch:  17  -  4.367528676986694\n",
      "Epoch:  18  -  4.354682445526123\n",
      "Epoch:  19  -  4.341418266296387\n",
      "Epoch:  20  -  4.327712059020996\n",
      "Epoch:  21  -  4.313671112060547\n",
      "Epoch:  22  -  4.2991554737091064\n",
      "Epoch:  23  -  4.284153938293457\n",
      "Epoch:  24  -  4.2687153816223145\n",
      "Epoch:  25  -  4.252825498580933\n",
      "Epoch:  26  -  4.236582517623901\n",
      "Epoch:  27  -  4.219838619232178\n",
      "Epoch:  28  -  4.202637195587158\n",
      "Epoch:  29  -  4.185030698776245\n",
      "Epoch:  30  -  4.167156219482422\n",
      "Epoch:  31  -  4.148956060409546\n",
      "Epoch:  32  -  4.1303160190582275\n",
      "Epoch:  33  -  4.111278295516968\n",
      "Epoch:  34  -  4.091745376586914\n",
      "Epoch:  35  -  4.071772336959839\n",
      "Epoch:  36  -  4.051401376724243\n",
      "Epoch:  37  -  4.0306830406188965\n",
      "Epoch:  38  -  4.009604454040527\n",
      "Epoch:  39  -  3.9882001876831055\n",
      "Epoch:  40  -  3.9666011333465576\n",
      "Epoch:  41  -  3.944862961769104\n",
      "Epoch:  42  -  3.923063278198242\n",
      "Epoch:  43  -  3.901170015335083\n",
      "Epoch:  44  -  3.8791614770889282\n",
      "Epoch:  45  -  3.8570919036865234\n",
      "Epoch:  46  -  3.8350008726119995\n",
      "Epoch:  47  -  3.812883496284485\n",
      "Epoch:  48  -  3.7906829118728638\n",
      "Epoch:  49  -  3.7683939933776855\n",
      "Epoch:  50  -  3.7460743188858032\n",
      "Epoch:  51  -  3.723739743232727\n",
      "Epoch:  52  -  3.7013860940933228\n",
      "Epoch:  53  -  3.679024338722229\n",
      "Epoch:  54  -  3.656654715538025\n",
      "Epoch:  55  -  3.634276270866394\n",
      "Epoch:  56  -  3.6118927001953125\n",
      "Epoch:  57  -  3.5895050764083862\n",
      "Epoch:  58  -  3.5671145915985107\n",
      "Epoch:  59  -  3.544721484184265\n",
      "[CV] END ..................., score=(train=0.501, test=0.501) total time=  18.9s\n"
     ]
    },
    {
     "name": "stderr",
     "output_type": "stream",
     "text": [
      "[Parallel(n_jobs=1)]: Done   2 out of   2 | elapsed:   24.9s remaining:    0.0s\n"
     ]
    },
    {
     "name": "stdout",
     "output_type": "stream",
     "text": [
      "Epoch:  0  -  4.525331338246663\n",
      "Epoch:  1  -  4.505356470743815\n",
      "Epoch:  2  -  4.484132607777913\n",
      "Epoch:  3  -  4.461326599121094\n",
      "Epoch:  4  -  4.436793804168701\n",
      "Epoch:  5  -  4.411100546518962\n",
      "Epoch:  6  -  4.3843685785929365\n",
      "Epoch:  7  -  4.356569608052571\n",
      "Epoch:  8  -  4.3277608553568525\n",
      "Epoch:  9  -  4.298142115275065\n",
      "Epoch:  10  -  4.267943064371745\n",
      "Epoch:  11  -  4.237196922302246\n",
      "Epoch:  12  -  4.206226507822673\n",
      "Epoch:  13  -  4.175048828125\n",
      "Epoch:  14  -  4.143757502237956\n",
      "Epoch:  15  -  4.112385590871175\n",
      "Epoch:  16  -  4.08098824818929\n",
      "Epoch:  17  -  4.049564679463704\n",
      "Epoch:  18  -  4.018125534057617\n",
      "Epoch:  19  -  3.9866742293039956\n",
      "Epoch:  20  -  3.9552060763041177\n",
      "Epoch:  21  -  3.9237187703450522\n",
      "Epoch:  22  -  3.892210324605306\n",
      "Epoch:  23  -  3.8606786727905273\n",
      "Epoch:  24  -  3.8291216691335044\n",
      "Epoch:  25  -  3.797536611557007\n",
      "Epoch:  26  -  3.7659226258595786\n",
      "Epoch:  27  -  3.7342780431111655\n",
      "Epoch:  28  -  3.70259960492452\n",
      "Epoch:  29  -  3.670886437098185\n",
      "Epoch:  30  -  3.639141877492269\n",
      "Epoch:  31  -  3.6073640982309976\n",
      "Epoch:  32  -  3.575556755065918\n",
      "Epoch:  33  -  3.543721357981364\n",
      "Epoch:  34  -  3.5118561585744223\n",
      "Epoch:  35  -  3.479963779449463\n",
      "Epoch:  36  -  3.448044697443644\n",
      "Epoch:  37  -  3.4161012172698975\n",
      "Epoch:  38  -  3.3841376304626465\n",
      "Epoch:  39  -  3.3521625995635986\n",
      "Epoch:  40  -  3.320183833440145\n",
      "Epoch:  41  -  3.2882030804951987\n",
      "Epoch:  42  -  3.256227890650431\n",
      "Epoch:  43  -  3.2242634296417236\n",
      "Epoch:  44  -  3.1923185189565024\n",
      "Epoch:  45  -  3.1604002316792807\n",
      "Epoch:  46  -  3.128517230351766\n",
      "Epoch:  47  -  3.0966766675313315\n",
      "Epoch:  48  -  3.0648876825968423\n",
      "Epoch:  49  -  3.0331665674845376\n",
      "Epoch:  50  -  3.00152858098348\n",
      "Epoch:  51  -  2.9699835777282715\n",
      "Epoch:  52  -  2.9385452270507812\n",
      "Epoch:  53  -  2.9072248140970864\n",
      "Epoch:  54  -  2.8760337829589844\n",
      "Epoch:  55  -  2.8449881871541343\n",
      "Epoch:  56  -  2.814101060231527\n",
      "Epoch:  57  -  2.7833871841430664\n",
      "Epoch:  58  -  2.7528568108876548\n",
      "Epoch:  59  -  2.722525199254354\n",
      "[CV] END ..................., score=(train=0.472, test=0.466) total time=  32.0s\n"
     ]
    },
    {
     "name": "stderr",
     "output_type": "stream",
     "text": [
      "[Parallel(n_jobs=1)]: Done   3 out of   3 | elapsed:   56.9s remaining:    0.0s\n"
     ]
    },
    {
     "name": "stdout",
     "output_type": "stream",
     "text": [
      "Epoch:  0  -  4.671107530593872\n",
      "Epoch:  1  -  4.664677143096924\n",
      "Epoch:  2  -  4.657184839248657\n",
      "Epoch:  3  -  4.6485971212387085\n",
      "Epoch:  4  -  4.6390005350112915\n",
      "Epoch:  5  -  4.628251075744629\n",
      "Epoch:  6  -  4.616339802742004\n",
      "Epoch:  7  -  4.603329300880432\n",
      "Epoch:  8  -  4.589356184005737\n",
      "Epoch:  9  -  4.5745192766189575\n",
      "Epoch:  10  -  4.5588250160217285\n",
      "Epoch:  11  -  4.542405009269714\n",
      "Epoch:  12  -  4.525373816490173\n",
      "Epoch:  13  -  4.5076552629470825\n",
      "Epoch:  14  -  4.489138245582581\n",
      "Epoch:  15  -  4.469740390777588\n",
      "Epoch:  16  -  4.449470281600952\n",
      "Epoch:  17  -  4.428271532058716\n",
      "Epoch:  18  -  4.406293272972107\n",
      "Epoch:  19  -  4.383622527122498\n",
      "Epoch:  20  -  4.3601309061050415\n",
      "Epoch:  21  -  4.335896730422974\n",
      "Epoch:  22  -  4.3110140562057495\n",
      "Epoch:  23  -  4.2853052616119385\n",
      "Epoch:  24  -  4.258834600448608\n",
      "Epoch:  25  -  4.2316343784332275\n",
      "Epoch:  26  -  4.203784346580505\n",
      "Epoch:  27  -  4.175359129905701\n",
      "Epoch:  28  -  4.146329641342163\n",
      "Epoch:  29  -  4.116648197174072\n",
      "Epoch:  30  -  4.0863858461380005\n",
      "Epoch:  31  -  4.055491209030151\n",
      "Epoch:  32  -  4.024033069610596\n",
      "Epoch:  33  -  3.9920552372932434\n",
      "Epoch:  34  -  3.9595701098442078\n",
      "Epoch:  35  -  3.9264370799064636\n",
      "Epoch:  36  -  3.8926063179969788\n",
      "Epoch:  37  -  3.8580962419509888\n",
      "Epoch:  38  -  3.82285213470459\n",
      "Epoch:  39  -  3.786807596683502\n",
      "Epoch:  40  -  3.7500669956207275\n",
      "Epoch:  41  -  3.712708532810211\n",
      "Epoch:  42  -  3.674812138080597\n",
      "Epoch:  43  -  3.636380195617676\n",
      "Epoch:  44  -  3.5973241329193115\n",
      "Epoch:  45  -  3.557725429534912\n",
      "Epoch:  46  -  3.5177029967308044\n",
      "Epoch:  47  -  3.4774454832077026\n",
      "Epoch:  48  -  3.4370164275169373\n",
      "Epoch:  49  -  3.3964431285858154\n",
      "Epoch:  50  -  3.355811834335327\n",
      "Epoch:  51  -  3.3152212500572205\n",
      "Epoch:  52  -  3.274704933166504\n",
      "Epoch:  53  -  3.234272062778473\n",
      "Epoch:  54  -  3.193944573402405\n",
      "Epoch:  55  -  3.153757691383362\n",
      "Epoch:  56  -  3.113730013370514\n",
      "Epoch:  57  -  3.07388037443161\n",
      "Epoch:  58  -  3.034227132797241\n",
      "Epoch:  59  -  2.9947856664657593\n",
      "[CV] END ..................., score=(train=0.089, test=0.081) total time=  45.1s\n"
     ]
    },
    {
     "name": "stderr",
     "output_type": "stream",
     "text": [
      "[Parallel(n_jobs=1)]: Done   4 out of   4 | elapsed:  1.7min remaining:    0.0s\n"
     ]
    },
    {
     "name": "stdout",
     "output_type": "stream",
     "text": [
      "Epoch:  0  -  4.537473869323731\n",
      "Epoch:  1  -  4.504115295410156\n",
      "Epoch:  2  -  4.467199993133545\n",
      "Epoch:  3  -  4.427042770385742\n",
      "Epoch:  4  -  4.384147262573242\n",
      "Epoch:  5  -  4.339005184173584\n",
      "Epoch:  6  -  4.2919995307922365\n",
      "Epoch:  7  -  4.243763732910156\n",
      "Epoch:  8  -  4.194775676727295\n",
      "Epoch:  9  -  4.145406436920166\n",
      "Epoch:  10  -  4.095842075347901\n",
      "Epoch:  11  -  4.0461383819580075\n",
      "Epoch:  12  -  3.9963522434234617\n",
      "Epoch:  13  -  3.9465098857879637\n",
      "Epoch:  14  -  3.8965975284576415\n",
      "Epoch:  15  -  3.8466138362884523\n",
      "Epoch:  16  -  3.796550989151001\n",
      "Epoch:  17  -  3.7464061737060548\n",
      "Epoch:  18  -  3.6961765766143797\n",
      "Epoch:  19  -  3.645859432220459\n",
      "Epoch:  20  -  3.59545693397522\n",
      "Epoch:  21  -  3.544970893859863\n",
      "Epoch:  22  -  3.4944053649902345\n",
      "Epoch:  23  -  3.4437742710113524\n",
      "Epoch:  24  -  3.3930914402008057\n",
      "Epoch:  25  -  3.3423718452453612\n",
      "Epoch:  26  -  3.2916354179382323\n",
      "Epoch:  27  -  3.2409063816070556\n",
      "Epoch:  28  -  3.1902120113372803\n",
      "Epoch:  29  -  3.1395827770233153\n",
      "Epoch:  30  -  3.089058685302734\n",
      "Epoch:  31  -  3.0386826038360595\n",
      "Epoch:  32  -  2.9884859561920165\n",
      "Epoch:  33  -  2.9385131359100343\n",
      "Epoch:  34  -  2.888811779022217\n",
      "Epoch:  35  -  2.839423990249634\n",
      "Epoch:  36  -  2.790403652191162\n",
      "Epoch:  37  -  2.741808319091797\n",
      "Epoch:  38  -  2.6936906814575194\n",
      "Epoch:  39  -  2.646095037460327\n",
      "Epoch:  40  -  2.599070167541504\n",
      "Epoch:  41  -  2.5526730537414553\n",
      "Epoch:  42  -  2.506952667236328\n",
      "Epoch:  43  -  2.4619600772857666\n",
      "Epoch:  44  -  2.41774845123291\n",
      "Epoch:  45  -  2.374361848831177\n",
      "Epoch:  46  -  2.331846761703491\n",
      "Epoch:  47  -  2.2902440547943117\n",
      "Epoch:  48  -  2.249591588973999\n",
      "Epoch:  49  -  2.209925317764282\n",
      "Epoch:  50  -  2.171278476715088\n",
      "Epoch:  51  -  2.133672332763672\n",
      "Epoch:  52  -  2.097134828567505\n",
      "Epoch:  53  -  2.061684083938599\n",
      "Epoch:  54  -  2.027337741851807\n",
      "Epoch:  55  -  1.9941011190414428\n",
      "Epoch:  56  -  1.9619771003723145\n",
      "Epoch:  57  -  1.930967140197754\n",
      "Epoch:  58  -  1.901071548461914\n",
      "Epoch:  59  -  1.8722789287567139\n",
      "[CV] END ..................., score=(train=0.352, test=0.357) total time=  58.3s\n",
      "Epoch:  0  -  4.547660827636719\n",
      "Epoch:  1  -  4.541576862335205\n",
      "Epoch:  2  -  4.535316467285156\n",
      "Epoch:  3  -  4.5288166999816895\n",
      "Epoch:  4  -  4.522009372711182\n",
      "Epoch:  5  -  4.515085697174072\n",
      "Epoch:  6  -  4.508060932159424\n",
      "Epoch:  7  -  4.500862121582031\n",
      "Epoch:  8  -  4.493540287017822\n",
      "Epoch:  9  -  4.486001491546631\n",
      "Epoch:  10  -  4.4783830642700195\n",
      "Epoch:  11  -  4.470633506774902\n",
      "Epoch:  12  -  4.462802410125732\n",
      "Epoch:  13  -  4.45488977432251\n",
      "Epoch:  14  -  4.446882247924805\n",
      "Epoch:  15  -  4.438769817352295\n",
      "Epoch:  16  -  4.430464267730713\n",
      "Epoch:  17  -  4.422028541564941\n",
      "Epoch:  18  -  4.413412094116211\n",
      "Epoch:  19  -  4.404678821563721\n",
      "Epoch:  20  -  4.395828723907471\n",
      "Epoch:  21  -  4.386885166168213\n",
      "Epoch:  22  -  4.37775993347168\n",
      "Epoch:  23  -  4.368588447570801\n",
      "Epoch:  24  -  4.359358787536621\n",
      "Epoch:  25  -  4.35010290145874\n",
      "Epoch:  26  -  4.340847015380859\n",
      "Epoch:  27  -  4.331578254699707\n",
      "Epoch:  28  -  4.322218418121338\n",
      "Epoch:  29  -  4.312798023223877\n",
      "Epoch:  30  -  4.303333759307861\n",
      "Epoch:  31  -  4.293838024139404\n",
      "Epoch:  32  -  4.284339904785156\n",
      "Epoch:  33  -  4.274743556976318\n",
      "Epoch:  34  -  4.265026569366455\n",
      "Epoch:  35  -  4.255288600921631\n",
      "Epoch:  36  -  4.245509624481201\n",
      "Epoch:  37  -  4.235594749450684\n",
      "Epoch:  38  -  4.225553035736084\n",
      "Epoch:  39  -  4.215478897094727\n",
      "Epoch:  40  -  4.205336093902588\n",
      "Epoch:  41  -  4.195191383361816\n",
      "Epoch:  42  -  4.185030460357666\n",
      "Epoch:  43  -  4.174832344055176\n",
      "Epoch:  44  -  4.164564609527588\n",
      "Epoch:  45  -  4.154294013977051\n",
      "Epoch:  46  -  4.144018650054932\n",
      "Epoch:  47  -  4.133733749389648\n",
      "Epoch:  48  -  4.1233978271484375\n",
      "Epoch:  49  -  4.113020896911621\n",
      "Epoch:  50  -  4.102591037750244\n",
      "Epoch:  51  -  4.092129707336426\n",
      "Epoch:  52  -  4.081620216369629\n",
      "Epoch:  53  -  4.0710954666137695\n",
      "Epoch:  54  -  4.060525417327881\n",
      "Epoch:  55  -  4.04995059967041\n",
      "Epoch:  56  -  4.039366722106934\n",
      "Epoch:  57  -  4.0287184715271\n",
      "Epoch:  58  -  4.018062591552734\n",
      "Epoch:  59  -  4.007399559020996\n",
      "[CV] END ..................., score=(train=0.381, test=0.354) total time=   5.9s\n",
      "Epoch:  0  -  4.627232313156128\n",
      "Epoch:  1  -  4.620976448059082\n",
      "Epoch:  2  -  4.614423036575317\n",
      "Epoch:  3  -  4.607420206069946\n",
      "Epoch:  4  -  4.600013494491577\n",
      "Epoch:  5  -  4.592130661010742\n",
      "Epoch:  6  -  4.5837953090667725\n",
      "Epoch:  7  -  4.575062036514282\n",
      "Epoch:  8  -  4.565994024276733\n",
      "Epoch:  9  -  4.556442975997925\n",
      "Epoch:  10  -  4.546391010284424\n",
      "Epoch:  11  -  4.535991907119751\n",
      "Epoch:  12  -  4.5252296924591064\n",
      "Epoch:  13  -  4.514001369476318\n",
      "Epoch:  14  -  4.502339124679565\n",
      "Epoch:  15  -  4.490292549133301\n",
      "Epoch:  16  -  4.4778642654418945\n",
      "Epoch:  17  -  4.465001821517944\n",
      "Epoch:  18  -  4.451739072799683\n",
      "Epoch:  19  -  4.438147306442261\n",
      "Epoch:  20  -  4.424279689788818\n",
      "Epoch:  21  -  4.410131454467773\n",
      "Epoch:  22  -  4.3957297801971436\n",
      "Epoch:  23  -  4.381138324737549\n",
      "Epoch:  24  -  4.366330862045288\n",
      "Epoch:  25  -  4.3513264656066895\n",
      "Epoch:  26  -  4.336241722106934\n",
      "Epoch:  27  -  4.321085453033447\n",
      "Epoch:  28  -  4.305839776992798\n",
      "Epoch:  29  -  4.2905402183532715\n",
      "Epoch:  30  -  4.2751548290252686\n",
      "Epoch:  31  -  4.259659290313721\n",
      "Epoch:  32  -  4.2440900802612305\n",
      "Epoch:  33  -  4.228447914123535\n",
      "Epoch:  34  -  4.2127063274383545\n",
      "Epoch:  35  -  4.196848154067993\n",
      "Epoch:  36  -  4.18087363243103\n",
      "Epoch:  37  -  4.164782285690308\n",
      "Epoch:  38  -  4.148585557937622\n",
      "Epoch:  39  -  4.1323041915893555\n",
      "Epoch:  40  -  4.115906476974487\n",
      "Epoch:  41  -  4.099359750747681\n",
      "Epoch:  42  -  4.082676410675049\n",
      "Epoch:  43  -  4.065824747085571\n",
      "Epoch:  44  -  4.0488364696502686\n",
      "Epoch:  45  -  4.031656503677368\n",
      "Epoch:  46  -  4.0143115520477295\n",
      "Epoch:  47  -  3.996862530708313\n",
      "Epoch:  48  -  3.97921359539032\n",
      "Epoch:  49  -  3.9613362550735474\n",
      "Epoch:  50  -  3.943241834640503\n",
      "Epoch:  51  -  3.924929618835449\n",
      "Epoch:  52  -  3.906423330307007\n",
      "Epoch:  53  -  3.887752890586853\n",
      "Epoch:  54  -  3.8688557147979736\n",
      "Epoch:  55  -  3.849677801132202\n",
      "Epoch:  56  -  3.830199360847473\n",
      "Epoch:  57  -  3.810545325279236\n",
      "Epoch:  58  -  3.790741443634033\n",
      "Epoch:  59  -  3.7708102464675903\n",
      "[CV] END ..................., score=(train=0.502, test=0.487) total time=  18.9s\n",
      "Epoch:  0  -  4.663392225901286\n",
      "Epoch:  1  -  4.653931935628255\n",
      "Epoch:  2  -  4.643852551778157\n",
      "Epoch:  3  -  4.633090496063232\n",
      "Epoch:  4  -  4.621750036875407\n",
      "Epoch:  5  -  4.609873453776042\n",
      "Epoch:  6  -  4.597472667694092\n",
      "Epoch:  7  -  4.5846171379089355\n",
      "Epoch:  8  -  4.571396032969157\n",
      "Epoch:  9  -  4.557760874430339\n",
      "Epoch:  10  -  4.543628056844075\n",
      "Epoch:  11  -  4.528962771097819\n",
      "Epoch:  12  -  4.513815402984619\n",
      "Epoch:  13  -  4.498209476470947\n",
      "Epoch:  14  -  4.48206901550293\n",
      "Epoch:  15  -  4.46513017018636\n",
      "Epoch:  16  -  4.4473903973897295\n",
      "Epoch:  17  -  4.428984483083089\n",
      "Epoch:  18  -  4.409988721211751\n",
      "Epoch:  19  -  4.390415986378987\n",
      "Epoch:  20  -  4.370334625244141\n",
      "Epoch:  21  -  4.349968592325847\n",
      "Epoch:  22  -  4.329403559366862\n",
      "Epoch:  23  -  4.3085934321085615\n",
      "Epoch:  24  -  4.287697792053223\n",
      "Epoch:  25  -  4.266756375630696\n",
      "Epoch:  26  -  4.245790958404541\n",
      "Epoch:  27  -  4.224782307942708\n",
      "Epoch:  28  -  4.20376459757487\n",
      "Epoch:  29  -  4.182755311330159\n",
      "Epoch:  30  -  4.1617709795633955\n",
      "Epoch:  31  -  4.140812238057454\n",
      "Epoch:  32  -  4.1198798815409345\n",
      "Epoch:  33  -  4.098974704742432\n",
      "Epoch:  34  -  4.078094959259033\n",
      "Epoch:  35  -  4.057241280873616\n",
      "Epoch:  36  -  4.036415417989095\n",
      "Epoch:  37  -  4.015619436899821\n",
      "Epoch:  38  -  3.99485452969869\n",
      "Epoch:  39  -  3.9741222858428955\n",
      "Epoch:  40  -  3.9534287452697754\n",
      "Epoch:  41  -  3.9327752590179443\n",
      "Epoch:  42  -  3.9121618270874023\n",
      "Epoch:  43  -  3.8915942509969077\n",
      "Epoch:  44  -  3.8710776964823403\n",
      "Epoch:  45  -  3.8506171703338623\n",
      "Epoch:  46  -  3.8302084604899087\n",
      "Epoch:  47  -  3.809857447942098\n",
      "Epoch:  48  -  3.789567311604818\n",
      "Epoch:  49  -  3.7693485418955484\n",
      "Epoch:  50  -  3.749211072921753\n",
      "Epoch:  51  -  3.72915252049764\n",
      "Epoch:  52  -  3.709177096684774\n",
      "Epoch:  53  -  3.68929131825765\n",
      "Epoch:  54  -  3.669499476750692\n",
      "Epoch:  55  -  3.6498117446899414\n",
      "Epoch:  56  -  3.630232254664103\n",
      "Epoch:  57  -  3.610773801803589\n",
      "Epoch:  58  -  3.5914332071940103\n",
      "Epoch:  59  -  3.572213967641195\n",
      "[CV] END ..................., score=(train=0.494, test=0.493) total time=  32.1s\n"
     ]
    },
    {
     "name": "stdout",
     "output_type": "stream",
     "text": [
      "Epoch:  0  -  4.641348361968994\n",
      "Epoch:  1  -  4.630952000617981\n",
      "Epoch:  2  -  4.618720769882202\n",
      "Epoch:  3  -  4.60448944568634\n",
      "Epoch:  4  -  4.587950706481934\n",
      "Epoch:  5  -  4.5687302350997925\n",
      "Epoch:  6  -  4.546473503112793\n",
      "Epoch:  7  -  4.521279692649841\n",
      "Epoch:  8  -  4.493125796318054\n",
      "Epoch:  9  -  4.462422728538513\n",
      "Epoch:  10  -  4.4294246435165405\n",
      "Epoch:  11  -  4.39439070224762\n",
      "Epoch:  12  -  4.357560634613037\n",
      "Epoch:  13  -  4.319117546081543\n",
      "Epoch:  14  -  4.2797611951828\n",
      "Epoch:  15  -  4.239765167236328\n",
      "Epoch:  16  -  4.199310660362244\n",
      "Epoch:  17  -  4.158554673194885\n",
      "Epoch:  18  -  4.117483973503113\n",
      "Epoch:  19  -  4.07624351978302\n",
      "Epoch:  20  -  4.034879207611084\n",
      "Epoch:  21  -  3.9934072494506836\n",
      "Epoch:  22  -  3.9518184661865234\n",
      "Epoch:  23  -  3.910145938396454\n",
      "Epoch:  24  -  3.8683988451957703\n",
      "Epoch:  25  -  3.826575756072998\n",
      "Epoch:  26  -  3.784671127796173\n",
      "Epoch:  27  -  3.742685079574585\n",
      "Epoch:  28  -  3.7006208896636963\n",
      "Epoch:  29  -  3.6584801077842712\n",
      "Epoch:  30  -  3.6162614226341248\n",
      "Epoch:  31  -  3.5739657282829285\n",
      "Epoch:  32  -  3.5315940380096436\n",
      "Epoch:  33  -  3.4891563057899475\n",
      "Epoch:  34  -  3.4466660618782043\n",
      "Epoch:  35  -  3.4041364789009094\n",
      "Epoch:  36  -  3.3615795373916626\n",
      "Epoch:  37  -  3.3190014362335205\n",
      "Epoch:  38  -  3.2764285802841187\n",
      "Epoch:  39  -  3.233880937099457\n",
      "Epoch:  40  -  3.191376805305481\n",
      "Epoch:  41  -  3.148935079574585\n",
      "Epoch:  42  -  3.106575608253479\n",
      "Epoch:  43  -  3.0643184781074524\n",
      "Epoch:  44  -  3.0221930146217346\n",
      "Epoch:  45  -  2.9802258014678955\n",
      "Epoch:  46  -  2.9384446144104004\n",
      "Epoch:  47  -  2.8968852162361145\n",
      "Epoch:  48  -  2.855577051639557\n",
      "Epoch:  49  -  2.814545750617981\n",
      "Epoch:  50  -  2.7738305926322937\n",
      "Epoch:  51  -  2.73346608877182\n",
      "Epoch:  52  -  2.6934847831726074\n",
      "Epoch:  53  -  2.653920531272888\n",
      "Epoch:  54  -  2.614803373813629\n",
      "Epoch:  55  -  2.576159954071045\n",
      "Epoch:  56  -  2.5380228757858276\n",
      "Epoch:  57  -  2.5004236698150635\n",
      "Epoch:  58  -  2.4633906483650208\n",
      "Epoch:  59  -  2.426951050758362\n",
      "[CV] END ..................., score=(train=0.446, test=0.411) total time=  45.2s\n",
      "Epoch:  0  -  4.515395259857177\n",
      "Epoch:  1  -  4.47796401977539\n",
      "Epoch:  2  -  4.4364971160888675\n",
      "Epoch:  3  -  4.391810607910156\n",
      "Epoch:  4  -  4.344548320770263\n",
      "Epoch:  5  -  4.2953941345214846\n",
      "Epoch:  6  -  4.245058250427246\n",
      "Epoch:  7  -  4.193891811370849\n",
      "Epoch:  8  -  4.142265129089355\n",
      "Epoch:  9  -  4.090481090545654\n",
      "Epoch:  10  -  4.038634300231934\n",
      "Epoch:  11  -  3.986733245849609\n",
      "Epoch:  12  -  3.934777307510376\n",
      "Epoch:  13  -  3.88275351524353\n",
      "Epoch:  14  -  3.8306532382965086\n",
      "Epoch:  15  -  3.778467226028442\n",
      "Epoch:  16  -  3.7261893272399904\n",
      "Epoch:  17  -  3.673810529708862\n",
      "Epoch:  18  -  3.6213342189788817\n",
      "Epoch:  19  -  3.56876425743103\n",
      "Epoch:  20  -  3.5161096096038817\n",
      "Epoch:  21  -  3.4633806228637694\n",
      "Epoch:  22  -  3.4105911254882812\n",
      "Epoch:  23  -  3.357757043838501\n",
      "Epoch:  24  -  3.3048990249633787\n",
      "Epoch:  25  -  3.2520471096038817\n",
      "Epoch:  26  -  3.199228811264038\n",
      "Epoch:  27  -  3.146481418609619\n",
      "Epoch:  28  -  3.0938458919525145\n",
      "Epoch:  29  -  3.0413618087768555\n",
      "Epoch:  30  -  2.989079713821411\n",
      "Epoch:  31  -  2.93705267906189\n",
      "Epoch:  32  -  2.8853320121765136\n",
      "Epoch:  33  -  2.8339747905731203\n",
      "Epoch:  34  -  2.783044767379761\n",
      "Epoch:  35  -  2.7325973987579344\n",
      "Epoch:  36  -  2.682691192626953\n",
      "Epoch:  37  -  2.6333970546722414\n",
      "Epoch:  38  -  2.5847795009613037\n",
      "Epoch:  39  -  2.5368985176086425\n",
      "Epoch:  40  -  2.489815282821655\n",
      "Epoch:  41  -  2.4435925006866457\n",
      "Epoch:  42  -  2.3982821464538575\n",
      "Epoch:  43  -  2.3539363384246825\n",
      "Epoch:  44  -  2.3105998039245605\n",
      "Epoch:  45  -  2.268309545516968\n",
      "Epoch:  46  -  2.2271015644073486\n",
      "Epoch:  47  -  2.1870165348052977\n",
      "Epoch:  48  -  2.1480785369873048\n",
      "Epoch:  49  -  2.1103028297424316\n",
      "Epoch:  50  -  2.0737087726593018\n",
      "Epoch:  51  -  2.0383073329925536\n",
      "Epoch:  52  -  2.004103446006775\n",
      "Epoch:  53  -  1.971090054512024\n",
      "Epoch:  54  -  1.939261221885681\n",
      "Epoch:  55  -  1.9086111068725586\n",
      "Epoch:  56  -  1.8791219472885132\n",
      "Epoch:  57  -  1.8507742881774902\n",
      "Epoch:  58  -  1.823545503616333\n",
      "Epoch:  59  -  1.7974109411239625\n",
      "[CV] END ..................., score=(train=0.453, test=0.431) total time=  58.3s\n"
     ]
    },
    {
     "name": "stderr",
     "output_type": "stream",
     "text": [
      "[Parallel(n_jobs=1)]: Done  10 out of  10 | elapsed:  5.3min finished\n"
     ]
    }
   ],
   "source": [
    "nn_tuned_learning_curve = LearningCurve(nn_tuned_clf, scoring=recall_scorer, n_splits=2)\n",
    "nn_tuned_learning_curve.run(X_train_samp, y_train_samp)\n",
    "nn_tuned_learning_curve_plot = LearningCurvePlot(experiment=nn_tuned_learning_curve)"
   ]
  },
  {
   "cell_type": "code",
   "execution_count": null,
   "id": "623dd5be",
   "metadata": {},
   "outputs": [
    {
     "name": "stderr",
     "output_type": "stream",
     "text": [
      "[Parallel(n_jobs=1)]: Using backend SequentialBackend with 1 concurrent workers.\n"
     ]
    },
    {
     "name": "stdout",
     "output_type": "stream",
     "text": [
      "Epoch:  0  -  4.608843530927386\n",
      "Epoch:  1  -  4.573557104383196\n",
      "Epoch:  2  -  4.531754629952567\n",
      "Epoch:  3  -  4.485419477735247\n",
      "Epoch:  4  -  4.436138766152518\n",
      "Epoch:  5  -  4.384839807237897\n",
      "Epoch:  6  -  4.332160949707031\n",
      "Epoch:  7  -  4.278037888663156\n",
      "Epoch:  8  -  4.222313472202846\n",
      "Epoch:  9  -  4.164631230490548\n",
      "Epoch:  10  -  4.104531901223319\n",
      "Epoch:  11  -  4.041524274008615\n",
      "Epoch:  12  -  3.9754758221762523\n",
      "Epoch:  13  -  3.9065960475376675\n",
      "Epoch:  14  -  3.835500921521868\n",
      "Epoch:  15  -  3.762664658682687\n",
      "Epoch:  16  -  3.6887220314570834\n",
      "Epoch:  17  -  3.613925422940935\n",
      "Epoch:  18  -  3.538696357182094\n",
      "Epoch:  19  -  3.463353259222848\n",
      "Epoch:  20  -  3.388050522123064\n",
      "Epoch:  21  -  3.3128821849823\n",
      "Epoch:  22  -  3.237940175192697\n",
      "Epoch:  23  -  3.1633289882114957\n",
      "Epoch:  24  -  3.089163030896868\n",
      "Epoch:  25  -  3.015575477055141\n",
      "Epoch:  26  -  2.942694459642683\n",
      "Epoch:  27  -  2.870666469846453\n",
      "Epoch:  28  -  2.799644776753017\n",
      "Epoch:  29  -  2.7297758034297397\n",
      "Epoch:  30  -  2.6612023966653005\n",
      "Epoch:  31  -  2.594081129346575\n",
      "Epoch:  32  -  2.528548921857561\n",
      "Epoch:  33  -  2.4647444997515\n",
      "Epoch:  34  -  2.4027767862592424\n",
      "Epoch:  35  -  2.3427600179399763\n",
      "Epoch:  36  -  2.2847813197544644\n",
      "Epoch:  37  -  2.2289096287318637\n",
      "Epoch:  38  -  2.175192322049822\n",
      "Epoch:  39  -  2.123657839638846\n",
      "Epoch:  40  -  2.07432678767613\n",
      "Epoch:  41  -  2.0272038323538646\n",
      "Epoch:  42  -  1.982271637235369\n",
      "Epoch:  43  -  1.9395017453602381\n",
      "Epoch:  44  -  1.8988526208060128\n",
      "Epoch:  45  -  1.8602749790464128\n",
      "Epoch:  46  -  1.8237124681472778\n",
      "Epoch:  47  -  1.7890949589865548\n",
      "Epoch:  48  -  1.7563511984688895\n",
      "Epoch:  49  -  1.7254049607685633\n",
      "Epoch:  50  -  1.6961736168180193\n",
      "Epoch:  51  -  1.6685737030846732\n",
      "Epoch:  52  -  1.6425152846745081\n",
      "Epoch:  53  -  1.6179181848253523\n",
      "Epoch:  54  -  1.5947027717317854\n",
      "Epoch:  55  -  1.572791474206107\n",
      "Epoch:  56  -  1.552107231957572\n",
      "Epoch:  57  -  1.5325785705021449\n",
      "Epoch:  58  -  1.5141338280269079\n",
      "Epoch:  59  -  1.4967050211770194\n",
      "[CV] END ..................., score=(train=0.450, test=0.432) total time= 1.3min\n"
     ]
    },
    {
     "name": "stderr",
     "output_type": "stream",
     "text": [
      "[Parallel(n_jobs=1)]: Done   1 out of   1 | elapsed:  1.3min remaining:    0.0s\n"
     ]
    },
    {
     "name": "stdout",
     "output_type": "stream",
     "text": [
      "Epoch:  0  -  4.691572325570243\n",
      "Epoch:  1  -  4.688056128365653\n",
      "Epoch:  2  -  4.683796746390207\n",
      "Epoch:  3  -  4.678586823599679\n",
      "Epoch:  4  -  4.672211919512067\n",
      "Epoch:  5  -  4.66446624483381\n",
      "Epoch:  6  -  4.654956749507359\n",
      "Epoch:  7  -  4.6431194714137485\n",
      "Epoch:  8  -  4.628230844225202\n",
      "Epoch:  9  -  4.6102617127554755\n",
      "Epoch:  10  -  4.589081832340786\n",
      "Epoch:  11  -  4.564395836421421\n",
      "Epoch:  12  -  4.535942077636719\n",
      "Epoch:  13  -  4.503895078386579\n",
      "Epoch:  14  -  4.468145029885428\n",
      "Epoch:  15  -  4.4284612110682895\n",
      "Epoch:  16  -  4.384748458862305\n",
      "Epoch:  17  -  4.33709716796875\n",
      "Epoch:  18  -  4.286117826189313\n",
      "Epoch:  19  -  4.232200963156564\n",
      "Epoch:  20  -  4.175571850367954\n",
      "Epoch:  21  -  4.11670936856951\n",
      "Epoch:  22  -  4.055778094700405\n",
      "Epoch:  23  -  3.9927052429744174\n",
      "Epoch:  24  -  3.927405527659825\n",
      "Epoch:  25  -  3.859917095729283\n",
      "Epoch:  26  -  3.790203196661813\n",
      "Epoch:  27  -  3.7184485026768277\n",
      "Epoch:  28  -  3.6447841780526296\n",
      "Epoch:  29  -  3.5696707453046526\n",
      "Epoch:  30  -  3.4937755720955983\n",
      "Epoch:  31  -  3.417524746486119\n",
      "Epoch:  32  -  3.341357912336077\n",
      "Epoch:  33  -  3.265460899897984\n",
      "Epoch:  34  -  3.1899686881474087\n",
      "Epoch:  35  -  3.1150075367518832\n",
      "Epoch:  36  -  3.040722233908517\n",
      "Epoch:  37  -  2.9672506536756242\n",
      "Epoch:  38  -  2.894740002495902\n",
      "Epoch:  39  -  2.823337044034685\n",
      "Epoch:  40  -  2.7531893934522356\n",
      "Epoch:  41  -  2.684428862162999\n"
     ]
    }
   ],
   "source": [
    "nn_tuned_cv = CrossValidation(nn_tuned_clf, scoring=recall_scorer, n_splits=3)\n",
    "nn_tuned_cv.run(X_train_samp, y_train_samp)\n",
    "nn_tuned_cv_folds = CrossValidationFolds(experiment=nn_tuned_cv)"
   ]
  },
  {
   "cell_type": "code",
   "execution_count": null,
   "id": "2235b8f0",
   "metadata": {},
   "outputs": [],
   "source": [
    "nn_clf = NeuralNetworkClassifier(\n",
    "    epochs=100, \n",
    "    n_layers=2, \n",
    "    out_features=600,\n",
    "    learning_rate=0.00009,\n",
    "    in_features=X_train.shape[1],\n",
    "    activation_fn=nn.ReLU,\n",
    "    verbose=True\n",
    ") \n",
    "tuned_learning_curve_epochs = LearningCurveEpochs(\n",
    "    nn_clf, \n",
    "    scoring='cross-entropy', \n",
    "    n_splits=3\n",
    ")\n",
    "tuned_learning_curve_epochs.run(X_train_samp, y_train_samp)\n",
    "tuned_learning_curve_epochs_plot = LearningEpochsCurvePlot(experiment=tuned_learning_curve_epochs)"
   ]
  },
  {
   "cell_type": "code",
   "execution_count": null,
   "id": "2b1bc248",
   "metadata": {},
   "outputs": [],
   "source": [
    "nn_train_curv_fig, axs = plt.subplots(1, 3, figsize=(16, 4))\n",
    "_, ax = nn_untuned_learning_curve_plot.plot(ax=axs[0], ymin=0.0, ymax=1.02)\n",
    "_, ax = nn_tuned_learning_curve_plot.plot(ax=axs[1], ymin=0.0, ymax=1.02)\n",
    "# _, ax = nn_tuned_cv_folds.plot(ax=axs[2])\n",
    "_, ax = tuned_learning_curve_epochs_plot.plot(ax=axs[2])"
   ]
  },
  {
   "cell_type": "code",
   "execution_count": null,
   "id": "f24ed2dc",
   "metadata": {},
   "outputs": [],
   "source": [
    "nn_train_curv_fig.savefig(\n",
    "    \"../out/SNLI/NeuralNetwork/Learning Curves - Report.png\",  \n",
    "    bbox_inches='tight',\n",
    "    dpi=800\n",
    ")"
   ]
  },
  {
   "cell_type": "code",
   "execution_count": null,
   "id": "65161377",
   "metadata": {},
   "outputs": [],
   "source": [
    "nn_nodes_val_curv = ValidationCurve(\n",
    "    NeuralNetworkClassifier(\n",
    "        epochs=60, \n",
    "        n_layers=2, \n",
    "        learning_rate=0.001,\n",
    "        in_features=X_train.shape[1],\n",
    "        activation_fn=nn.ReLU,\n",
    "        verbose=True\n",
    "    ), \n",
    "    'out_features', \n",
    "    [25, 50, 100, 200],\n",
    "    scoring=recall_scorer,\n",
    "    n_splits=2\n",
    ")\n",
    "nn_nodes_val_curv.run(X_train_samp, y_train_samp)\n",
    "nn_nodes_val_curv_plot = ValidationCurvePlot(experiment=nn_nodes_val_curv)"
   ]
  },
  {
   "cell_type": "code",
   "execution_count": null,
   "id": "e09734f7",
   "metadata": {},
   "outputs": [],
   "source": [
    "nn_lr_val_curv = ValidationCurve(\n",
    "    NeuralNetworkClassifier(\n",
    "        epochs=40, \n",
    "        n_layers=2, \n",
    "        in_features=X_train.shape[1],\n",
    "        activation_fn=nn.ReLU,\n",
    "        out_features=100,\n",
    "        verbose=True\n",
    "    ), \n",
    "    'learning_rate', \n",
    "    [0.0001, 0.001, 0.01, 0.1],\n",
    "    scoring=recall_scorer,\n",
    "    n_splits=2\n",
    ")\n",
    "nn_lr_val_curv.run(X_train_samp, y_train_samp)\n",
    "nn_lr_val_curv_plot = ValidationCurvePlot(experiment=nn_lr_val_curv)"
   ]
  },
  {
   "cell_type": "code",
   "execution_count": null,
   "id": "c9e83b56",
   "metadata": {},
   "outputs": [],
   "source": [
    "nn_val_curvs_fig, axs = plt.subplots(1, 2, figsize=(10, 4))\n",
    "_, ax = nn_nodes_val_curv_plot.plot(ax=axs[0])\n",
    "_, ax = nn_lr_val_curv_plot.plot(ax=axs[1])"
   ]
  },
  {
   "cell_type": "code",
   "execution_count": null,
   "id": "3bc40665",
   "metadata": {},
   "outputs": [],
   "source": [
    "nn_val_curvs_fig.savefig(\n",
    "    \"../out/SNLI/NeuralNetwork/Validation Curves - Report.png\",  \n",
    "    bbox_inches='tight',\n",
    "    dpi=800\n",
    ")"
   ]
  },
  {
   "cell_type": "code",
   "execution_count": 98,
   "id": "24f443a0",
   "metadata": {},
   "outputs": [
    {
     "name": "stdout",
     "output_type": "stream",
     "text": [
      "Epoch:  0  -  4.620053243637085\n",
      "Epoch:  1  -  4.57956166267395\n",
      "Epoch:  2  -  4.521323919296265\n",
      "Epoch:  3  -  4.444879579544067\n",
      "Epoch:  4  -  4.355063724517822\n",
      "Epoch:  5  -  4.259822368621826\n",
      "Epoch:  6  -  4.162961626052857\n",
      "Epoch:  7  -  4.0656801700592045\n",
      "Epoch:  8  -  3.9680662870407106\n",
      "Epoch:  9  -  3.870047450065613\n",
      "NeuralNetworkClassifier(epochs=10, in_features=150, learning_rate=0.005,\n",
      "                        verbose=True)\n",
      "              precision    recall  f1-score   support\n",
      "\n",
      "           0       0.33      0.12      0.17      3237\n",
      "           1       0.36      0.50      0.42      3368\n",
      "           2       0.34      0.41      0.37      3219\n",
      "          49       0.00      0.00      0.00         0\n",
      "          83       0.00      0.00      0.00         0\n",
      "\n",
      "    accuracy                           0.34      9824\n",
      "   macro avg       0.20      0.21      0.19      9824\n",
      "weighted avg       0.34      0.34      0.32      9824\n",
      "\n"
     ]
    },
    {
     "name": "stderr",
     "output_type": "stream",
     "text": [
      "/Users/jplatta/.asdf/installs/python/3.10.6/lib/python3.10/site-packages/sklearn/metrics/_classification.py:1327: UndefinedMetricWarning: Recall and F-score are ill-defined and being set to 0.0 in labels with no true samples. Use `zero_division` parameter to control this behavior.\n",
      "  _warn_prf(average, modifier, msg_start, len(result))\n",
      "/Users/jplatta/.asdf/installs/python/3.10.6/lib/python3.10/site-packages/sklearn/metrics/_classification.py:1327: UndefinedMetricWarning: Recall and F-score are ill-defined and being set to 0.0 in labels with no true samples. Use `zero_division` parameter to control this behavior.\n",
      "  _warn_prf(average, modifier, msg_start, len(result))\n",
      "/Users/jplatta/.asdf/installs/python/3.10.6/lib/python3.10/site-packages/sklearn/metrics/_classification.py:1327: UndefinedMetricWarning: Recall and F-score are ill-defined and being set to 0.0 in labels with no true samples. Use `zero_division` parameter to control this behavior.\n",
      "  _warn_prf(average, modifier, msg_start, len(result))\n"
     ]
    }
   ],
   "source": [
    "nn_tuned_model_eval = ModelEvaluation(nn_tuned_clf)\n",
    "nn_tuned_model_eval.run(X_train[:10000], y_train[:10000], snli_data.X_test, snli_data.y_test)\n",
    "print(nn_tuned_model_eval.model)\n",
    "print(ClassificationReport(experiment=nn_tuned_model_eval).plot())"
   ]
  },
  {
   "cell_type": "markdown",
   "id": "090e6765",
   "metadata": {},
   "source": [
    "## Compare Wall Clock Times"
   ]
  },
  {
   "cell_type": "code",
   "execution_count": 101,
   "id": "746b9fad",
   "metadata": {},
   "outputs": [],
   "source": [
    "compare_fit_scores_times_plot = CompareFitScoreTimes(experiments=[\n",
    "    dt_tuned_learning_curve, \n",
    "    svm_tuned_learning_curve, \n",
    "    knn_tuned_learning_curve,\n",
    "    ada_tuned_learning_curve,\n",
    "    nn_tuned_learning_curve\n",
    "])"
   ]
  },
  {
   "cell_type": "code",
   "execution_count": 102,
   "id": "7076e6ec",
   "metadata": {},
   "outputs": [
    {
     "data": {
      "image/png": "[encoded data removed]",
      "text/plain": [
       "<Figure size 1152x432 with 2 Axes>"
      ]
     },
     "metadata": {
      "needs_background": "light"
     },
     "output_type": "display_data"
    }
   ],
   "source": [
    "compare_fit_scores_times_fig, ax = compare_fit_scores_times_plot.plot(figsize=(16, 6))"
   ]
  },
  {
   "cell_type": "code",
   "execution_count": 104,
   "id": "001aee5d",
   "metadata": {},
   "outputs": [],
   "source": [
    "compare_fit_scores_times_fig.savefig(\n",
    "    \"../out/SNLI/Compare Fit and Times - Report.png\",  \n",
    "    bbox_inches='tight',\n",
    "    dpi=800\n",
    ")"
   ]
  }
 ],
 "metadata": {
  "kernelspec": {
   "display_name": "Python 3 (ipykernel)",
   "language": "python",
   "name": "python3"
  },
  "language_info": {
   "codemirror_mode": {
    "name": "ipython",
    "version": 3
   },
   "file_extension": ".py",
   "mimetype": "text/x-python",
   "name": "python",
   "nbconvert_exporter": "python",
   "pygments_lexer": "ipython3",
   "version": "3.10.6"
  }
 },
 "nbformat": 4,
 "nbformat_minor": 5
}
